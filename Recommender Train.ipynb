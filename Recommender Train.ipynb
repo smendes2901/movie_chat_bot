{
 "cells": [
  {
   "cell_type": "code",
   "execution_count": 1,
   "id": "85ab47c4-3060-466b-9dda-82c3b4a14598",
   "metadata": {},
   "outputs": [],
   "source": [
    "from torch.utils.data import DataLoader\n",
    "import math\n",
    "from sentence_transformers import SentenceTransformer,  LoggingHandler, losses, models, util\n",
    "from sentence_transformers.evaluation import EmbeddingSimilarityEvaluator\n",
    "from sentence_transformers.readers import InputExample\n",
    "import pandas as pd\n",
    "import numpy as np\n",
    "import os"
   ]
  },
  {
   "cell_type": "code",
   "execution_count": 2,
   "id": "806c762d-feb9-4f24-b9f8-cb82e1d9e4e6",
   "metadata": {},
   "outputs": [],
   "source": [
    "train = pd.read_csv(\"datasets/movie_datasets/imdb/recom_train.csv\")\n",
    "val = pd.read_csv(\"datasets/movie_datasets/imdb/recom_test.csv\")\n",
    "test = pd.read_csv(\"datasets/movie_datasets/imdb/recom_test.csv\")"
   ]
  },
  {
   "cell_type": "code",
   "execution_count": 3,
   "id": "21928a6a-00d9-44cc-ba01-d2d92fd6878b",
   "metadata": {},
   "outputs": [
    {
     "data": {
      "text/html": [
       "<div>\n",
       "<style scoped>\n",
       "    .dataframe tbody tr th:only-of-type {\n",
       "        vertical-align: middle;\n",
       "    }\n",
       "\n",
       "    .dataframe tbody tr th {\n",
       "        vertical-align: top;\n",
       "    }\n",
       "\n",
       "    .dataframe thead th {\n",
       "        text-align: right;\n",
       "    }\n",
       "</style>\n",
       "<table border=\"1\" class=\"dataframe\">\n",
       "  <thead>\n",
       "    <tr style=\"text-align: right;\">\n",
       "      <th></th>\n",
       "      <th>anchor</th>\n",
       "      <th>sample</th>\n",
       "      <th>label</th>\n",
       "    </tr>\n",
       "  </thead>\n",
       "  <tbody>\n",
       "    <tr>\n",
       "      <th>0</th>\n",
       "      <td>The movie Interstellar was released in the yea...</td>\n",
       "      <td>The movie Goodfellas was released in the year ...</td>\n",
       "      <td>0</td>\n",
       "    </tr>\n",
       "    <tr>\n",
       "      <th>1</th>\n",
       "      <td>The movie The Christmas Chronicles was release...</td>\n",
       "      <td>The movie Minnal Murali was released in the ye...</td>\n",
       "      <td>0</td>\n",
       "    </tr>\n",
       "    <tr>\n",
       "      <th>2</th>\n",
       "      <td>The movie The Babadook was released in the yea...</td>\n",
       "      <td>The movie Me Before You was released in the ye...</td>\n",
       "      <td>0</td>\n",
       "    </tr>\n",
       "    <tr>\n",
       "      <th>3</th>\n",
       "      <td>The movie The Host was released in the year 20...</td>\n",
       "      <td>The movie The Witch Files was released in the ...</td>\n",
       "      <td>1</td>\n",
       "    </tr>\n",
       "    <tr>\n",
       "      <th>4</th>\n",
       "      <td>The movie Fargo was released in the year 1996 ...</td>\n",
       "      <td>The movie The Nice Guys was released in the ye...</td>\n",
       "      <td>1</td>\n",
       "    </tr>\n",
       "  </tbody>\n",
       "</table>\n",
       "</div>"
      ],
      "text/plain": [
       "                                              anchor  \\\n",
       "0  The movie Interstellar was released in the yea...   \n",
       "1  The movie The Christmas Chronicles was release...   \n",
       "2  The movie The Babadook was released in the yea...   \n",
       "3  The movie The Host was released in the year 20...   \n",
       "4  The movie Fargo was released in the year 1996 ...   \n",
       "\n",
       "                                              sample  label  \n",
       "0  The movie Goodfellas was released in the year ...      0  \n",
       "1  The movie Minnal Murali was released in the ye...      0  \n",
       "2  The movie Me Before You was released in the ye...      0  \n",
       "3  The movie The Witch Files was released in the ...      1  \n",
       "4  The movie The Nice Guys was released in the ye...      1  "
      ]
     },
     "execution_count": 3,
     "metadata": {},
     "output_type": "execute_result"
    }
   ],
   "source": [
    "train.head()"
   ]
  },
  {
   "cell_type": "code",
   "execution_count": 4,
   "id": "e985bf3a-2615-46e5-8f6f-f45e206bbd68",
   "metadata": {},
   "outputs": [
    {
     "data": {
      "text/plain": [
       "(110448, 3)"
      ]
     },
     "execution_count": 4,
     "metadata": {},
     "output_type": "execute_result"
    }
   ],
   "source": [
    "train.shape"
   ]
  },
  {
   "cell_type": "code",
   "execution_count": 5,
   "id": "6ebb99e9-d018-47bd-8ca2-38ec6eb34a99",
   "metadata": {},
   "outputs": [
    {
     "data": {
      "text/plain": [
       "(15940, 3)"
      ]
     },
     "execution_count": 5,
     "metadata": {},
     "output_type": "execute_result"
    }
   ],
   "source": [
    "val.shape"
   ]
  },
  {
   "cell_type": "code",
   "execution_count": 7,
   "id": "18ff0bc8-5dc2-460b-b760-0c71a8d67e22",
   "metadata": {},
   "outputs": [],
   "source": [
    "train_samples = []\n",
    "for _,  row in train.iterrows():\n",
    "    train_samples.append(InputExample(texts=[row[\"anchor\"], row[\"sample\"]], label=np.float32(row[\"label\"])))\n",
    "\n",
    "dev_samples = []\n",
    "for _, row in val.iterrows():\n",
    "    dev_samples.append(InputExample(texts=[row[\"anchor\"], row[\"sample\"]], label=np.float32(row[\"label\"])))"
   ]
  },
  {
   "cell_type": "code",
   "execution_count": 8,
   "id": "eeb1445f-09e8-4735-9f6e-d946e57a8ca2",
   "metadata": {},
   "outputs": [],
   "source": [
    "model_name=\"sentence-transformers/all-MiniLM-L6-v2\""
   ]
  },
  {
   "cell_type": "code",
   "execution_count": 9,
   "id": "fb69d175-cd50-43f4-89bf-a7e326f6c5e8",
   "metadata": {},
   "outputs": [],
   "source": [
    "word_embedding_model = models.Transformer(model_name)\n",
    "\n",
    "pooling_model = models.Pooling(word_embedding_model.get_word_embedding_dimension(),\n",
    "                               pooling_mode_mean_tokens=True,\n",
    "                               pooling_mode_cls_token=False,\n",
    "                               pooling_mode_max_tokens=False)"
   ]
  },
  {
   "cell_type": "code",
   "execution_count": 10,
   "id": "349c34d5-0d25-4b06-a103-047688438166",
   "metadata": {},
   "outputs": [],
   "source": [
    "model = SentenceTransformer(modules=[word_embedding_model, pooling_model], device=0)"
   ]
  },
  {
   "cell_type": "code",
   "execution_count": 11,
   "id": "2fba9034-74df-45e7-aa52-2b42397b1f15",
   "metadata": {},
   "outputs": [],
   "source": [
    "train_dataloader = DataLoader(train_samples, shuffle=True, batch_size=32)\n",
    "train_loss = losses.ContrastiveLoss(model=model)"
   ]
  },
  {
   "cell_type": "code",
   "execution_count": 12,
   "id": "0971beb5-b37d-4b63-b13a-2fa12aa93e1c",
   "metadata": {},
   "outputs": [],
   "source": [
    "evaluator = EmbeddingSimilarityEvaluator.from_input_examples(dev_samples, name='dev')"
   ]
  },
  {
   "cell_type": "code",
   "execution_count": 13,
   "id": "26f2f56e-2480-4095-b50b-d354ab56fd7c",
   "metadata": {},
   "outputs": [],
   "source": [
    "warmup_steps = math.ceil(len(train_dataloader) * 2 * 0.1) #10% of train data for warm-up"
   ]
  },
  {
   "cell_type": "code",
   "execution_count": 14,
   "id": "2ca5f416-0ea8-4f56-aa2b-55c6b7ebc2d3",
   "metadata": {},
   "outputs": [],
   "source": [
    "output_path = \"./model_output\""
   ]
  },
  {
   "cell_type": "code",
   "execution_count": 15,
   "id": "3fc1caac-d4dd-40b9-abd3-e526a2884a57",
   "metadata": {},
   "outputs": [
    {
     "data": {
      "application/vnd.jupyter.widget-view+json": {
       "model_id": "fd0a2816c49d430ab7e46c1411e346c4",
       "version_major": 2,
       "version_minor": 0
      },
      "text/plain": [
       "Epoch:   0%|          | 0/2 [00:00<?, ?it/s]"
      ]
     },
     "metadata": {},
     "output_type": "display_data"
    },
    {
     "data": {
      "application/vnd.jupyter.widget-view+json": {
       "model_id": "72a2479e4a1643a49ce89ca5e57d59ad",
       "version_major": 2,
       "version_minor": 0
      },
      "text/plain": [
       "Iteration:   0%|          | 0/3452 [00:00<?, ?it/s]"
      ]
     },
     "metadata": {},
     "output_type": "display_data"
    }
   ],
   "source": [
    "model.fit(train_objectives=[(train_dataloader, train_loss)],\n",
    "          evaluator=evaluator,\n",
    "          epochs=2,\n",
    "          evaluation_steps=1_000,\n",
    "          warmup_steps=warmup_steps,\n",
    "          output_path=os.path.join(output_path, model_name.replace(\"/\",\"-\")))"
   ]
  },
  {
   "cell_type": "markdown",
   "id": "298cbe81-ce6e-48f4-87ee-2eb81a9bb6c5",
   "metadata": {},
   "source": [
    "# Inference"
   ]
  },
  {
   "cell_type": "code",
   "execution_count": 1,
   "id": "006165a7-131e-43ee-a385-135522e518a7",
   "metadata": {},
   "outputs": [],
   "source": [
    "import pandas as pd\n",
    "import numpy as np\n",
    "from tqdm import tqdm\n",
    "from sentence_transformers import SentenceTransformer,  models, util\n",
    "tqdm.pandas()"
   ]
  },
  {
   "cell_type": "code",
   "execution_count": 2,
   "id": "75df7c44-bb27-4a06-a908-aad4bab5d554",
   "metadata": {},
   "outputs": [],
   "source": [
    "movie_complete = pd.read_csv(\"./datasets/movie_datasets/imdb/movie_complete_clean.csv\")\n",
    "test = pd.read_csv(\"datasets/movie_datasets/imdb/recom_test.csv\")\n",
    "recommendation_array = np.load(\"./datasets/movie_datasets/imdb/recommendation_array.npy\", allow_pickle=True)"
   ]
  },
  {
   "cell_type": "code",
   "execution_count": 3,
   "metadata": {},
   "outputs": [],
   "source": [
    "def format_text(details):\n",
    "    return f'The movie {details[\"originalTitle\"]} was released in the year {details[\"startYear\"]} is a {details[\"genres\"]} with a  runtime of {details[\"runtimeMinutes\"]} minutes'\n"
   ]
  },
  {
   "cell_type": "code",
   "execution_count": 4,
   "metadata": {},
   "outputs": [
    {
     "name": "stderr",
     "output_type": "stream",
     "text": [
      "  0%|          | 0/499864 [00:00<?, ?it/s]"
     ]
    },
    {
     "name": "stderr",
     "output_type": "stream",
     "text": [
      "100%|██████████| 499864/499864 [00:04<00:00, 100040.23it/s]\n"
     ]
    }
   ],
   "source": [
    "movie_complete[\"details\"]  = movie_complete.progress_apply(format_text, axis=1)"
   ]
  },
  {
   "cell_type": "code",
   "execution_count": 5,
   "id": "19c56c9d-4681-4a81-8dbd-06425ba27d79",
   "metadata": {},
   "outputs": [],
   "source": [
    "trained_model = SentenceTransformer(\"reco_output/sentence-transformers-all-MiniLM-L6-v2\")"
   ]
  },
  {
   "cell_type": "code",
   "execution_count": 6,
   "id": "8da965f9-06a3-45c7-b74e-560c68df102c",
   "metadata": {},
   "outputs": [
    {
     "data": {
      "text/html": [
       "<div>\n",
       "<style scoped>\n",
       "    .dataframe tbody tr th:only-of-type {\n",
       "        vertical-align: middle;\n",
       "    }\n",
       "\n",
       "    .dataframe tbody tr th {\n",
       "        vertical-align: top;\n",
       "    }\n",
       "\n",
       "    .dataframe thead th {\n",
       "        text-align: right;\n",
       "    }\n",
       "</style>\n",
       "<table border=\"1\" class=\"dataframe\">\n",
       "  <thead>\n",
       "    <tr style=\"text-align: right;\">\n",
       "      <th></th>\n",
       "      <th>anchor</th>\n",
       "      <th>sample</th>\n",
       "      <th>label</th>\n",
       "    </tr>\n",
       "  </thead>\n",
       "  <tbody>\n",
       "    <tr>\n",
       "      <th>3310</th>\n",
       "      <td>The movie Doctor Sleep was released in the yea...</td>\n",
       "      <td>The movie Mother India was released in the yea...</td>\n",
       "      <td>0</td>\n",
       "    </tr>\n",
       "    <tr>\n",
       "      <th>9140</th>\n",
       "      <td>The movie Insidious was released in the year 2...</td>\n",
       "      <td>The movie The Long Goodbye was released in the...</td>\n",
       "      <td>0</td>\n",
       "    </tr>\n",
       "    <tr>\n",
       "      <th>9877</th>\n",
       "      <td>The movie The Curious Case of Benjamin Button ...</td>\n",
       "      <td>The movie The Strange Case of the Law was rele...</td>\n",
       "      <td>0</td>\n",
       "    </tr>\n",
       "    <tr>\n",
       "      <th>9967</th>\n",
       "      <td>The movie Midsommar was released in the year 2...</td>\n",
       "      <td>The movie Call Me by Your Name was released in...</td>\n",
       "      <td>0</td>\n",
       "    </tr>\n",
       "    <tr>\n",
       "      <th>9624</th>\n",
       "      <td>The movie Insidious: Chapter 3 was released in...</td>\n",
       "      <td>The movie Annabelle was released in the year 2...</td>\n",
       "      <td>1</td>\n",
       "    </tr>\n",
       "  </tbody>\n",
       "</table>\n",
       "</div>"
      ],
      "text/plain": [
       "                                                 anchor  \\\n",
       "3310  The movie Doctor Sleep was released in the yea...   \n",
       "9140  The movie Insidious was released in the year 2...   \n",
       "9877  The movie The Curious Case of Benjamin Button ...   \n",
       "9967  The movie Midsommar was released in the year 2...   \n",
       "9624  The movie Insidious: Chapter 3 was released in...   \n",
       "\n",
       "                                                 sample  label  \n",
       "3310  The movie Mother India was released in the yea...      0  \n",
       "9140  The movie The Long Goodbye was released in the...      0  \n",
       "9877  The movie The Strange Case of the Law was rele...      0  \n",
       "9967  The movie Call Me by Your Name was released in...      0  \n",
       "9624  The movie Annabelle was released in the year 2...      1  "
      ]
     },
     "execution_count": 6,
     "metadata": {},
     "output_type": "execute_result"
    }
   ],
   "source": [
    "test.sample(5)"
   ]
  },
  {
   "cell_type": "code",
   "execution_count": 7,
   "metadata": {},
   "outputs": [
    {
     "data": {
      "application/vnd.jupyter.widget-view+json": {
       "model_id": "c0efa725e0354c288c5d1a10b4ae9172",
       "version_major": 2,
       "version_minor": 0
      },
      "text/plain": [
       "Batches:   0%|          | 0/15621 [00:00<?, ?it/s]"
      ]
     },
     "metadata": {},
     "output_type": "display_data"
    }
   ],
   "source": [
    "movies_embeddings = trained_model.encode(movie_complete[\"details\"].to_list(), convert_to_tensor=True, normalize_embeddings=True, show_progress_bar=True)"
   ]
  },
  {
   "cell_type": "code",
   "execution_count": 8,
   "id": "f270ec56-0eae-459c-b890-2669b763888e",
   "metadata": {},
   "outputs": [],
   "source": [
    "def generate_embeddings(model, question):\n",
    "    return model.encode(question, convert_to_tensor=True, normalize_embeddings=True, show_progress_bar=True)"
   ]
  },
  {
   "cell_type": "code",
   "execution_count": 9,
   "id": "37964691-fcd5-47b2-bc84-969d95aa89c2",
   "metadata": {},
   "outputs": [
    {
     "name": "stdout",
     "output_type": "stream",
     "text": [
      "The movie Dilwale Dulhania Le Jayenge was released in the year 1995 is a Drama,Romance with a  runtime of 189 minutes\n"
     ]
    },
    {
     "data": {
      "application/vnd.jupyter.widget-view+json": {
       "model_id": "8ea46929b7f34bf7aa0a4718d007fa5f",
       "version_major": 2,
       "version_minor": 0
      },
      "text/plain": [
       "Batches:   0%|          | 0/1 [00:00<?, ?it/s]"
      ]
     },
     "metadata": {},
     "output_type": "display_data"
    }
   ],
   "source": [
    "idx = 9311\n",
    "print(test[\"anchor\"].iloc[idx])\n",
    "question_embeddings = generate_embeddings(trained_model, test[\"anchor\"].iloc[idx])"
   ]
  },
  {
   "cell_type": "code",
   "execution_count": 18,
   "id": "cbb036f1-da58-4350-bd53-ef6dd7d1caaa",
   "metadata": {},
   "outputs": [
    {
     "name": "stdout",
     "output_type": "stream",
     "text": [
      "Dilwale Dulhania Le Jayenge tt0112870\n",
      "Afsana Dilwalon Ka tt0429541\n",
      "Kabhi Khushi Kabhie Gham... tt0248126\n",
      "Yeh Hai Jalwa tt0328671\n",
      "Tum Se Achcha Kaun Hai tt0318956\n",
      "Dil To Pagal Hai tt0118983\n",
      "Kabhie Kabhie tt0074730\n",
      "Meesha Madhavan tt0353725\n",
      "Dil Chahta Hai tt0292490\n",
      "Dil Dhadakne Do tt4110568\n",
      "English Babu Desi Mem tt0136153\n",
      "Dil... Akhir Dil Hai tt0384915\n",
      "Dil Hai Tumhaara tt0328998\n",
      "3 Idiots tt1187043\n",
      "Raaj tt1874689\n",
      "Pyar Ki Jeet tt0350005\n",
      "Dil Hai Ki Manta Nahin tt0101733\n",
      "Badhaai Ho Badhaai tt0325041\n",
      "Jab Pyaar Kisise Hota Hai tt0182251\n",
      "Doli Saja Ke Rakhna tt0207415\n",
      "Gondya Martay Tangda tt5900134\n",
      "Barfi! tt2082197\n",
      "Rocket Singh: Salesman of the Year tt1434447\n",
      "Money Hai Toh Honey Hai tt1126516\n",
      "Dil Se.. tt0164538\n",
      "Ye habe ghand tt1846445\n",
      "Pelli Choopulu tt5824826\n",
      "Dil Tera Aashiq tt0106725\n",
      "Anwar Ka Ajab Kissa tt3164774\n",
      "Kuch Naa Kaho tt0369637\n",
      "Dil Ka Rishta tt0330217\n",
      "Hello Memsaheb tt4773212\n",
      "Hawayein tt0378025\n",
      "Dilwale Kabhi Na Hare tt0400365\n",
      "Dilwale Dulhaniya Le Jayenge tt2714436\n",
      "Snehithan tt0357192\n",
      "Pardesi Babu tt0119862\n",
      "Bas Itna Sa Khwaab Hai... tt0283911\n",
      "No: 1 Sneha Theeram Bangalore North tt0271677\n",
      "Jhuk Gaya Aasman tt0290685\n",
      "Yeh Dil Aap Ka Huwa tt0327255\n",
      "Sanghaj tt1966571\n",
      "Ramji Londonwaley tt0476848\n",
      "Dulha Mil Gaya tt1182884\n",
      "Queen tt3322420\n",
      "Ghar Ghar Ki Kahani tt0231646\n",
      "Middle Class Madhavan tt6539198\n",
      "Porkkalam tt0169140\n",
      "Dola tt5483670\n",
      "Tum Mile tt1522329\n"
     ]
    }
   ],
   "source": [
    "for score in util.semantic_search(question_embeddings, movies_embeddings, top_k=50)[0]:\n",
    "    print(movie_complete[\"originalTitle\"].iloc[score[\"corpus_id\"]], movie_complete[\"tconst\"].iloc[score[\"corpus_id\"]])"
   ]
  },
  {
   "cell_type": "code",
   "execution_count": 16,
   "metadata": {},
   "outputs": [
    {
     "data": {
      "text/plain": [
       "'Dil Dhadakne Do'"
      ]
     },
     "execution_count": 16,
     "metadata": {},
     "output_type": "execute_result"
    }
   ],
   "source": []
  },
  {
   "cell_type": "code",
   "execution_count": 17,
   "id": "8b794f08-25a6-49df-91b9-be3809dcc55c",
   "metadata": {},
   "outputs": [
    {
     "name": "stdout",
     "output_type": "stream",
     "text": [
      "Baazigar\n",
      "Dilwale Dulhania Le Jayenge\n",
      "Kuch Kuch Hota Hai\n",
      "Kabhi Khushi Kabhie Gham...\n",
      "Devdas\n",
      "Taare Zameen Par\n",
      "Dil Dhadakne Do\n"
     ]
    }
   ],
   "source": [
    "for array in recommendation_array:\n",
    "    if \"tt0112870\" in array:\n",
    "        for tconst in array:\n",
    "            print(movie_complete[movie_complete[\"tconst\"]==tconst].values[0][1])\n",
    "        break"
   ]
  },
  {
   "cell_type": "code",
   "execution_count": null,
   "metadata": {},
   "outputs": [],
   "source": []
  }
 ],
 "metadata": {
  "kernelspec": {
   "display_name": "stevens",
   "language": "python",
   "name": "python3"
  },
  "language_info": {
   "codemirror_mode": {
    "name": "ipython",
    "version": 3
   },
   "file_extension": ".py",
   "mimetype": "text/x-python",
   "name": "python",
   "nbconvert_exporter": "python",
   "pygments_lexer": "ipython3",
   "version": "3.11.5"
  }
 },
 "nbformat": 4,
 "nbformat_minor": 5
}
