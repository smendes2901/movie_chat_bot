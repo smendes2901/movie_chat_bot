{
 "cells": [
  {
   "cell_type": "code",
   "execution_count": 1,
   "id": "6f4eeceb-a0a3-4c89-9781-e40481e54e68",
   "metadata": {},
   "outputs": [],
   "source": [
    "import requests\n",
    "from selectolax.parser import HTMLParser\n",
    "from bs4 import BeautifulSoup\n",
    "import sys"
   ]
  },
  {
   "cell_type": "code",
   "execution_count": 2,
   "id": "2232a5d1",
   "metadata": {},
   "outputs": [],
   "source": [
    "debug = {'verbose': sys.stderr}\n",
    "user_agent = {'User-agent': 'Mozilla/5.0'}"
   ]
  },
  {
   "cell_type": "code",
   "execution_count": 3,
   "id": "ef1abf28",
   "metadata": {},
   "outputs": [],
   "source": [
    "url_desc = \"https://www.imdb.com/title/tt0137818/\"\n",
    "response = requests.get(url_desc, headers = user_agent)"
   ]
  },
  {
   "cell_type": "code",
   "execution_count": 4,
   "id": "f62184d9",
   "metadata": {},
   "outputs": [],
   "source": [
    "soup =  BeautifulSoup(response.text)"
   ]
  },
  {
   "cell_type": "code",
   "execution_count": 5,
   "id": "ed478445",
   "metadata": {},
   "outputs": [
    {
     "data": {
      "text/plain": [
       "'Andy, an idealist medical student with a serious Elvis obsession, works to perfect his rat-to-rat brain transfer to \"help mankind and change the face of modern science\". After his final experiment fails and blows up, Andy loses his chance to travel abroad and study at the prestigious Reinhardt Institute. With his future in doubt, and with no place to live, his future ... Read all'"
      ]
     },
     "execution_count": 5,
     "metadata": {},
     "output_type": "execute_result"
    }
   ],
   "source": [
    "soup.findChild('span', class_=\"sc-466bb6c-2 chnFO\").text"
   ]
  },
  {
   "cell_type": "code",
   "execution_count": 6,
   "id": "b6208608",
   "metadata": {},
   "outputs": [],
   "source": [
    "url_summary = \"https://www.imdb.com/title/tt0000002/plotsummary/?ref_=tt_ov_pl\"\n",
    "response = requests.get(url_summary, headers = user_agent)"
   ]
  },
  {
   "cell_type": "code",
   "execution_count": 7,
   "id": "2a6547f7",
   "metadata": {},
   "outputs": [
    {
     "data": {
      "text/plain": [
       "'Short film of 300 individually painted images.'"
      ]
     },
     "execution_count": 7,
     "metadata": {},
     "output_type": "execute_result"
    }
   ],
   "source": [
    "soup =  BeautifulSoup(response.text)\n",
    "soup.findChild('div', class_=\"ipc-html-content-inner-div\").text"
   ]
  },
  {
   "cell_type": "code",
   "execution_count": 10,
   "id": "f8aed7a8-49ba-45ef-ad46-58c8fb7dfe65",
   "metadata": {},
   "outputs": [],
   "source": [
    "url_summary = \"https://www.imdb.com/title/tt0120737/plotsummary/\"\n",
    "response = requests.get(url_summary, headers = user_agent)"
   ]
  },
  {
   "cell_type": "code",
   "execution_count": 17,
   "id": "b01a9da7-508c-4ee4-a46b-05de39a45484",
   "metadata": {},
   "outputs": [
    {
     "name": "stdout",
     "output_type": "stream",
     "text": [
      "A meek Hobbit from the Shire and eight companions set out on a journey to destroy the powerful One Ring and save Middle-earth from the Dark Lord Sauron. \n",
      "\n",
      "An ancient Ring thought lost for centuries has been found, and through a strange twist of fate has been given to a small Hobbit named Frodo. When Gandalf discovers the Ring is in fact the One Ring of the Dark Lord Sauron, Frodo must make an epic quest to the Cracks of Doom in order to destroy it. However, he does not go alone. He is joined by Gandalf, Legolas the elf, Gimli the Dwarf, Aragorn, Boromir, and his three Hobbit friends Merry, Pippin, and Samwise. Through mountains, snow, darkness, forests, rivers and plains, facing evil and danger at every corner the Fellowship of the Ring must go. Their quest to destroy the One Ring is the only hope for the end of the Dark Lords reign.—Paul Twomey <toomsp@hotmail.com> \n",
      "\n",
      "The future of civilization rests in the fate of the One Ring, which has been lost for centuries. Powerful forces are unrelenting in their search for it. But fate has placed it in the hands of a young Hobbit named Frodo Baggins, who inherits the Ring and steps into legend. A daunting task lies ahead for Frodo when he becomes the Ringbearer, to destroy the One Ring in the fires of Mount Doom where it was forged.—Jwelch5742 \n",
      "\n",
      "This movie is adapted from the novel of the same name and shows a different world where different types of creatures live. Humans, elves, dwarfs, hobbits, ours are some of them. Lord of Darkness Sharoun who created the most powerful ring to help him reign over the world. But one human king Isipdur with an alliance with the elves defeated the dark lord and took the ring so that he can destroy the evil ring. But the ring has this cursed power that whoever possessed it comes under the influence of its power and can't let it go. The king decided to keep him to himself, relinquishing the only chance of destroying the ring. But no one can keep the ring for a long time other than its true owner as it attracts other creatures who desire for power. After Isipdur it passes to Golloum who keeps it for 500 years, but ring seeks its owner and Golloum loses it. A Hobbit named Bilbo finds it and keeps it for many years and passes it to his nephew Frodo, who decides to destroy it so that there will be no chance of Sharoun's return. So Frodo and eight begin their journey to the cracks of doom as the birthplace of the ring is the only place where it can die. This fellowship includes four Hobbits, one wizard, one elf, one dwarf and two humans. So, through the mines of Moriah, the forests of the Elves, the river, they started their journey. \n",
      "\n",
      "The power of Bilbo Baggins' ring of invisibility may have been underestimated, Gandalf the Grey fears its power even with his unfathomable magical abilities. As the power of the one Ring grows, so too do the armies of Sauron and Sarumon as their evil spreads across the lands of man, dwarf, and elf alike. It is up to a ragtag band of heroes to carry the ring to Mount Doom, the evil place of its birth, and cast it into the eternal fires that forged it. Does the fellowship have what it takes to complete its task, or will the powers of evil overcome those of good leaving behind a world ravaged by the rage of Sauron, the Dark Lord?—ahmetkozan \n",
      "\n",
      "The prologue, spoken by Galadriel, shows the Dark Lord Sauron forging the One Ring which he can use to conquer the lands of Middle-earth through his enslavement of the bearers of the Rings of Power powerful magical rings given to individuals from the races of Elves, Dwarves and Men. A Last Alliance of Elves and Men is formed to counter Sauron and his forces at the foot of Mount Doom, but Sauron himself appears to kill Elendil, the High King of Arnor and Gondor, and Gil-galad, High King of the Noldor.After Elendil falls, his son, Isildur, grabs the hilt of his father's broken sword Narsil, and slashes at Sauron's hand. The stroke cuts off Sauron's fingers, separating him from the Ring and vanquishing his army. However, because Sauron's life is bound in the Ring, he is not completely defeated until the Ring itself is destroyed in the lava and fire of Mt. Doom, where it was forged. Isildur takes the Ring and succumbs to its temptation, refusing to destroy it, but he is later ambushed and killed by orcs on the shores of the River Anduin. The ring is lost in the riverbed.The Ring is found 2,500 years later, and eventually it comes to the creature Gollum, who takes it underground for five centuries, giving Gollum \"unnaturally long life.\" The Ring \"abandons\" him however, and is found by the hobbit Bilbo Baggins, much to the grief of Gollum, who called it his \"precious\". Bilbo returns to his home in the Shire with the Ring, and the story jumps forward in time sixty years. At his 111th birthday, Bilbo leaves the Ring to his nephew and adopted heir Frodo Baggins.The Wizard Gandalf soon learns it is the One Ring, and sends him to Bree with Sam, with plans to meet him there after Gandalf goes to Isengard to meet the head of his order, Saruman. Saruman reveals that the Nazgûl, or Ringwraiths, have left Mordor to capture the Ring and kill whoever carries it; having already turned to Sauron's cause, he then imprisons Gandalf atop his tall tower home, Orthanc. Gandalf sees Saruman's ultimate plan; he has begun to destroy the forest surrounding Isengard for fuel to forge weapons for an army of larger and stronger orcs, the Uruk-hai.Frodo and Sam are soon joined by fellow hobbits Merry and Pippin. After encountering and eluding a Ringwraith on the road, they manage to reach Bree, and there they meet a man called Strider, who agrees to lead them to Rivendell and helps them elude the Ringwraiths again. The hobbits agree because Gandalf isn't there to guide them. After some travelling, they spend the night on the hill of Weathertop, where they are attacked by the Nazgûl. Strider battles the spectres and fights them off, but Frodo is grievously wounded with a Morgul blade, and they must quickly get him to Rivendell for healing. While chased by the Nazgûl, Frodo is taken by the elf Arwen to the elvish haven of Rivendell, and healed by her father, Elrond.In Rivendell Frodo meets Gandalf, who explains why he didn't meet them at Bree as planned -- while imprisoned atop Orthanc, he was able to escape with the aide of Gwaihir, a giant eagle. In the meantime, there are many meetings between various peoples, and Elrond calls a council to decide what should be done with the Ring. The Ring can only be destroyed by throwing it into the fires (that is, lava) of Mount Doom, where it was forged. Mount Doom is located in Mordor, near Sauron's fortress of Barad-dûr, and will be an incredibly dangerous journey. Frodo volunteers to take the Ring to Mount Doom as all the others argue about who should or shouldn't take it.He is accompanied by his hobbit friends and Gandalf, as well as Strider, who is revealed to be Aragorn, the rightful heir to the throne of Gondor. Also travelling with them are the Elf Legolas, the Dwarf Gimli and Boromir, the son of the Steward of Gondor. Together they comprise the Fellowship of the Ring. The Fellowship set out and try to pass the mountain Caradhras, but they are stopped by the freezing cold and by Saruman, who uses his wizardry to create an avalanche. They are forced to travel under the mountain through the Mines of Moria. After journeying partway through the Mines, Pippin accidentally gives away their presence to a band of orcs. The Fellowship encounter a Balrog, an ancient demon of fire and shadow, at the Bridge of Khazad-dûm. Gandalf confronts the Balrog on the bridge, allowing the others to escape the mines, while he falls with the creature into the abyss below.The group flees to the elvish realm of Lothlórien, where they are sheltered by its rulers, Galadriel and her husband Celeborn. Galadriel is tested when she tries to convince Frodo to give the ring to her but she regains her senses and bids him to protect the ring until it can be destroyed.After resting, the band decide to travel on the River Anduin towards Parth Galen. Before they leave, Galadriel gives Frodo the Phial of Galadriel, a light source. After landing at Parth Galen, Boromir, affected by the ring's power, tries to take the Ring from Frodo, who manages to escape by putting the Ring on his finger and vanishing.Knowing that the Ring's temptation will be too strong for the Fellowship, Frodo decides to leave them and go to Mordor alone. Meanwhile, the rest of the Fellowship are attacked by Uruk-hai, larger and stronger orcs bred by Saruman that can withstand sunlight. Merry and Pippin, realizing that Frodo is leaving, distract the orcs, allowing Frodo to escape.In a desperate act of self-redemption, Boromir rushes to the aid of the two hobbits but is mortally wounded by the orc commander Lurtz, and Merry and Pippin are captured. Aragorn, Legolas, and Gimli find Boromir, who regrets attempting to steal the Ring and dies. His body is later placed in a boat and sent over the Falls of Rauros and down the Anduin.They decide to pursue the orcs and rescue the hobbits, leaving Frodo to his fate. Sam joins Frodo before he leaves, and together the two walk into Emyn Muil toward Mordor. \n",
      "\n"
     ]
    }
   ],
   "source": [
    "soup =  BeautifulSoup(response.text)\n",
    "for object in soup.find_all('div', class_=\"ipc-html-content-inner-div\"):\n",
    "    print(object.text, \"\\n\")"
   ]
  },
  {
   "cell_type": "markdown",
   "id": "e1fa9e44",
   "metadata": {},
   "source": [
    "# Final"
   ]
  },
  {
   "cell_type": "code",
   "execution_count": 1,
   "id": "f2fee4a0",
   "metadata": {},
   "outputs": [],
   "source": [
    "import requests\n",
    "from selectolax.parser import HTMLParser\n",
    "from bs4 import BeautifulSoup\n",
    "import pandas as pd\n",
    "import time\n",
    "\n",
    "user_agent = {'User-agent': 'Mozilla/5.0'}\n",
    "\n",
    "def crawl_url(url):\n",
    "  response = requests.get(url, headers = user_agent)\n",
    "  return response.text\n",
    "\n",
    "def extract_short_desc(html: str):\n",
    "  soup =  BeautifulSoup(html)\n",
    "  return soup.findChild('span', class_=\"sc-466bb6c-2 chnFO\").text\n",
    "\n",
    "def extract_long_desc(html: str):\n",
    "  soup =  BeautifulSoup(html)\n",
    "  return soup.findChild('div', class_=\"ipc-html-content-inner-div\").text"
   ]
  },
  {
   "cell_type": "code",
   "execution_count": 28,
   "id": "2fbf26be",
   "metadata": {},
   "outputs": [],
   "source": [
    "df = pd.read_csv(\"./datasets/movie datasets/imdb/movies_subset.csv\", chunksize =500)"
   ]
  },
  {
   "cell_type": "code",
   "execution_count": 33,
   "id": "cc1a1e74",
   "metadata": {
    "scrolled": true
   },
   "outputs": [
    {
     "name": "stdout",
     "output_type": "stream",
     "text": [
      "Index(['tconst', 'originalTitle', 'startYear', 'genres', 'runtimeMinutes',\n",
      "       'averageRating', 'numVotes'],\n",
      "      dtype='object')\n",
      "Index(['tconst', 'originalTitle', 'startYear', 'genres', 'runtimeMinutes',\n",
      "       'averageRating', 'numVotes'],\n",
      "      dtype='object')\n",
      "Index(['tconst', 'originalTitle', 'startYear', 'genres', 'runtimeMinutes',\n",
      "       'averageRating', 'numVotes'],\n",
      "      dtype='object')\n",
      "Index(['tconst', 'originalTitle', 'startYear', 'genres', 'runtimeMinutes',\n",
      "       'averageRating', 'numVotes'],\n",
      "      dtype='object')\n",
      "Index(['tconst', 'originalTitle', 'startYear', 'genres', 'runtimeMinutes',\n",
      "       'averageRating', 'numVotes'],\n",
      "      dtype='object')\n",
      "Index(['tconst', 'originalTitle', 'startYear', 'genres', 'runtimeMinutes',\n",
      "       'averageRating', 'numVotes'],\n",
      "      dtype='object')\n",
      "Index(['tconst', 'originalTitle', 'startYear', 'genres', 'runtimeMinutes',\n",
      "       'averageRating', 'numVotes'],\n",
      "      dtype='object')\n",
      "Index(['tconst', 'originalTitle', 'startYear', 'genres', 'runtimeMinutes',\n",
      "       'averageRating', 'numVotes'],\n",
      "      dtype='object')\n",
      "Index(['tconst', 'originalTitle', 'startYear', 'genres', 'runtimeMinutes',\n",
      "       'averageRating', 'numVotes'],\n",
      "      dtype='object')\n",
      "Index(['tconst', 'originalTitle', 'startYear', 'genres', 'runtimeMinutes',\n",
      "       'averageRating', 'numVotes'],\n",
      "      dtype='object')\n",
      "Index(['tconst', 'originalTitle', 'startYear', 'genres', 'runtimeMinutes',\n",
      "       'averageRating', 'numVotes'],\n",
      "      dtype='object')\n",
      "Index(['tconst', 'originalTitle', 'startYear', 'genres', 'runtimeMinutes',\n",
      "       'averageRating', 'numVotes'],\n",
      "      dtype='object')\n",
      "Index(['tconst', 'originalTitle', 'startYear', 'genres', 'runtimeMinutes',\n",
      "       'averageRating', 'numVotes'],\n",
      "      dtype='object')\n",
      "Index(['tconst', 'originalTitle', 'startYear', 'genres', 'runtimeMinutes',\n",
      "       'averageRating', 'numVotes'],\n",
      "      dtype='object')\n",
      "Index(['tconst', 'originalTitle', 'startYear', 'genres', 'runtimeMinutes',\n",
      "       'averageRating', 'numVotes'],\n",
      "      dtype='object')\n",
      "Index(['tconst', 'originalTitle', 'startYear', 'genres', 'runtimeMinutes',\n",
      "       'averageRating', 'numVotes'],\n",
      "      dtype='object')\n",
      "Index(['tconst', 'originalTitle', 'startYear', 'genres', 'runtimeMinutes',\n",
      "       'averageRating', 'numVotes'],\n",
      "      dtype='object')\n",
      "Index(['tconst', 'originalTitle', 'startYear', 'genres', 'runtimeMinutes',\n",
      "       'averageRating', 'numVotes'],\n",
      "      dtype='object')\n",
      "Index(['tconst', 'originalTitle', 'startYear', 'genres', 'runtimeMinutes',\n",
      "       'averageRating', 'numVotes'],\n",
      "      dtype='object')\n",
      "Index(['tconst', 'originalTitle', 'startYear', 'genres', 'runtimeMinutes',\n",
      "       'averageRating', 'numVotes'],\n",
      "      dtype='object')\n",
      "Index(['tconst', 'originalTitle', 'startYear', 'genres', 'runtimeMinutes',\n",
      "       'averageRating', 'numVotes'],\n",
      "      dtype='object')\n",
      "Index(['tconst', 'originalTitle', 'startYear', 'genres', 'runtimeMinutes',\n",
      "       'averageRating', 'numVotes'],\n",
      "      dtype='object')\n",
      "Index(['tconst', 'originalTitle', 'startYear', 'genres', 'runtimeMinutes',\n",
      "       'averageRating', 'numVotes'],\n",
      "      dtype='object')\n",
      "Index(['tconst', 'originalTitle', 'startYear', 'genres', 'runtimeMinutes',\n",
      "       'averageRating', 'numVotes'],\n",
      "      dtype='object')\n",
      "Index(['tconst', 'originalTitle', 'startYear', 'genres', 'runtimeMinutes',\n",
      "       'averageRating', 'numVotes'],\n",
      "      dtype='object')\n",
      "Index(['tconst', 'originalTitle', 'startYear', 'genres', 'runtimeMinutes',\n",
      "       'averageRating', 'numVotes'],\n",
      "      dtype='object')\n",
      "Index(['tconst', 'originalTitle', 'startYear', 'genres', 'runtimeMinutes',\n",
      "       'averageRating', 'numVotes'],\n",
      "      dtype='object')\n",
      "Index(['tconst', 'originalTitle', 'startYear', 'genres', 'runtimeMinutes',\n",
      "       'averageRating', 'numVotes'],\n",
      "      dtype='object')\n",
      "Index(['tconst', 'originalTitle', 'startYear', 'genres', 'runtimeMinutes',\n",
      "       'averageRating', 'numVotes'],\n",
      "      dtype='object')\n",
      "Index(['tconst', 'originalTitle', 'startYear', 'genres', 'runtimeMinutes',\n",
      "       'averageRating', 'numVotes'],\n",
      "      dtype='object')\n",
      "Index(['tconst', 'originalTitle', 'startYear', 'genres', 'runtimeMinutes',\n",
      "       'averageRating', 'numVotes'],\n",
      "      dtype='object')\n",
      "Index(['tconst', 'originalTitle', 'startYear', 'genres', 'runtimeMinutes',\n",
      "       'averageRating', 'numVotes'],\n",
      "      dtype='object')\n",
      "Index(['tconst', 'originalTitle', 'startYear', 'genres', 'runtimeMinutes',\n",
      "       'averageRating', 'numVotes'],\n",
      "      dtype='object')\n",
      "Index(['tconst', 'originalTitle', 'startYear', 'genres', 'runtimeMinutes',\n",
      "       'averageRating', 'numVotes'],\n",
      "      dtype='object')\n",
      "Index(['tconst', 'originalTitle', 'startYear', 'genres', 'runtimeMinutes',\n",
      "       'averageRating', 'numVotes'],\n",
      "      dtype='object')\n",
      "Index(['tconst', 'originalTitle', 'startYear', 'genres', 'runtimeMinutes',\n",
      "       'averageRating', 'numVotes'],\n",
      "      dtype='object')\n",
      "Index(['tconst', 'originalTitle', 'startYear', 'genres', 'runtimeMinutes',\n",
      "       'averageRating', 'numVotes'],\n",
      "      dtype='object')\n",
      "Index(['tconst', 'originalTitle', 'startYear', 'genres', 'runtimeMinutes',\n",
      "       'averageRating', 'numVotes'],\n",
      "      dtype='object')\n",
      "Index(['tconst', 'originalTitle', 'startYear', 'genres', 'runtimeMinutes',\n",
      "       'averageRating', 'numVotes'],\n",
      "      dtype='object')\n",
      "Index(['tconst', 'originalTitle', 'startYear', 'genres', 'runtimeMinutes',\n",
      "       'averageRating', 'numVotes'],\n",
      "      dtype='object')\n",
      "Index(['tconst', 'originalTitle', 'startYear', 'genres', 'runtimeMinutes',\n",
      "       'averageRating', 'numVotes'],\n",
      "      dtype='object')\n",
      "Index(['tconst', 'originalTitle', 'startYear', 'genres', 'runtimeMinutes',\n",
      "       'averageRating', 'numVotes'],\n",
      "      dtype='object')\n",
      "Index(['tconst', 'originalTitle', 'startYear', 'genres', 'runtimeMinutes',\n",
      "       'averageRating', 'numVotes'],\n",
      "      dtype='object')\n",
      "Index(['tconst', 'originalTitle', 'startYear', 'genres', 'runtimeMinutes',\n",
      "       'averageRating', 'numVotes'],\n",
      "      dtype='object')\n",
      "Index(['tconst', 'originalTitle', 'startYear', 'genres', 'runtimeMinutes',\n",
      "       'averageRating', 'numVotes'],\n",
      "      dtype='object')\n",
      "Index(['tconst', 'originalTitle', 'startYear', 'genres', 'runtimeMinutes',\n",
      "       'averageRating', 'numVotes'],\n",
      "      dtype='object')\n",
      "Index(['tconst', 'originalTitle', 'startYear', 'genres', 'runtimeMinutes',\n",
      "       'averageRating', 'numVotes'],\n",
      "      dtype='object')\n",
      "Index(['tconst', 'originalTitle', 'startYear', 'genres', 'runtimeMinutes',\n",
      "       'averageRating', 'numVotes'],\n",
      "      dtype='object')\n",
      "Index(['tconst', 'originalTitle', 'startYear', 'genres', 'runtimeMinutes',\n",
      "       'averageRating', 'numVotes'],\n",
      "      dtype='object')\n",
      "Index(['tconst', 'originalTitle', 'startYear', 'genres', 'runtimeMinutes',\n",
      "       'averageRating', 'numVotes'],\n",
      "      dtype='object')\n",
      "Index(['tconst', 'originalTitle', 'startYear', 'genres', 'runtimeMinutes',\n",
      "       'averageRating', 'numVotes'],\n",
      "      dtype='object')\n",
      "Index(['tconst', 'originalTitle', 'startYear', 'genres', 'runtimeMinutes',\n",
      "       'averageRating', 'numVotes'],\n",
      "      dtype='object')\n",
      "Index(['tconst', 'originalTitle', 'startYear', 'genres', 'runtimeMinutes',\n",
      "       'averageRating', 'numVotes'],\n",
      "      dtype='object')\n",
      "Index(['tconst', 'originalTitle', 'startYear', 'genres', 'runtimeMinutes',\n",
      "       'averageRating', 'numVotes'],\n",
      "      dtype='object')\n",
      "Index(['tconst', 'originalTitle', 'startYear', 'genres', 'runtimeMinutes',\n",
      "       'averageRating', 'numVotes'],\n",
      "      dtype='object')\n",
      "Index(['tconst', 'originalTitle', 'startYear', 'genres', 'runtimeMinutes',\n",
      "       'averageRating', 'numVotes'],\n",
      "      dtype='object')\n",
      "Index(['tconst', 'originalTitle', 'startYear', 'genres', 'runtimeMinutes',\n",
      "       'averageRating', 'numVotes'],\n",
      "      dtype='object')\n",
      "Index(['tconst', 'originalTitle', 'startYear', 'genres', 'runtimeMinutes',\n",
      "       'averageRating', 'numVotes'],\n",
      "      dtype='object')\n",
      "Index(['tconst', 'originalTitle', 'startYear', 'genres', 'runtimeMinutes',\n",
      "       'averageRating', 'numVotes'],\n",
      "      dtype='object')\n",
      "Index(['tconst', 'originalTitle', 'startYear', 'genres', 'runtimeMinutes',\n",
      "       'averageRating', 'numVotes'],\n",
      "      dtype='object')\n",
      "Index(['tconst', 'originalTitle', 'startYear', 'genres', 'runtimeMinutes',\n",
      "       'averageRating', 'numVotes'],\n",
      "      dtype='object')\n",
      "Index(['tconst', 'originalTitle', 'startYear', 'genres', 'runtimeMinutes',\n",
      "       'averageRating', 'numVotes'],\n",
      "      dtype='object')\n",
      "Index(['tconst', 'originalTitle', 'startYear', 'genres', 'runtimeMinutes',\n",
      "       'averageRating', 'numVotes'],\n",
      "      dtype='object')\n",
      "Index(['tconst', 'originalTitle', 'startYear', 'genres', 'runtimeMinutes',\n",
      "       'averageRating', 'numVotes'],\n",
      "      dtype='object')\n",
      "Index(['tconst', 'originalTitle', 'startYear', 'genres', 'runtimeMinutes',\n",
      "       'averageRating', 'numVotes'],\n",
      "      dtype='object')\n",
      "Index(['tconst', 'originalTitle', 'startYear', 'genres', 'runtimeMinutes',\n",
      "       'averageRating', 'numVotes'],\n",
      "      dtype='object')\n",
      "Index(['tconst', 'originalTitle', 'startYear', 'genres', 'runtimeMinutes',\n",
      "       'averageRating', 'numVotes'],\n",
      "      dtype='object')\n",
      "Index(['tconst', 'originalTitle', 'startYear', 'genres', 'runtimeMinutes',\n",
      "       'averageRating', 'numVotes'],\n",
      "      dtype='object')\n",
      "Index(['tconst', 'originalTitle', 'startYear', 'genres', 'runtimeMinutes',\n",
      "       'averageRating', 'numVotes'],\n",
      "      dtype='object')\n",
      "Index(['tconst', 'originalTitle', 'startYear', 'genres', 'runtimeMinutes',\n",
      "       'averageRating', 'numVotes'],\n",
      "      dtype='object')\n",
      "Index(['tconst', 'originalTitle', 'startYear', 'genres', 'runtimeMinutes',\n",
      "       'averageRating', 'numVotes'],\n",
      "      dtype='object')\n",
      "Index(['tconst', 'originalTitle', 'startYear', 'genres', 'runtimeMinutes',\n",
      "       'averageRating', 'numVotes'],\n",
      "      dtype='object')\n",
      "Index(['tconst', 'originalTitle', 'startYear', 'genres', 'runtimeMinutes',\n",
      "       'averageRating', 'numVotes'],\n",
      "      dtype='object')\n"
     ]
    }
   ],
   "source": [
    "for i in df:\n",
    "    print(i.columns)"
   ]
  },
  {
   "cell_type": "code",
   "execution_count": 4,
   "id": "863bed54",
   "metadata": {},
   "outputs": [
    {
     "data": {
      "text/html": [
       "<div>\n",
       "<style scoped>\n",
       "    .dataframe tbody tr th:only-of-type {\n",
       "        vertical-align: middle;\n",
       "    }\n",
       "\n",
       "    .dataframe tbody tr th {\n",
       "        vertical-align: top;\n",
       "    }\n",
       "\n",
       "    .dataframe thead th {\n",
       "        text-align: right;\n",
       "    }\n",
       "</style>\n",
       "<table border=\"1\" class=\"dataframe\">\n",
       "  <thead>\n",
       "    <tr style=\"text-align: right;\">\n",
       "      <th></th>\n",
       "      <th>tconst</th>\n",
       "      <th>originalTitle</th>\n",
       "      <th>startYear</th>\n",
       "      <th>genres</th>\n",
       "      <th>runtimeMinutes</th>\n",
       "      <th>averageRating</th>\n",
       "      <th>numVotes</th>\n",
       "    </tr>\n",
       "  </thead>\n",
       "  <tbody>\n",
       "    <tr>\n",
       "      <th>0</th>\n",
       "      <td>tt0011801</td>\n",
       "      <td>Tötet nicht mehr</td>\n",
       "      <td>2019</td>\n",
       "      <td>Action,Crime</td>\n",
       "      <td>\\N</td>\n",
       "      <td>NaN</td>\n",
       "      <td>NaN</td>\n",
       "    </tr>\n",
       "    <tr>\n",
       "      <th>1</th>\n",
       "      <td>tt0069049</td>\n",
       "      <td>The Other Side of the Wind</td>\n",
       "      <td>2018</td>\n",
       "      <td>Drama</td>\n",
       "      <td>122</td>\n",
       "      <td>6.7</td>\n",
       "      <td>7873.0</td>\n",
       "    </tr>\n",
       "    <tr>\n",
       "      <th>2</th>\n",
       "      <td>tt0111414</td>\n",
       "      <td>A Thin Life</td>\n",
       "      <td>2018</td>\n",
       "      <td>Comedy</td>\n",
       "      <td>75</td>\n",
       "      <td>NaN</td>\n",
       "      <td>NaN</td>\n",
       "    </tr>\n",
       "    <tr>\n",
       "      <th>3</th>\n",
       "      <td>tt0137818</td>\n",
       "      <td>Housesitter: The Night They Saved Siegfried's ...</td>\n",
       "      <td>2018</td>\n",
       "      <td>\\N</td>\n",
       "      <td>95</td>\n",
       "      <td>4.8</td>\n",
       "      <td>35.0</td>\n",
       "    </tr>\n",
       "    <tr>\n",
       "      <th>4</th>\n",
       "      <td>tt0172182</td>\n",
       "      <td>Blood Type</td>\n",
       "      <td>2018</td>\n",
       "      <td>Comedy,Drama,Mystery</td>\n",
       "      <td>90</td>\n",
       "      <td>6.7</td>\n",
       "      <td>117.0</td>\n",
       "    </tr>\n",
       "  </tbody>\n",
       "</table>\n",
       "</div>"
      ],
      "text/plain": [
       "      tconst                                      originalTitle  startYear  \\\n",
       "0  tt0011801                                   Tötet nicht mehr       2019   \n",
       "1  tt0069049                         The Other Side of the Wind       2018   \n",
       "2  tt0111414                                        A Thin Life       2018   \n",
       "3  tt0137818  Housesitter: The Night They Saved Siegfried's ...       2018   \n",
       "4  tt0172182                                         Blood Type       2018   \n",
       "\n",
       "                 genres runtimeMinutes  averageRating  numVotes  \n",
       "0          Action,Crime             \\N            NaN       NaN  \n",
       "1                 Drama            122            6.7    7873.0  \n",
       "2                Comedy             75            NaN       NaN  \n",
       "3                    \\N             95            4.8      35.0  \n",
       "4  Comedy,Drama,Mystery             90            6.7     117.0  "
      ]
     },
     "execution_count": 4,
     "metadata": {},
     "output_type": "execute_result"
    }
   ],
   "source": [
    "df.head()"
   ]
  },
  {
   "cell_type": "code",
   "execution_count": 8,
   "id": "3c0a4bad",
   "metadata": {
    "scrolled": true
   },
   "outputs": [
    {
     "name": "stdout",
     "output_type": "stream",
     "text": [
      "0 completed\n",
      "1 completed\n",
      "2 completed\n",
      "3 completed\n",
      "4 completed\n",
      "5 completed\n",
      "6 completed\n",
      "7 completed\n",
      "8 completed\n",
      "9 completed\n",
      "10 completed\n",
      "11 completed\n",
      "12 completed\n"
     ]
    },
    {
     "ename": "KeyboardInterrupt",
     "evalue": "",
     "output_type": "error",
     "traceback": [
      "\u001b[1;31m---------------------------------------------------------------------------\u001b[0m",
      "\u001b[1;31mKeyboardInterrupt\u001b[0m                         Traceback (most recent call last)",
      "\u001b[1;32mc:\\Users\\smend\\OneDrive\\Desktop\\Stevens\\SEM1\\Deep Learning - CS 583 A\\CS 583 Project\\crawler.ipynb Cell 13\u001b[0m line \u001b[0;36m4\n\u001b[0;32m      <a href='vscode-notebook-cell:/c%3A/Users/smend/OneDrive/Desktop/Stevens/SEM1/Deep%20Learning%20-%20CS%20583%20A/CS%20583%20Project/crawler.ipynb#X16sZmlsZQ%3D%3D?line=1'>2</a>\u001b[0m tconst \u001b[39m=\u001b[39m row[\u001b[39m\"\u001b[39m\u001b[39mtconst\u001b[39m\u001b[39m\"\u001b[39m]\n\u001b[0;32m      <a href='vscode-notebook-cell:/c%3A/Users/smend/OneDrive/Desktop/Stevens/SEM1/Deep%20Learning%20-%20CS%20583%20A/CS%20583%20Project/crawler.ipynb#X16sZmlsZQ%3D%3D?line=2'>3</a>\u001b[0m short_desc_url \u001b[39m=\u001b[39m \u001b[39mf\u001b[39m\u001b[39m\"\u001b[39m\u001b[39mhttps://www.imdb.com/title/\u001b[39m\u001b[39m{\u001b[39;00mtconst\u001b[39m}\u001b[39;00m\u001b[39m\"\u001b[39m\n\u001b[1;32m----> <a href='vscode-notebook-cell:/c%3A/Users/smend/OneDrive/Desktop/Stevens/SEM1/Deep%20Learning%20-%20CS%20583%20A/CS%20583%20Project/crawler.ipynb#X16sZmlsZQ%3D%3D?line=3'>4</a>\u001b[0m html \u001b[39m=\u001b[39m crawl_url(short_desc_url)\n\u001b[0;32m      <a href='vscode-notebook-cell:/c%3A/Users/smend/OneDrive/Desktop/Stevens/SEM1/Deep%20Learning%20-%20CS%20583%20A/CS%20583%20Project/crawler.ipynb#X16sZmlsZQ%3D%3D?line=4'>5</a>\u001b[0m short_desc \u001b[39m=\u001b[39m extract_short_desc(html)\n\u001b[0;32m      <a href='vscode-notebook-cell:/c%3A/Users/smend/OneDrive/Desktop/Stevens/SEM1/Deep%20Learning%20-%20CS%20583%20A/CS%20583%20Project/crawler.ipynb#X16sZmlsZQ%3D%3D?line=5'>6</a>\u001b[0m df\u001b[39m.\u001b[39mloc[i, \u001b[39m\"\u001b[39m\u001b[39mshort_desc\u001b[39m\u001b[39m\"\u001b[39m] \u001b[39m=\u001b[39m \u001b[39mstr\u001b[39m(short_desc)\n",
      "\u001b[1;32mc:\\Users\\smend\\OneDrive\\Desktop\\Stevens\\SEM1\\Deep Learning - CS 583 A\\CS 583 Project\\crawler.ipynb Cell 13\u001b[0m line \u001b[0;36m1\n\u001b[0;32m      <a href='vscode-notebook-cell:/c%3A/Users/smend/OneDrive/Desktop/Stevens/SEM1/Deep%20Learning%20-%20CS%20583%20A/CS%20583%20Project/crawler.ipynb#X16sZmlsZQ%3D%3D?line=8'>9</a>\u001b[0m \u001b[39mdef\u001b[39;00m \u001b[39mcrawl_url\u001b[39m(url):\n\u001b[1;32m---> <a href='vscode-notebook-cell:/c%3A/Users/smend/OneDrive/Desktop/Stevens/SEM1/Deep%20Learning%20-%20CS%20583%20A/CS%20583%20Project/crawler.ipynb#X16sZmlsZQ%3D%3D?line=9'>10</a>\u001b[0m   response \u001b[39m=\u001b[39m requests\u001b[39m.\u001b[39;49mget(url, headers \u001b[39m=\u001b[39;49m user_agent)\n\u001b[0;32m     <a href='vscode-notebook-cell:/c%3A/Users/smend/OneDrive/Desktop/Stevens/SEM1/Deep%20Learning%20-%20CS%20583%20A/CS%20583%20Project/crawler.ipynb#X16sZmlsZQ%3D%3D?line=10'>11</a>\u001b[0m   \u001b[39mreturn\u001b[39;00m response\u001b[39m.\u001b[39mtext\n",
      "File \u001b[1;32mc:\\Users\\smend\\miniconda3\\envs\\stevens\\Lib\\site-packages\\requests\\api.py:73\u001b[0m, in \u001b[0;36mget\u001b[1;34m(url, params, **kwargs)\u001b[0m\n\u001b[0;32m     62\u001b[0m \u001b[39mdef\u001b[39;00m \u001b[39mget\u001b[39m(url, params\u001b[39m=\u001b[39m\u001b[39mNone\u001b[39;00m, \u001b[39m*\u001b[39m\u001b[39m*\u001b[39mkwargs):\n\u001b[0;32m     63\u001b[0m \u001b[39m    \u001b[39m\u001b[39mr\u001b[39m\u001b[39m\"\"\"Sends a GET request.\u001b[39;00m\n\u001b[0;32m     64\u001b[0m \n\u001b[0;32m     65\u001b[0m \u001b[39m    :param url: URL for the new :class:`Request` object.\u001b[39;00m\n\u001b[1;32m   (...)\u001b[0m\n\u001b[0;32m     70\u001b[0m \u001b[39m    :rtype: requests.Response\u001b[39;00m\n\u001b[0;32m     71\u001b[0m \u001b[39m    \"\"\"\u001b[39;00m\n\u001b[1;32m---> 73\u001b[0m     \u001b[39mreturn\u001b[39;00m request(\u001b[39m\"\u001b[39;49m\u001b[39mget\u001b[39;49m\u001b[39m\"\u001b[39;49m, url, params\u001b[39m=\u001b[39;49mparams, \u001b[39m*\u001b[39;49m\u001b[39m*\u001b[39;49mkwargs)\n",
      "File \u001b[1;32mc:\\Users\\smend\\miniconda3\\envs\\stevens\\Lib\\site-packages\\requests\\api.py:59\u001b[0m, in \u001b[0;36mrequest\u001b[1;34m(method, url, **kwargs)\u001b[0m\n\u001b[0;32m     55\u001b[0m \u001b[39m# By using the 'with' statement we are sure the session is closed, thus we\u001b[39;00m\n\u001b[0;32m     56\u001b[0m \u001b[39m# avoid leaving sockets open which can trigger a ResourceWarning in some\u001b[39;00m\n\u001b[0;32m     57\u001b[0m \u001b[39m# cases, and look like a memory leak in others.\u001b[39;00m\n\u001b[0;32m     58\u001b[0m \u001b[39mwith\u001b[39;00m sessions\u001b[39m.\u001b[39mSession() \u001b[39mas\u001b[39;00m session:\n\u001b[1;32m---> 59\u001b[0m     \u001b[39mreturn\u001b[39;00m session\u001b[39m.\u001b[39;49mrequest(method\u001b[39m=\u001b[39;49mmethod, url\u001b[39m=\u001b[39;49murl, \u001b[39m*\u001b[39;49m\u001b[39m*\u001b[39;49mkwargs)\n",
      "File \u001b[1;32mc:\\Users\\smend\\miniconda3\\envs\\stevens\\Lib\\site-packages\\requests\\sessions.py:589\u001b[0m, in \u001b[0;36mSession.request\u001b[1;34m(self, method, url, params, data, headers, cookies, files, auth, timeout, allow_redirects, proxies, hooks, stream, verify, cert, json)\u001b[0m\n\u001b[0;32m    584\u001b[0m send_kwargs \u001b[39m=\u001b[39m {\n\u001b[0;32m    585\u001b[0m     \u001b[39m\"\u001b[39m\u001b[39mtimeout\u001b[39m\u001b[39m\"\u001b[39m: timeout,\n\u001b[0;32m    586\u001b[0m     \u001b[39m\"\u001b[39m\u001b[39mallow_redirects\u001b[39m\u001b[39m\"\u001b[39m: allow_redirects,\n\u001b[0;32m    587\u001b[0m }\n\u001b[0;32m    588\u001b[0m send_kwargs\u001b[39m.\u001b[39mupdate(settings)\n\u001b[1;32m--> 589\u001b[0m resp \u001b[39m=\u001b[39m \u001b[39mself\u001b[39;49m\u001b[39m.\u001b[39;49msend(prep, \u001b[39m*\u001b[39;49m\u001b[39m*\u001b[39;49msend_kwargs)\n\u001b[0;32m    591\u001b[0m \u001b[39mreturn\u001b[39;00m resp\n",
      "File \u001b[1;32mc:\\Users\\smend\\miniconda3\\envs\\stevens\\Lib\\site-packages\\requests\\sessions.py:725\u001b[0m, in \u001b[0;36mSession.send\u001b[1;34m(self, request, **kwargs)\u001b[0m\n\u001b[0;32m    722\u001b[0m \u001b[39mif\u001b[39;00m allow_redirects:\n\u001b[0;32m    723\u001b[0m     \u001b[39m# Redirect resolving generator.\u001b[39;00m\n\u001b[0;32m    724\u001b[0m     gen \u001b[39m=\u001b[39m \u001b[39mself\u001b[39m\u001b[39m.\u001b[39mresolve_redirects(r, request, \u001b[39m*\u001b[39m\u001b[39m*\u001b[39mkwargs)\n\u001b[1;32m--> 725\u001b[0m     history \u001b[39m=\u001b[39m [resp \u001b[39mfor\u001b[39;49;00m resp \u001b[39min\u001b[39;49;00m gen]\n\u001b[0;32m    726\u001b[0m \u001b[39melse\u001b[39;00m:\n\u001b[0;32m    727\u001b[0m     history \u001b[39m=\u001b[39m []\n",
      "File \u001b[1;32mc:\\Users\\smend\\miniconda3\\envs\\stevens\\Lib\\site-packages\\requests\\sessions.py:725\u001b[0m, in \u001b[0;36m<listcomp>\u001b[1;34m(.0)\u001b[0m\n\u001b[0;32m    722\u001b[0m \u001b[39mif\u001b[39;00m allow_redirects:\n\u001b[0;32m    723\u001b[0m     \u001b[39m# Redirect resolving generator.\u001b[39;00m\n\u001b[0;32m    724\u001b[0m     gen \u001b[39m=\u001b[39m \u001b[39mself\u001b[39m\u001b[39m.\u001b[39mresolve_redirects(r, request, \u001b[39m*\u001b[39m\u001b[39m*\u001b[39mkwargs)\n\u001b[1;32m--> 725\u001b[0m     history \u001b[39m=\u001b[39m [resp \u001b[39mfor\u001b[39;00m resp \u001b[39min\u001b[39;00m gen]\n\u001b[0;32m    726\u001b[0m \u001b[39melse\u001b[39;00m:\n\u001b[0;32m    727\u001b[0m     history \u001b[39m=\u001b[39m []\n",
      "File \u001b[1;32mc:\\Users\\smend\\miniconda3\\envs\\stevens\\Lib\\site-packages\\requests\\sessions.py:266\u001b[0m, in \u001b[0;36mSessionRedirectMixin.resolve_redirects\u001b[1;34m(self, resp, req, stream, timeout, verify, cert, proxies, yield_requests, **adapter_kwargs)\u001b[0m\n\u001b[0;32m    263\u001b[0m     \u001b[39myield\u001b[39;00m req\n\u001b[0;32m    264\u001b[0m \u001b[39melse\u001b[39;00m:\n\u001b[1;32m--> 266\u001b[0m     resp \u001b[39m=\u001b[39m \u001b[39mself\u001b[39;49m\u001b[39m.\u001b[39;49msend(\n\u001b[0;32m    267\u001b[0m         req,\n\u001b[0;32m    268\u001b[0m         stream\u001b[39m=\u001b[39;49mstream,\n\u001b[0;32m    269\u001b[0m         timeout\u001b[39m=\u001b[39;49mtimeout,\n\u001b[0;32m    270\u001b[0m         verify\u001b[39m=\u001b[39;49mverify,\n\u001b[0;32m    271\u001b[0m         cert\u001b[39m=\u001b[39;49mcert,\n\u001b[0;32m    272\u001b[0m         proxies\u001b[39m=\u001b[39;49mproxies,\n\u001b[0;32m    273\u001b[0m         allow_redirects\u001b[39m=\u001b[39;49m\u001b[39mFalse\u001b[39;49;00m,\n\u001b[0;32m    274\u001b[0m         \u001b[39m*\u001b[39;49m\u001b[39m*\u001b[39;49madapter_kwargs,\n\u001b[0;32m    275\u001b[0m     )\n\u001b[0;32m    277\u001b[0m     extract_cookies_to_jar(\u001b[39mself\u001b[39m\u001b[39m.\u001b[39mcookies, prepared_request, resp\u001b[39m.\u001b[39mraw)\n\u001b[0;32m    279\u001b[0m     \u001b[39m# extract redirect url, if any, for the next loop\u001b[39;00m\n",
      "File \u001b[1;32mc:\\Users\\smend\\miniconda3\\envs\\stevens\\Lib\\site-packages\\requests\\sessions.py:703\u001b[0m, in \u001b[0;36mSession.send\u001b[1;34m(self, request, **kwargs)\u001b[0m\n\u001b[0;32m    700\u001b[0m start \u001b[39m=\u001b[39m preferred_clock()\n\u001b[0;32m    702\u001b[0m \u001b[39m# Send the request\u001b[39;00m\n\u001b[1;32m--> 703\u001b[0m r \u001b[39m=\u001b[39m adapter\u001b[39m.\u001b[39;49msend(request, \u001b[39m*\u001b[39;49m\u001b[39m*\u001b[39;49mkwargs)\n\u001b[0;32m    705\u001b[0m \u001b[39m# Total elapsed time of the request (approximately)\u001b[39;00m\n\u001b[0;32m    706\u001b[0m elapsed \u001b[39m=\u001b[39m preferred_clock() \u001b[39m-\u001b[39m start\n",
      "File \u001b[1;32mc:\\Users\\smend\\miniconda3\\envs\\stevens\\Lib\\site-packages\\requests\\adapters.py:486\u001b[0m, in \u001b[0;36mHTTPAdapter.send\u001b[1;34m(self, request, stream, timeout, verify, cert, proxies)\u001b[0m\n\u001b[0;32m    483\u001b[0m     timeout \u001b[39m=\u001b[39m TimeoutSauce(connect\u001b[39m=\u001b[39mtimeout, read\u001b[39m=\u001b[39mtimeout)\n\u001b[0;32m    485\u001b[0m \u001b[39mtry\u001b[39;00m:\n\u001b[1;32m--> 486\u001b[0m     resp \u001b[39m=\u001b[39m conn\u001b[39m.\u001b[39;49murlopen(\n\u001b[0;32m    487\u001b[0m         method\u001b[39m=\u001b[39;49mrequest\u001b[39m.\u001b[39;49mmethod,\n\u001b[0;32m    488\u001b[0m         url\u001b[39m=\u001b[39;49murl,\n\u001b[0;32m    489\u001b[0m         body\u001b[39m=\u001b[39;49mrequest\u001b[39m.\u001b[39;49mbody,\n\u001b[0;32m    490\u001b[0m         headers\u001b[39m=\u001b[39;49mrequest\u001b[39m.\u001b[39;49mheaders,\n\u001b[0;32m    491\u001b[0m         redirect\u001b[39m=\u001b[39;49m\u001b[39mFalse\u001b[39;49;00m,\n\u001b[0;32m    492\u001b[0m         assert_same_host\u001b[39m=\u001b[39;49m\u001b[39mFalse\u001b[39;49;00m,\n\u001b[0;32m    493\u001b[0m         preload_content\u001b[39m=\u001b[39;49m\u001b[39mFalse\u001b[39;49;00m,\n\u001b[0;32m    494\u001b[0m         decode_content\u001b[39m=\u001b[39;49m\u001b[39mFalse\u001b[39;49;00m,\n\u001b[0;32m    495\u001b[0m         retries\u001b[39m=\u001b[39;49m\u001b[39mself\u001b[39;49m\u001b[39m.\u001b[39;49mmax_retries,\n\u001b[0;32m    496\u001b[0m         timeout\u001b[39m=\u001b[39;49mtimeout,\n\u001b[0;32m    497\u001b[0m         chunked\u001b[39m=\u001b[39;49mchunked,\n\u001b[0;32m    498\u001b[0m     )\n\u001b[0;32m    500\u001b[0m \u001b[39mexcept\u001b[39;00m (ProtocolError, \u001b[39mOSError\u001b[39;00m) \u001b[39mas\u001b[39;00m err:\n\u001b[0;32m    501\u001b[0m     \u001b[39mraise\u001b[39;00m \u001b[39mConnectionError\u001b[39;00m(err, request\u001b[39m=\u001b[39mrequest)\n",
      "File \u001b[1;32mc:\\Users\\smend\\miniconda3\\envs\\stevens\\Lib\\site-packages\\urllib3\\connectionpool.py:714\u001b[0m, in \u001b[0;36mHTTPConnectionPool.urlopen\u001b[1;34m(self, method, url, body, headers, retries, redirect, assert_same_host, timeout, pool_timeout, release_conn, chunked, body_pos, **response_kw)\u001b[0m\n\u001b[0;32m    711\u001b[0m     \u001b[39mself\u001b[39m\u001b[39m.\u001b[39m_prepare_proxy(conn)\n\u001b[0;32m    713\u001b[0m \u001b[39m# Make the request on the httplib connection object.\u001b[39;00m\n\u001b[1;32m--> 714\u001b[0m httplib_response \u001b[39m=\u001b[39m \u001b[39mself\u001b[39;49m\u001b[39m.\u001b[39;49m_make_request(\n\u001b[0;32m    715\u001b[0m     conn,\n\u001b[0;32m    716\u001b[0m     method,\n\u001b[0;32m    717\u001b[0m     url,\n\u001b[0;32m    718\u001b[0m     timeout\u001b[39m=\u001b[39;49mtimeout_obj,\n\u001b[0;32m    719\u001b[0m     body\u001b[39m=\u001b[39;49mbody,\n\u001b[0;32m    720\u001b[0m     headers\u001b[39m=\u001b[39;49mheaders,\n\u001b[0;32m    721\u001b[0m     chunked\u001b[39m=\u001b[39;49mchunked,\n\u001b[0;32m    722\u001b[0m )\n\u001b[0;32m    724\u001b[0m \u001b[39m# If we're going to release the connection in ``finally:``, then\u001b[39;00m\n\u001b[0;32m    725\u001b[0m \u001b[39m# the response doesn't need to know about the connection. Otherwise\u001b[39;00m\n\u001b[0;32m    726\u001b[0m \u001b[39m# it will also try to release it and we'll have a double-release\u001b[39;00m\n\u001b[0;32m    727\u001b[0m \u001b[39m# mess.\u001b[39;00m\n\u001b[0;32m    728\u001b[0m response_conn \u001b[39m=\u001b[39m conn \u001b[39mif\u001b[39;00m \u001b[39mnot\u001b[39;00m release_conn \u001b[39melse\u001b[39;00m \u001b[39mNone\u001b[39;00m\n",
      "File \u001b[1;32mc:\\Users\\smend\\miniconda3\\envs\\stevens\\Lib\\site-packages\\urllib3\\connectionpool.py:466\u001b[0m, in \u001b[0;36mHTTPConnectionPool._make_request\u001b[1;34m(self, conn, method, url, timeout, chunked, **httplib_request_kw)\u001b[0m\n\u001b[0;32m    461\u001b[0m             httplib_response \u001b[39m=\u001b[39m conn\u001b[39m.\u001b[39mgetresponse()\n\u001b[0;32m    462\u001b[0m         \u001b[39mexcept\u001b[39;00m \u001b[39mBaseException\u001b[39;00m \u001b[39mas\u001b[39;00m e:\n\u001b[0;32m    463\u001b[0m             \u001b[39m# Remove the TypeError from the exception chain in\u001b[39;00m\n\u001b[0;32m    464\u001b[0m             \u001b[39m# Python 3 (including for exceptions like SystemExit).\u001b[39;00m\n\u001b[0;32m    465\u001b[0m             \u001b[39m# Otherwise it looks like a bug in the code.\u001b[39;00m\n\u001b[1;32m--> 466\u001b[0m             six\u001b[39m.\u001b[39;49mraise_from(e, \u001b[39mNone\u001b[39;49;00m)\n\u001b[0;32m    467\u001b[0m \u001b[39mexcept\u001b[39;00m (SocketTimeout, BaseSSLError, SocketError) \u001b[39mas\u001b[39;00m e:\n\u001b[0;32m    468\u001b[0m     \u001b[39mself\u001b[39m\u001b[39m.\u001b[39m_raise_timeout(err\u001b[39m=\u001b[39me, url\u001b[39m=\u001b[39murl, timeout_value\u001b[39m=\u001b[39mread_timeout)\n",
      "File \u001b[1;32m<string>:3\u001b[0m, in \u001b[0;36mraise_from\u001b[1;34m(value, from_value)\u001b[0m\n",
      "File \u001b[1;32mc:\\Users\\smend\\miniconda3\\envs\\stevens\\Lib\\site-packages\\urllib3\\connectionpool.py:461\u001b[0m, in \u001b[0;36mHTTPConnectionPool._make_request\u001b[1;34m(self, conn, method, url, timeout, chunked, **httplib_request_kw)\u001b[0m\n\u001b[0;32m    458\u001b[0m \u001b[39mexcept\u001b[39;00m \u001b[39mTypeError\u001b[39;00m:\n\u001b[0;32m    459\u001b[0m     \u001b[39m# Python 3\u001b[39;00m\n\u001b[0;32m    460\u001b[0m     \u001b[39mtry\u001b[39;00m:\n\u001b[1;32m--> 461\u001b[0m         httplib_response \u001b[39m=\u001b[39m conn\u001b[39m.\u001b[39;49mgetresponse()\n\u001b[0;32m    462\u001b[0m     \u001b[39mexcept\u001b[39;00m \u001b[39mBaseException\u001b[39;00m \u001b[39mas\u001b[39;00m e:\n\u001b[0;32m    463\u001b[0m         \u001b[39m# Remove the TypeError from the exception chain in\u001b[39;00m\n\u001b[0;32m    464\u001b[0m         \u001b[39m# Python 3 (including for exceptions like SystemExit).\u001b[39;00m\n\u001b[0;32m    465\u001b[0m         \u001b[39m# Otherwise it looks like a bug in the code.\u001b[39;00m\n\u001b[0;32m    466\u001b[0m         six\u001b[39m.\u001b[39mraise_from(e, \u001b[39mNone\u001b[39;00m)\n",
      "File \u001b[1;32mc:\\Users\\smend\\miniconda3\\envs\\stevens\\Lib\\http\\client.py:1378\u001b[0m, in \u001b[0;36mHTTPConnection.getresponse\u001b[1;34m(self)\u001b[0m\n\u001b[0;32m   1376\u001b[0m \u001b[39mtry\u001b[39;00m:\n\u001b[0;32m   1377\u001b[0m     \u001b[39mtry\u001b[39;00m:\n\u001b[1;32m-> 1378\u001b[0m         response\u001b[39m.\u001b[39;49mbegin()\n\u001b[0;32m   1379\u001b[0m     \u001b[39mexcept\u001b[39;00m \u001b[39mConnectionError\u001b[39;00m:\n\u001b[0;32m   1380\u001b[0m         \u001b[39mself\u001b[39m\u001b[39m.\u001b[39mclose()\n",
      "File \u001b[1;32mc:\\Users\\smend\\miniconda3\\envs\\stevens\\Lib\\http\\client.py:318\u001b[0m, in \u001b[0;36mHTTPResponse.begin\u001b[1;34m(self)\u001b[0m\n\u001b[0;32m    316\u001b[0m \u001b[39m# read until we get a non-100 response\u001b[39;00m\n\u001b[0;32m    317\u001b[0m \u001b[39mwhile\u001b[39;00m \u001b[39mTrue\u001b[39;00m:\n\u001b[1;32m--> 318\u001b[0m     version, status, reason \u001b[39m=\u001b[39m \u001b[39mself\u001b[39;49m\u001b[39m.\u001b[39;49m_read_status()\n\u001b[0;32m    319\u001b[0m     \u001b[39mif\u001b[39;00m status \u001b[39m!=\u001b[39m CONTINUE:\n\u001b[0;32m    320\u001b[0m         \u001b[39mbreak\u001b[39;00m\n",
      "File \u001b[1;32mc:\\Users\\smend\\miniconda3\\envs\\stevens\\Lib\\http\\client.py:279\u001b[0m, in \u001b[0;36mHTTPResponse._read_status\u001b[1;34m(self)\u001b[0m\n\u001b[0;32m    278\u001b[0m \u001b[39mdef\u001b[39;00m \u001b[39m_read_status\u001b[39m(\u001b[39mself\u001b[39m):\n\u001b[1;32m--> 279\u001b[0m     line \u001b[39m=\u001b[39m \u001b[39mstr\u001b[39m(\u001b[39mself\u001b[39m\u001b[39m.\u001b[39mfp\u001b[39m.\u001b[39mreadline(_MAXLINE \u001b[39m+\u001b[39m \u001b[39m1\u001b[39m), \u001b[39m\"\u001b[39m\u001b[39miso-8859-1\u001b[39m\u001b[39m\"\u001b[39m)\n\u001b[0;32m    280\u001b[0m     \u001b[39mif\u001b[39;00m \u001b[39mlen\u001b[39m(line) \u001b[39m>\u001b[39m _MAXLINE:\n\u001b[0;32m    281\u001b[0m         \u001b[39mraise\u001b[39;00m LineTooLong(\u001b[39m\"\u001b[39m\u001b[39mstatus line\u001b[39m\u001b[39m\"\u001b[39m)\n",
      "File \u001b[1;32mc:\\Users\\smend\\miniconda3\\envs\\stevens\\Lib\\socket.py:706\u001b[0m, in \u001b[0;36mSocketIO.readinto\u001b[1;34m(self, b)\u001b[0m\n\u001b[0;32m    704\u001b[0m \u001b[39mwhile\u001b[39;00m \u001b[39mTrue\u001b[39;00m:\n\u001b[0;32m    705\u001b[0m     \u001b[39mtry\u001b[39;00m:\n\u001b[1;32m--> 706\u001b[0m         \u001b[39mreturn\u001b[39;00m \u001b[39mself\u001b[39;49m\u001b[39m.\u001b[39;49m_sock\u001b[39m.\u001b[39;49mrecv_into(b)\n\u001b[0;32m    707\u001b[0m     \u001b[39mexcept\u001b[39;00m timeout:\n\u001b[0;32m    708\u001b[0m         \u001b[39mself\u001b[39m\u001b[39m.\u001b[39m_timeout_occurred \u001b[39m=\u001b[39m \u001b[39mTrue\u001b[39;00m\n",
      "File \u001b[1;32mc:\\Users\\smend\\miniconda3\\envs\\stevens\\Lib\\ssl.py:1311\u001b[0m, in \u001b[0;36mSSLSocket.recv_into\u001b[1;34m(self, buffer, nbytes, flags)\u001b[0m\n\u001b[0;32m   1307\u001b[0m     \u001b[39mif\u001b[39;00m flags \u001b[39m!=\u001b[39m \u001b[39m0\u001b[39m:\n\u001b[0;32m   1308\u001b[0m         \u001b[39mraise\u001b[39;00m \u001b[39mValueError\u001b[39;00m(\n\u001b[0;32m   1309\u001b[0m           \u001b[39m\"\u001b[39m\u001b[39mnon-zero flags not allowed in calls to recv_into() on \u001b[39m\u001b[39m%s\u001b[39;00m\u001b[39m\"\u001b[39m \u001b[39m%\u001b[39m\n\u001b[0;32m   1310\u001b[0m           \u001b[39mself\u001b[39m\u001b[39m.\u001b[39m\u001b[39m__class__\u001b[39m)\n\u001b[1;32m-> 1311\u001b[0m     \u001b[39mreturn\u001b[39;00m \u001b[39mself\u001b[39;49m\u001b[39m.\u001b[39;49mread(nbytes, buffer)\n\u001b[0;32m   1312\u001b[0m \u001b[39melse\u001b[39;00m:\n\u001b[0;32m   1313\u001b[0m     \u001b[39mreturn\u001b[39;00m \u001b[39msuper\u001b[39m()\u001b[39m.\u001b[39mrecv_into(buffer, nbytes, flags)\n",
      "File \u001b[1;32mc:\\Users\\smend\\miniconda3\\envs\\stevens\\Lib\\ssl.py:1167\u001b[0m, in \u001b[0;36mSSLSocket.read\u001b[1;34m(self, len, buffer)\u001b[0m\n\u001b[0;32m   1165\u001b[0m \u001b[39mtry\u001b[39;00m:\n\u001b[0;32m   1166\u001b[0m     \u001b[39mif\u001b[39;00m buffer \u001b[39mis\u001b[39;00m \u001b[39mnot\u001b[39;00m \u001b[39mNone\u001b[39;00m:\n\u001b[1;32m-> 1167\u001b[0m         \u001b[39mreturn\u001b[39;00m \u001b[39mself\u001b[39;49m\u001b[39m.\u001b[39;49m_sslobj\u001b[39m.\u001b[39;49mread(\u001b[39mlen\u001b[39;49m, buffer)\n\u001b[0;32m   1168\u001b[0m     \u001b[39melse\u001b[39;00m:\n\u001b[0;32m   1169\u001b[0m         \u001b[39mreturn\u001b[39;00m \u001b[39mself\u001b[39m\u001b[39m.\u001b[39m_sslobj\u001b[39m.\u001b[39mread(\u001b[39mlen\u001b[39m)\n",
      "\u001b[1;31mKeyboardInterrupt\u001b[0m: "
     ]
    }
   ],
   "source": [
    "for i, row in df.iterrows():\n",
    "    tconst = row[\"tconst\"]\n",
    "    short_desc_url = f\"https://www.imdb.com/title/{tconst}\"\n",
    "    html = crawl_url(short_desc_url)\n",
    "    short_desc = extract_short_desc(html)\n",
    "    df.loc[i, \"short_desc\"] = str(short_desc)\n",
    "    if short_desc.strip().endswith(\"Read all\"):\n",
    "        long_desc_url = f\"https://www.imdb.com/title/{tconst}/plotsummary/?ref_=tt_ov_pl\"\n",
    "        html = crawl_url(long_desc_url)\n",
    "        long_desc = extract_long_desc(html)\n",
    "        df.loc[i, \"long_desc\"] = str(long_desc)\n",
    "    time.sleep(0.5)\n",
    "    print(i, \"completed\")"
   ]
  },
  {
   "cell_type": "code",
   "execution_count": 16,
   "id": "406af5d9",
   "metadata": {},
   "outputs": [
    {
     "data": {
      "text/plain": [
       "'Andy, an idealist medical student with a serious Elvis obsession, works to perfect his rat-to-rat brain transfer to \"help mankind and change the face of modern science\". After his final experiment fails and blows up, Andy loses his chance to travel abroad and study at the prestigious Reinhardt Institute. With his future in doubt, and with no place to live, his future looks bleak. Little does Andy know that his beloved professor and mentor, Doc Crosby, is actually a mad scientist who has been murdering people and stealing their brains for experiments in his makeshift \"black and white\" laboratory. When Doc realizes that his own brains so severely damaged from experimenting on himself, and that he will be dead in a matter of hours without a successful brain transfer, he hatches a scheme to acquire the thirteen human brains needed for his \"brain pyramid\". Knowing that Andy is homeless and that college kids can\\'t resist having big parties, Doc invites Andy to house-sit while he goes away on \"business\". After he frees his deranged lab assistant from the insane asylum, and with his house now full of healthy unsuspecting college kids, Doc\\'s trap is set. When the party begins, so does the deadly game of cat and mouse. Will Andy save his friends from the scalpel of a madman, or will Doc succeed in his murderous plot to save his own life by completing the first even human brain transference procedure?—Production'"
      ]
     },
     "execution_count": 16,
     "metadata": {},
     "output_type": "execute_result"
    }
   ],
   "source": [
    "df.loc[3][\"long_desc\"]"
   ]
  },
  {
   "cell_type": "markdown",
   "id": "0d45fe6b-d25e-485b-93bc-56a6343405f7",
   "metadata": {},
   "source": [
    "# Output Analysis"
   ]
  },
  {
   "cell_type": "code",
   "execution_count": 1,
   "id": "5ec2b9d0-8ae0-420b-8035-47e665bcebad",
   "metadata": {},
   "outputs": [],
   "source": [
    "import pandas as pd"
   ]
  },
  {
   "cell_type": "code",
   "execution_count": 2,
   "id": "5834c1d0-6ac2-4d94-bf6d-b5ad7e21bf8f",
   "metadata": {},
   "outputs": [],
   "source": [
    "df = pd.read_feather(\"datasets/movie_datasets/imdb/48_movies_html_subset.feather\")"
   ]
  },
  {
   "cell_type": "code",
   "execution_count": 3,
   "id": "7216a21c-385a-47e9-ae40-bd1833bc9336",
   "metadata": {},
   "outputs": [
    {
     "name": "stdout",
     "output_type": "stream",
     "text": [
      "tt7637354\n",
      "Norte\n"
     ]
    }
   ],
   "source": [
    "sample = df.iloc[2]\n",
    "print(sample[\"tconst\"])\n",
    "print(sample[\"originalTitle\"])"
   ]
  },
  {
   "cell_type": "code",
   "execution_count": 4,
   "id": "eff0c45f-9f5a-4eba-b990-baf5b0aa020e",
   "metadata": {},
   "outputs": [
    {
     "ename": "NameError",
     "evalue": "name 'BeautifulSoup' is not defined",
     "output_type": "error",
     "traceback": [
      "\u001b[1;31m---------------------------------------------------------------------------\u001b[0m",
      "\u001b[1;31mNameError\u001b[0m                                 Traceback (most recent call last)",
      "Cell \u001b[1;32mIn[4], line 1\u001b[0m\n\u001b[1;32m----> 1\u001b[0m soup \u001b[38;5;241m=\u001b[39m \u001b[43mBeautifulSoup\u001b[49m(sample[\u001b[38;5;124m\"\u001b[39m\u001b[38;5;124mplot_html\u001b[39m\u001b[38;5;124m\"\u001b[39m], \u001b[38;5;124m\"\u001b[39m\u001b[38;5;124mhtml.parser\u001b[39m\u001b[38;5;124m\"\u001b[39m)\n",
      "\u001b[1;31mNameError\u001b[0m: name 'BeautifulSoup' is not defined"
     ]
    }
   ],
   "source": [
    "soup = BeautifulSoup(sample[\"plot_html\"], \"html.parser\")"
   ]
  },
  {
   "cell_type": "code",
   "execution_count": 49,
   "id": "560d7925-3ece-476d-8fc3-57d4d1f66c9d",
   "metadata": {},
   "outputs": [],
   "source": [
    "for object in soup.find_all('div', class_=\"ipc-html-content-inner-div\"):\n",
    "    print(object.text, \"\\n\")"
   ]
  },
  {
   "cell_type": "code",
   "execution_count": null,
   "id": "8595cf12-7064-4767-9fb9-7658a51d97b5",
   "metadata": {},
   "outputs": [],
   "source": []
  }
 ],
 "metadata": {
  "kernelspec": {
   "display_name": "stevens",
   "language": "python",
   "name": "python3"
  },
  "language_info": {
   "codemirror_mode": {
    "name": "ipython",
    "version": 3
   },
   "file_extension": ".py",
   "mimetype": "text/x-python",
   "name": "python",
   "nbconvert_exporter": "python",
   "pygments_lexer": "ipython3",
   "version": "3.11.5"
  }
 },
 "nbformat": 4,
 "nbformat_minor": 5
}
