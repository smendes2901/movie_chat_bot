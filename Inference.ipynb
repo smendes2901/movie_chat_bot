{
 "cells": [
  {
   "cell_type": "code",
   "execution_count": 1,
   "id": "bd898a4a-df5b-49c3-8f3c-2619b8fc15a5",
   "metadata": {},
   "outputs": [
    {
     "name": "stdout",
     "output_type": "stream",
     "text": [
      "bin C:\\Users\\smend\\miniconda3\\envs\\stevens\\Lib\\site-packages\\bitsandbytes\\libbitsandbytes_cuda121.dll\n"
     ]
    }
   ],
   "source": [
    "import json\n",
    "import re\n",
    "from pprint import pprint\n",
    "\n",
    "import pandas as pd\n",
    "import torch\n",
    "from datasets import Dataset, DatasetDict, load_dataset\n",
    "from huggingface_hub import notebook_login\n",
    "from peft import LoraConfig, PeftModel\n",
    "from transformers import (\n",
    "    BitsAndBytesConfig,\n",
    "    LlamaForCausalLM,\n",
    "    LlamaTokenizer,\n",
    "    TrainingArguments\n",
    ")\n",
    "\n",
    "DEVICE = \"cuda:0\" if torch.cuda.is_available() else \"cpu\"\n",
    "MODEL_NAME = \"openlm-research/open_llama_3b_v2\""
   ]
  },
  {
   "cell_type": "code",
   "execution_count": 2,
   "id": "a670f881-4549-4c3e-b5bf-4eeb9f1922ed",
   "metadata": {},
   "outputs": [],
   "source": [
    "quantization_config = BitsAndBytesConfig(llm_int8_enable_fp32_cpu_offload=True)"
   ]
  },
  {
   "cell_type": "code",
   "execution_count": 3,
   "id": "a0d3bc85-b0fc-428d-8931-90a184115f62",
   "metadata": {},
   "outputs": [],
   "source": [
    "model = LlamaForCausalLM.from_pretrained(\n",
    "            MODEL_NAME,\n",
    "            load_in_8bit=False,\n",
    "            torch_dtype=torch.float16,\n",
    "            quantization_config=quantization_config,\n",
    "            device_map=\"auto\",)"
   ]
  },
  {
   "cell_type": "code",
   "execution_count": 4,
   "id": "3dd864e4-4f08-4a3b-85e8-0477e1d232c6",
   "metadata": {},
   "outputs": [
    {
     "name": "stderr",
     "output_type": "stream",
     "text": [
      "You are using the default legacy behaviour of the <class 'transformers.models.llama.tokenization_llama.LlamaTokenizer'>. This is expected, and simply means that the `legacy` (previous) behavior will be used so nothing changes for you. If you want to use the new behaviour, set `legacy=False`. This should only be set if you understand what it means, and thouroughly read the reason why this was added as explained in https://github.com/huggingface/transformers/pull/24565\n"
     ]
    }
   ],
   "source": [
    "tokenizer = LlamaTokenizer.from_pretrained(MODEL_NAME)"
   ]
  },
  {
   "cell_type": "code",
   "execution_count": 5,
   "id": "c9a38a87-e5bc-4d83-8bf6-f26a9652d0c1",
   "metadata": {},
   "outputs": [],
   "source": [
    "model = PeftModel.from_pretrained(\n",
    "                model,\n",
    "                \"model_dump/checkpoint-500/\",\n",
    "                torch_dtype=torch.float16)"
   ]
  },
  {
   "cell_type": "code",
   "execution_count": 6,
   "id": "0df7549a-25c3-410f-8269-541accb7b83d",
   "metadata": {},
   "outputs": [],
   "source": [
    "test = pd.read_feather(\"datasets/movie_datasets/imdb/test_llm_ds_v1.feather\")"
   ]
  },
  {
   "cell_type": "code",
   "execution_count": 7,
   "id": "dcafe001-4161-4639-99af-11a53e1feaf5",
   "metadata": {},
   "outputs": [
    {
     "data": {
      "text/html": [
       "<div>\n",
       "<style scoped>\n",
       "    .dataframe tbody tr th:only-of-type {\n",
       "        vertical-align: middle;\n",
       "    }\n",
       "\n",
       "    .dataframe tbody tr th {\n",
       "        vertical-align: top;\n",
       "    }\n",
       "\n",
       "    .dataframe thead th {\n",
       "        text-align: right;\n",
       "    }\n",
       "</style>\n",
       "<table border=\"1\" class=\"dataframe\">\n",
       "  <thead>\n",
       "    <tr style=\"text-align: right;\">\n",
       "      <th></th>\n",
       "      <th>tconst</th>\n",
       "      <th>originalTitle</th>\n",
       "      <th>data</th>\n",
       "      <th>question</th>\n",
       "      <th>answer</th>\n",
       "      <th>prompt</th>\n",
       "    </tr>\n",
       "  </thead>\n",
       "  <tbody>\n",
       "    <tr>\n",
       "      <th>0</th>\n",
       "      <td>tt16252240</td>\n",
       "      <td>The Pitch</td>\n",
       "      <td>Description: A tech geek and a gorgeous secret...</td>\n",
       "      <td>What is the secretary's name?</td>\n",
       "      <td>Unknown</td>\n",
       "      <td>Below is a question regarding movies and shows...</td>\n",
       "    </tr>\n",
       "    <tr>\n",
       "      <th>1</th>\n",
       "      <td>tt11172868</td>\n",
       "      <td>Unbreakable</td>\n",
       "      <td>Description: Mariel and Deena have been best f...</td>\n",
       "      <td>What is the movie's genre?</td>\n",
       "      <td>Comedy, Drama, Romance</td>\n",
       "      <td>Below is a question regarding movies and shows...</td>\n",
       "    </tr>\n",
       "    <tr>\n",
       "      <th>2</th>\n",
       "      <td>tt12448312</td>\n",
       "      <td>Posts to the Pope</td>\n",
       "      <td>Description: RTE News asked a range of people ...</td>\n",
       "      <td>What is the name of the person who is committe...</td>\n",
       "      <td>Unanswerable</td>\n",
       "      <td>Below is a question regarding movies and shows...</td>\n",
       "    </tr>\n",
       "    <tr>\n",
       "      <th>3</th>\n",
       "      <td>tt11229886</td>\n",
       "      <td>Les Misérables: The Staged Concert</td>\n",
       "      <td>Description: Seen by over 120 million people w...</td>\n",
       "      <td>Where can you watch \"Les Misérables: The Stage...</td>\n",
       "      <td>cinemas</td>\n",
       "      <td>Below is a question regarding movies and shows...</td>\n",
       "    </tr>\n",
       "    <tr>\n",
       "      <th>4</th>\n",
       "      <td>tt11994944</td>\n",
       "      <td>Plymouth, Michigan - A Rich History</td>\n",
       "      <td>Description: Founded in 1825, the Plymouth com...</td>\n",
       "      <td>What fires are mentioned in \"Plymouth, Michiga...</td>\n",
       "      <td>The Great Fire of 1871, the Plymouth Train Sta...</td>\n",
       "      <td>Below is a question regarding movies and shows...</td>\n",
       "    </tr>\n",
       "  </tbody>\n",
       "</table>\n",
       "</div>"
      ],
      "text/plain": [
       "       tconst                        originalTitle  \\\n",
       "0  tt16252240                            The Pitch   \n",
       "1  tt11172868                          Unbreakable   \n",
       "2  tt12448312                    Posts to the Pope   \n",
       "3  tt11229886   Les Misérables: The Staged Concert   \n",
       "4  tt11994944  Plymouth, Michigan - A Rich History   \n",
       "\n",
       "                                                data  \\\n",
       "0  Description: A tech geek and a gorgeous secret...   \n",
       "1  Description: Mariel and Deena have been best f...   \n",
       "2  Description: RTE News asked a range of people ...   \n",
       "3  Description: Seen by over 120 million people w...   \n",
       "4  Description: Founded in 1825, the Plymouth com...   \n",
       "\n",
       "                                            question  \\\n",
       "0                      What is the secretary's name?   \n",
       "1                         What is the movie's genre?   \n",
       "2  What is the name of the person who is committe...   \n",
       "3  Where can you watch \"Les Misérables: The Stage...   \n",
       "4  What fires are mentioned in \"Plymouth, Michiga...   \n",
       "\n",
       "                                              answer  \\\n",
       "0                                            Unknown   \n",
       "1                             Comedy, Drama, Romance   \n",
       "2                                       Unanswerable   \n",
       "3                                            cinemas   \n",
       "4  The Great Fire of 1871, the Plymouth Train Sta...   \n",
       "\n",
       "                                              prompt  \n",
       "0  Below is a question regarding movies and shows...  \n",
       "1  Below is a question regarding movies and shows...  \n",
       "2  Below is a question regarding movies and shows...  \n",
       "3  Below is a question regarding movies and shows...  \n",
       "4  Below is a question regarding movies and shows...  "
      ]
     },
     "execution_count": 7,
     "metadata": {},
     "output_type": "execute_result"
    }
   ],
   "source": [
    "test.head()"
   ]
  },
  {
   "cell_type": "code",
   "execution_count": 29,
   "id": "db6b82a6-b238-4c0b-b2d3-486dcdf0dab8",
   "metadata": {},
   "outputs": [
    {
     "name": "stdout",
     "output_type": "stream",
     "text": [
      "Below is a question regarding movies and shows paired with an input that provides further context. Write a response that appropriately completes the request.\n",
      "###Instruction: What is the runtime of the movie?\n",
      "###Input: Description: 23rd installment in the \"Yami Douga\" series. \n",
      "Release Year: 2019 \n",
      "Runtime(in minutes): 56 \n",
      "Genre: Horror\n",
      "###Response:\n",
      "56 minutes\n"
     ]
    }
   ],
   "source": [
    "idx = 450\n",
    "prompt, answer = test.iloc[idx].prompt, test.iloc[idx].answer\n",
    "print(prompt)\n",
    "print(answer)"
   ]
  },
  {
   "cell_type": "code",
   "execution_count": 30,
   "id": "da89fedd-5b48-4284-8f25-ea6177b784ac",
   "metadata": {},
   "outputs": [],
   "source": [
    "inputs = tokenizer(prompt, return_tensors=\"pt\")\n",
    "input_ids = inputs[\"input_ids\"].to(DEVICE)"
   ]
  },
  {
   "cell_type": "code",
   "execution_count": 31,
   "id": "d0038981-c583-4b2c-8a75-22a9320dcd8b",
   "metadata": {},
   "outputs": [],
   "source": [
    "with torch.no_grad():\n",
    "    generation_output = model.generate(\n",
    "                    input_ids=input_ids,\n",
    "                    return_dict_in_generate=True,\n",
    "                    output_scores=True,\n",
    "                    max_new_tokens=512,\n",
    "                )"
   ]
  },
  {
   "cell_type": "code",
   "execution_count": 32,
   "id": "319a68e3-f47b-4829-9b7e-b9d19e66152b",
   "metadata": {},
   "outputs": [],
   "source": [
    "s = generation_output.sequences[0]\n",
    "output = tokenizer.decode(s, skip_special_tokens=True)"
   ]
  },
  {
   "cell_type": "code",
   "execution_count": 33,
   "id": "ba8aee7d-7b82-4122-9ffa-2065e2781524",
   "metadata": {},
   "outputs": [
    {
     "name": "stdout",
     "output_type": "stream",
     "text": [
      "Below is a question regarding movies and shows paired with an input that provides further context. Write a response that appropriately completes the request.\n",
      "###Instruction: What is the runtime of the movie?\n",
      "###Input: Description: 23rd installment in the \"Yami Douga\" series. \n",
      "Release Year: 2019 \n",
      "Runtime(in minutes): 56 \n",
      "Genre: Horror\n",
      "###Response: 56 minutes\n"
     ]
    }
   ],
   "source": [
    "print(output)"
   ]
  },
  {
   "cell_type": "code",
   "execution_count": null,
   "id": "2791aa3b-91c9-41e7-b33a-fa9aaee4d4e4",
   "metadata": {},
   "outputs": [],
   "source": []
  },
  {
   "cell_type": "code",
   "execution_count": null,
   "id": "f4fbfa35",
   "metadata": {},
   "outputs": [],
   "source": []
  }
 ],
 "metadata": {
  "kernelspec": {
   "display_name": "stevens",
   "language": "python",
   "name": "stevens"
  },
  "language_info": {
   "codemirror_mode": {
    "name": "ipython",
    "version": 3
   },
   "file_extension": ".py",
   "mimetype": "text/x-python",
   "name": "python",
   "nbconvert_exporter": "python",
   "pygments_lexer": "ipython3",
   "version": "3.11.5"
  }
 },
 "nbformat": 4,
 "nbformat_minor": 5
}
