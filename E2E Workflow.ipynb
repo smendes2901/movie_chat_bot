{
 "cells": [
  {
   "cell_type": "code",
   "execution_count": 1,
   "id": "c0ec8c96-dd90-407e-9cf6-e8d820e0b086",
   "metadata": {},
   "outputs": [],
   "source": [
    "import pandas as pd\n",
    "from tqdm import tqdm\n",
    "tqdm.pandas()"
   ]
  },
  {
   "cell_type": "code",
   "execution_count": 2,
   "id": "e812cbc8-8caf-4cf8-bd2a-3ca839da0e4d",
   "metadata": {},
   "outputs": [],
   "source": [
    "from sentence_transformers import SentenceTransformer,  models, util"
   ]
  },
  {
   "cell_type": "code",
   "execution_count": 3,
   "id": "442dddb3-9bd7-46fd-81e3-0cedce4712d1",
   "metadata": {},
   "outputs": [],
   "source": [
    "trained_model = SentenceTransformer(\"sentence-transformers/all-MiniLM-L6-v2\")"
   ]
  },
  {
   "cell_type": "code",
   "execution_count": 4,
   "id": "63dc28a1-83e6-4c0f-8106-7a7cadb3dbc4",
   "metadata": {},
   "outputs": [
    {
     "name": "stderr",
     "output_type": "stream",
     "text": [
      "C:\\Users\\smend\\AppData\\Local\\Temp\\ipykernel_27804\\3062502678.py:1: DtypeWarning: Columns (4) have mixed types. Specify dtype option on import or set low_memory=False.\n",
      "  movies = pd.read_table(\"datasets/movie_datasets/imdb/title.basics.tsv\", sep=\"\\t\")\n"
     ]
    }
   ],
   "source": [
    "movies = pd.read_table(\"datasets/movie_datasets/imdb/title.basics.tsv\", sep=\"\\t\")"
   ]
  },
  {
   "cell_type": "code",
   "execution_count": 5,
   "id": "992c6ed7-567f-4916-84f3-2a8e844b5417",
   "metadata": {},
   "outputs": [
    {
     "data": {
      "text/html": [
       "<div>\n",
       "<style scoped>\n",
       "    .dataframe tbody tr th:only-of-type {\n",
       "        vertical-align: middle;\n",
       "    }\n",
       "\n",
       "    .dataframe tbody tr th {\n",
       "        vertical-align: top;\n",
       "    }\n",
       "\n",
       "    .dataframe thead th {\n",
       "        text-align: right;\n",
       "    }\n",
       "</style>\n",
       "<table border=\"1\" class=\"dataframe\">\n",
       "  <thead>\n",
       "    <tr style=\"text-align: right;\">\n",
       "      <th></th>\n",
       "      <th>tconst</th>\n",
       "      <th>titleType</th>\n",
       "      <th>primaryTitle</th>\n",
       "      <th>originalTitle</th>\n",
       "      <th>isAdult</th>\n",
       "      <th>startYear</th>\n",
       "      <th>endYear</th>\n",
       "      <th>runtimeMinutes</th>\n",
       "      <th>genres</th>\n",
       "    </tr>\n",
       "  </thead>\n",
       "  <tbody>\n",
       "    <tr>\n",
       "      <th>0</th>\n",
       "      <td>tt0000001</td>\n",
       "      <td>short</td>\n",
       "      <td>Carmencita</td>\n",
       "      <td>Carmencita</td>\n",
       "      <td>0</td>\n",
       "      <td>1894</td>\n",
       "      <td>\\N</td>\n",
       "      <td>1</td>\n",
       "      <td>Documentary,Short</td>\n",
       "    </tr>\n",
       "    <tr>\n",
       "      <th>1</th>\n",
       "      <td>tt0000002</td>\n",
       "      <td>short</td>\n",
       "      <td>Le clown et ses chiens</td>\n",
       "      <td>Le clown et ses chiens</td>\n",
       "      <td>0</td>\n",
       "      <td>1892</td>\n",
       "      <td>\\N</td>\n",
       "      <td>5</td>\n",
       "      <td>Animation,Short</td>\n",
       "    </tr>\n",
       "    <tr>\n",
       "      <th>2</th>\n",
       "      <td>tt0000003</td>\n",
       "      <td>short</td>\n",
       "      <td>Pauvre Pierrot</td>\n",
       "      <td>Pauvre Pierrot</td>\n",
       "      <td>0</td>\n",
       "      <td>1892</td>\n",
       "      <td>\\N</td>\n",
       "      <td>4</td>\n",
       "      <td>Animation,Comedy,Romance</td>\n",
       "    </tr>\n",
       "    <tr>\n",
       "      <th>3</th>\n",
       "      <td>tt0000004</td>\n",
       "      <td>short</td>\n",
       "      <td>Un bon bock</td>\n",
       "      <td>Un bon bock</td>\n",
       "      <td>0</td>\n",
       "      <td>1892</td>\n",
       "      <td>\\N</td>\n",
       "      <td>12</td>\n",
       "      <td>Animation,Short</td>\n",
       "    </tr>\n",
       "    <tr>\n",
       "      <th>4</th>\n",
       "      <td>tt0000005</td>\n",
       "      <td>short</td>\n",
       "      <td>Blacksmith Scene</td>\n",
       "      <td>Blacksmith Scene</td>\n",
       "      <td>0</td>\n",
       "      <td>1893</td>\n",
       "      <td>\\N</td>\n",
       "      <td>1</td>\n",
       "      <td>Comedy,Short</td>\n",
       "    </tr>\n",
       "  </tbody>\n",
       "</table>\n",
       "</div>"
      ],
      "text/plain": [
       "      tconst titleType            primaryTitle           originalTitle  \\\n",
       "0  tt0000001     short              Carmencita              Carmencita   \n",
       "1  tt0000002     short  Le clown et ses chiens  Le clown et ses chiens   \n",
       "2  tt0000003     short          Pauvre Pierrot          Pauvre Pierrot   \n",
       "3  tt0000004     short             Un bon bock             Un bon bock   \n",
       "4  tt0000005     short        Blacksmith Scene        Blacksmith Scene   \n",
       "\n",
       "  isAdult startYear endYear runtimeMinutes                    genres  \n",
       "0       0      1894      \\N              1         Documentary,Short  \n",
       "1       0      1892      \\N              5           Animation,Short  \n",
       "2       0      1892      \\N              4  Animation,Comedy,Romance  \n",
       "3       0      1892      \\N             12           Animation,Short  \n",
       "4       0      1893      \\N              1              Comedy,Short  "
      ]
     },
     "execution_count": 5,
     "metadata": {},
     "output_type": "execute_result"
    }
   ],
   "source": [
    "movies.head()"
   ]
  },
  {
   "cell_type": "code",
   "execution_count": 6,
   "id": "cfd846cc-da37-4522-9c75-91c152fbfd18",
   "metadata": {},
   "outputs": [],
   "source": [
    "movies = movies[movies[\"titleType\"]==\"movie\"]"
   ]
  },
  {
   "cell_type": "code",
   "execution_count": 7,
   "id": "357f8e10-4705-4061-ac90-318e84e35893",
   "metadata": {
    "scrolled": true
   },
   "outputs": [
    {
     "data": {
      "text/html": [
       "<div>\n",
       "<style scoped>\n",
       "    .dataframe tbody tr th:only-of-type {\n",
       "        vertical-align: middle;\n",
       "    }\n",
       "\n",
       "    .dataframe tbody tr th {\n",
       "        vertical-align: top;\n",
       "    }\n",
       "\n",
       "    .dataframe thead th {\n",
       "        text-align: right;\n",
       "    }\n",
       "</style>\n",
       "<table border=\"1\" class=\"dataframe\">\n",
       "  <thead>\n",
       "    <tr style=\"text-align: right;\">\n",
       "      <th></th>\n",
       "      <th>tconst</th>\n",
       "      <th>titleType</th>\n",
       "      <th>primaryTitle</th>\n",
       "      <th>originalTitle</th>\n",
       "      <th>isAdult</th>\n",
       "      <th>startYear</th>\n",
       "      <th>endYear</th>\n",
       "      <th>runtimeMinutes</th>\n",
       "      <th>genres</th>\n",
       "    </tr>\n",
       "  </thead>\n",
       "  <tbody>\n",
       "    <tr>\n",
       "      <th>40141</th>\n",
       "      <td>tt0040852</td>\n",
       "      <td>movie</td>\n",
       "      <td>Superman</td>\n",
       "      <td>Superman</td>\n",
       "      <td>0</td>\n",
       "      <td>1948</td>\n",
       "      <td>\\N</td>\n",
       "      <td>244</td>\n",
       "      <td>Sci-Fi</td>\n",
       "    </tr>\n",
       "    <tr>\n",
       "      <th>41472</th>\n",
       "      <td>tt0042211</td>\n",
       "      <td>movie</td>\n",
       "      <td>Atom Man vs. Superman</td>\n",
       "      <td>Atom Man vs. Superman</td>\n",
       "      <td>0</td>\n",
       "      <td>1950</td>\n",
       "      <td>\\N</td>\n",
       "      <td>252</td>\n",
       "      <td>Family,Sci-Fi</td>\n",
       "    </tr>\n",
       "    <tr>\n",
       "      <th>43315</th>\n",
       "      <td>tt0044091</td>\n",
       "      <td>movie</td>\n",
       "      <td>Superman and the Mole-Men</td>\n",
       "      <td>Superman and the Mole-Men</td>\n",
       "      <td>0</td>\n",
       "      <td>1951</td>\n",
       "      <td>\\N</td>\n",
       "      <td>58</td>\n",
       "      <td>Action,Adventure,Drama</td>\n",
       "    </tr>\n",
       "    <tr>\n",
       "      <th>46688</th>\n",
       "      <td>tt0047545</td>\n",
       "      <td>movie</td>\n",
       "      <td>Superman Flies Again</td>\n",
       "      <td>Superman Flies Again</td>\n",
       "      <td>0</td>\n",
       "      <td>1954</td>\n",
       "      <td>\\N</td>\n",
       "      <td>77</td>\n",
       "      <td>Action,Fantasy,Sci-Fi</td>\n",
       "    </tr>\n",
       "    <tr>\n",
       "      <th>46689</th>\n",
       "      <td>tt0047546</td>\n",
       "      <td>movie</td>\n",
       "      <td>Superman and the Jungle Devil</td>\n",
       "      <td>Superman and the Jungle Devil</td>\n",
       "      <td>0</td>\n",
       "      <td>1954</td>\n",
       "      <td>\\N</td>\n",
       "      <td>77</td>\n",
       "      <td>Action,Fantasy,Sci-Fi</td>\n",
       "    </tr>\n",
       "    <tr>\n",
       "      <th>...</th>\n",
       "      <td>...</td>\n",
       "      <td>...</td>\n",
       "      <td>...</td>\n",
       "      <td>...</td>\n",
       "      <td>...</td>\n",
       "      <td>...</td>\n",
       "      <td>...</td>\n",
       "      <td>...</td>\n",
       "      <td>...</td>\n",
       "    </tr>\n",
       "    <tr>\n",
       "      <th>8954890</th>\n",
       "      <td>tt6992282</td>\n",
       "      <td>movie</td>\n",
       "      <td>Superman vs. The KKK</td>\n",
       "      <td>Superman vs. The KKK</td>\n",
       "      <td>0</td>\n",
       "      <td>\\N</td>\n",
       "      <td>\\N</td>\n",
       "      <td>\\N</td>\n",
       "      <td>Thriller</td>\n",
       "    </tr>\n",
       "    <tr>\n",
       "      <th>9176903</th>\n",
       "      <td>tt7480652</td>\n",
       "      <td>movie</td>\n",
       "      <td>Secret Identity: The Origin of Superman</td>\n",
       "      <td>Secret Identity: The Origin of Superman</td>\n",
       "      <td>0</td>\n",
       "      <td>\\N</td>\n",
       "      <td>\\N</td>\n",
       "      <td>\\N</td>\n",
       "      <td>Documentary</td>\n",
       "    </tr>\n",
       "    <tr>\n",
       "      <th>9218495</th>\n",
       "      <td>tt7571716</td>\n",
       "      <td>movie</td>\n",
       "      <td>Superman The Power</td>\n",
       "      <td>Superman The Power</td>\n",
       "      <td>0</td>\n",
       "      <td>2018</td>\n",
       "      <td>\\N</td>\n",
       "      <td>\\N</td>\n",
       "      <td>Action</td>\n",
       "    </tr>\n",
       "    <tr>\n",
       "      <th>9501476</th>\n",
       "      <td>tt8188984</td>\n",
       "      <td>movie</td>\n",
       "      <td>My Son Superman</td>\n",
       "      <td>My Son Superman</td>\n",
       "      <td>0</td>\n",
       "      <td>2016</td>\n",
       "      <td>\\N</td>\n",
       "      <td>45</td>\n",
       "      <td>Comedy</td>\n",
       "    </tr>\n",
       "    <tr>\n",
       "      <th>9629595</th>\n",
       "      <td>tt8466642</td>\n",
       "      <td>movie</td>\n",
       "      <td>American Superman</td>\n",
       "      <td>American Superman</td>\n",
       "      <td>0</td>\n",
       "      <td>\\N</td>\n",
       "      <td>\\N</td>\n",
       "      <td>\\N</td>\n",
       "      <td>Drama</td>\n",
       "    </tr>\n",
       "  </tbody>\n",
       "</table>\n",
       "<p>89 rows × 9 columns</p>\n",
       "</div>"
      ],
      "text/plain": [
       "            tconst titleType                             primaryTitle  \\\n",
       "40141    tt0040852     movie                                 Superman   \n",
       "41472    tt0042211     movie                    Atom Man vs. Superman   \n",
       "43315    tt0044091     movie                Superman and the Mole-Men   \n",
       "46688    tt0047545     movie                     Superman Flies Again   \n",
       "46689    tt0047546     movie            Superman and the Jungle Devil   \n",
       "...            ...       ...                                      ...   \n",
       "8954890  tt6992282     movie                     Superman vs. The KKK   \n",
       "9176903  tt7480652     movie  Secret Identity: The Origin of Superman   \n",
       "9218495  tt7571716     movie                       Superman The Power   \n",
       "9501476  tt8188984     movie                          My Son Superman   \n",
       "9629595  tt8466642     movie                        American Superman   \n",
       "\n",
       "                                   originalTitle isAdult startYear endYear  \\\n",
       "40141                                   Superman       0      1948      \\N   \n",
       "41472                      Atom Man vs. Superman       0      1950      \\N   \n",
       "43315                  Superman and the Mole-Men       0      1951      \\N   \n",
       "46688                       Superman Flies Again       0      1954      \\N   \n",
       "46689              Superman and the Jungle Devil       0      1954      \\N   \n",
       "...                                          ...     ...       ...     ...   \n",
       "8954890                     Superman vs. The KKK       0        \\N      \\N   \n",
       "9176903  Secret Identity: The Origin of Superman       0        \\N      \\N   \n",
       "9218495                       Superman The Power       0      2018      \\N   \n",
       "9501476                          My Son Superman       0      2016      \\N   \n",
       "9629595                        American Superman       0        \\N      \\N   \n",
       "\n",
       "        runtimeMinutes                  genres  \n",
       "40141              244                  Sci-Fi  \n",
       "41472              252           Family,Sci-Fi  \n",
       "43315               58  Action,Adventure,Drama  \n",
       "46688               77   Action,Fantasy,Sci-Fi  \n",
       "46689               77   Action,Fantasy,Sci-Fi  \n",
       "...                ...                     ...  \n",
       "8954890             \\N                Thriller  \n",
       "9176903             \\N             Documentary  \n",
       "9218495             \\N                  Action  \n",
       "9501476             45                  Comedy  \n",
       "9629595             \\N                   Drama  \n",
       "\n",
       "[89 rows x 9 columns]"
      ]
     },
     "execution_count": 7,
     "metadata": {},
     "output_type": "execute_result"
    }
   ],
   "source": [
    "movies[movies.primaryTitle.str.lower().str.contains(\"superman\", na=False)]"
   ]
  },
  {
   "cell_type": "code",
   "execution_count": 8,
   "id": "f7f0f6f1-ad9f-4f29-bc76-768bb2700561",
   "metadata": {},
   "outputs": [],
   "source": [
    "movies_dict = {}\n",
    "movies_list = []"
   ]
  },
  {
   "cell_type": "code",
   "execution_count": 9,
   "id": "5f230ac6-9520-4817-a2f0-24a3bd788958",
   "metadata": {},
   "outputs": [
    {
     "name": "stderr",
     "output_type": "stream",
     "text": [
      "662293it [01:01, 10856.27it/s]\n"
     ]
    }
   ],
   "source": [
    "for i, row in tqdm(movies[movies[\"titleType\"]==\"movie\"].iterrows()):\n",
    "    movies_dict[row[\"originalTitle\"]]=row[\"tconst\"]\n",
    "    movies_list.append(row[\"originalTitle\"])"
   ]
  },
  {
   "cell_type": "code",
   "execution_count": 10,
   "id": "f8ee1d5a-f103-481d-8dbd-6ac8f1f54fc2",
   "metadata": {},
   "outputs": [],
   "source": [
    "def generate_embeddings(string):\n",
    "    return trained_model.encode(string, convert_to_tensor=True, normalize_embeddings=True, show_progress_bar=True)"
   ]
  },
  {
   "cell_type": "code",
   "execution_count": 11,
   "id": "088737f7-4221-4ca0-8195-1946a40d04da",
   "metadata": {},
   "outputs": [
    {
     "data": {
      "application/vnd.jupyter.widget-view+json": {
       "model_id": "8082e18f2fee4148b0d7b0eddf631e79",
       "version_major": 2,
       "version_minor": 0
      },
      "text/plain": [
       "Batches:   0%|          | 0/20697 [00:00<?, ?it/s]"
      ]
     },
     "metadata": {},
     "output_type": "display_data"
    }
   ],
   "source": [
    "movie_embeddings = generate_embeddings(movies_list)"
   ]
  },
  {
   "cell_type": "code",
   "execution_count": 12,
   "id": "5d25a957-b4b3-492c-ab26-03dc23db7a28",
   "metadata": {},
   "outputs": [],
   "source": [
    "def retreive_top_k_results(question, topk=1):\n",
    "    question_embeddings = generate_embeddings(question)\n",
    "    result =  util.semantic_search(question_embeddings, movie_embeddings, top_k=topk)[0][0]\n",
    "    return  result[\"score\"], result[\"corpus_id\"]"
   ]
  },
  {
   "cell_type": "code",
   "execution_count": 13,
   "id": "6b08b892-1e6b-4e12-8c84-e20d7549d65b",
   "metadata": {},
   "outputs": [],
   "source": [
    "question = \"Who were the stars in the movie superman the power?\""
   ]
  },
  {
   "cell_type": "code",
   "execution_count": 14,
   "id": "00ed5d2e-7ecd-4b71-8cfb-f9682b29885d",
   "metadata": {},
   "outputs": [
    {
     "data": {
      "application/vnd.jupyter.widget-view+json": {
       "model_id": "d86111910ebd49dabb560b8c5b3f0791",
       "version_major": 2,
       "version_minor": 0
      },
      "text/plain": [
       "Batches:   0%|          | 0/1 [00:00<?, ?it/s]"
      ]
     },
     "metadata": {},
     "output_type": "display_data"
    },
    {
     "name": "stdout",
     "output_type": "stream",
     "text": [
      "Superman The Power tt7571716 0.7681993246078491\n"
     ]
    }
   ],
   "source": [
    "score, id = retreive_top_k_results(question)\n",
    "print(movies_list[id], movies_dict[movies_list[id]], score)"
   ]
  },
  {
   "cell_type": "code",
   "execution_count": 34,
   "id": "36329293-671d-44c7-bd85-773cf9f178ca",
   "metadata": {},
   "outputs": [
    {
     "data": {
      "text/plain": [
       "'tt0848228'"
      ]
     },
     "execution_count": 34,
     "metadata": {},
     "output_type": "execute_result"
    }
   ],
   "source": []
  },
  {
   "cell_type": "code",
   "execution_count": null,
   "id": "94cfac3a-0f2c-4488-b3e0-858343e8f1f3",
   "metadata": {},
   "outputs": [],
   "source": []
  }
 ],
 "metadata": {
  "kernelspec": {
   "display_name": "Python 3 (ipykernel)",
   "language": "python",
   "name": "python3"
  },
  "language_info": {
   "codemirror_mode": {
    "name": "ipython",
    "version": 3
   },
   "file_extension": ".py",
   "mimetype": "text/x-python",
   "name": "python",
   "nbconvert_exporter": "python",
   "pygments_lexer": "ipython3",
   "version": "3.11.5"
  }
 },
 "nbformat": 4,
 "nbformat_minor": 5
}
