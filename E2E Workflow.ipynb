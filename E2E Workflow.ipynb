{
 "cells": [
  {
   "cell_type": "code",
   "execution_count": 17,
   "id": "c0ec8c96-dd90-407e-9cf6-e8d820e0b086",
   "metadata": {},
   "outputs": [],
   "source": [
    "import numpy as np\n",
    "import pandas as pd\n",
    "import torch\n",
    "from tqdm import tqdm\n",
    "tqdm.pandas()"
   ]
  },
  {
   "cell_type": "code",
   "execution_count": 2,
   "id": "e812cbc8-8caf-4cf8-bd2a-3ca839da0e4d",
   "metadata": {},
   "outputs": [
    {
     "name": "stdout",
     "output_type": "stream",
     "text": [
      "bin c:\\Users\\smend\\miniconda3\\envs\\stevens\\Lib\\site-packages\\bitsandbytes\\libbitsandbytes_cuda121.dll\n"
     ]
    }
   ],
   "source": [
    "from sentence_transformers import SentenceTransformer, util\n",
    "from inference import LLM"
   ]
  },
  {
   "cell_type": "code",
   "execution_count": 28,
   "metadata": {},
   "outputs": [],
   "source": [
    "device = \"cuda\" if torch.cuda.is_available() else \"cpu\""
   ]
  },
  {
   "cell_type": "code",
   "execution_count": 3,
   "id": "442dddb3-9bd7-46fd-81e3-0cedce4712d1",
   "metadata": {},
   "outputs": [],
   "source": [
    "trained_model = SentenceTransformer(\"sentence-transformers/all-MiniLM-L6-v2\")"
   ]
  },
  {
   "cell_type": "code",
   "execution_count": 4,
   "id": "63dc28a1-83e6-4c0f-8106-7a7cadb3dbc4",
   "metadata": {},
   "outputs": [],
   "source": [
    "movies = pd.read_csv(\"datasets/movie_datasets/imdb/movie_complete_clean.csv\")"
   ]
  },
  {
   "cell_type": "code",
   "execution_count": 5,
   "id": "992c6ed7-567f-4916-84f3-2a8e844b5417",
   "metadata": {},
   "outputs": [
    {
     "data": {
      "text/html": [
       "<div>\n",
       "<style scoped>\n",
       "    .dataframe tbody tr th:only-of-type {\n",
       "        vertical-align: middle;\n",
       "    }\n",
       "\n",
       "    .dataframe tbody tr th {\n",
       "        vertical-align: top;\n",
       "    }\n",
       "\n",
       "    .dataframe thead th {\n",
       "        text-align: right;\n",
       "    }\n",
       "</style>\n",
       "<table border=\"1\" class=\"dataframe\">\n",
       "  <thead>\n",
       "    <tr style=\"text-align: right;\">\n",
       "      <th></th>\n",
       "      <th>tconst</th>\n",
       "      <th>originalTitle</th>\n",
       "      <th>startYear</th>\n",
       "      <th>genres</th>\n",
       "      <th>runtimeMinutes</th>\n",
       "      <th>averageRating</th>\n",
       "      <th>numVotes</th>\n",
       "    </tr>\n",
       "  </thead>\n",
       "  <tbody>\n",
       "    <tr>\n",
       "      <th>0</th>\n",
       "      <td>tt0000009</td>\n",
       "      <td>Miss Jerry</td>\n",
       "      <td>1894</td>\n",
       "      <td>Romance</td>\n",
       "      <td>45</td>\n",
       "      <td>5.3</td>\n",
       "      <td>207.0</td>\n",
       "    </tr>\n",
       "    <tr>\n",
       "      <th>1</th>\n",
       "      <td>tt0000147</td>\n",
       "      <td>The Corbett-Fitzsimmons Fight</td>\n",
       "      <td>1897</td>\n",
       "      <td>Documentary,News,Sport</td>\n",
       "      <td>100</td>\n",
       "      <td>5.3</td>\n",
       "      <td>484.0</td>\n",
       "    </tr>\n",
       "    <tr>\n",
       "      <th>2</th>\n",
       "      <td>tt0000574</td>\n",
       "      <td>The Story of the Kelly Gang</td>\n",
       "      <td>1906</td>\n",
       "      <td>Action,Adventure,Biography</td>\n",
       "      <td>70</td>\n",
       "      <td>6.0</td>\n",
       "      <td>855.0</td>\n",
       "    </tr>\n",
       "    <tr>\n",
       "      <th>3</th>\n",
       "      <td>tt0000591</td>\n",
       "      <td>L'enfant prodigue</td>\n",
       "      <td>1907</td>\n",
       "      <td>Drama</td>\n",
       "      <td>90</td>\n",
       "      <td>5.0</td>\n",
       "      <td>21.0</td>\n",
       "    </tr>\n",
       "    <tr>\n",
       "      <th>4</th>\n",
       "      <td>tt0000615</td>\n",
       "      <td>Robbery Under Arms</td>\n",
       "      <td>1907</td>\n",
       "      <td>Drama</td>\n",
       "      <td>\\N</td>\n",
       "      <td>4.3</td>\n",
       "      <td>25.0</td>\n",
       "    </tr>\n",
       "  </tbody>\n",
       "</table>\n",
       "</div>"
      ],
      "text/plain": [
       "      tconst                  originalTitle  startYear  \\\n",
       "0  tt0000009                     Miss Jerry       1894   \n",
       "1  tt0000147  The Corbett-Fitzsimmons Fight       1897   \n",
       "2  tt0000574    The Story of the Kelly Gang       1906   \n",
       "3  tt0000591              L'enfant prodigue       1907   \n",
       "4  tt0000615             Robbery Under Arms       1907   \n",
       "\n",
       "                       genres runtimeMinutes  averageRating  numVotes  \n",
       "0                     Romance             45            5.3     207.0  \n",
       "1      Documentary,News,Sport            100            5.3     484.0  \n",
       "2  Action,Adventure,Biography             70            6.0     855.0  \n",
       "3                       Drama             90            5.0      21.0  \n",
       "4                       Drama             \\N            4.3      25.0  "
      ]
     },
     "execution_count": 5,
     "metadata": {},
     "output_type": "execute_result"
    }
   ],
   "source": [
    "movies.head()"
   ]
  },
  {
   "cell_type": "code",
   "execution_count": 6,
   "id": "f8ee1d5a-f103-481d-8dbd-6ac8f1f54fc2",
   "metadata": {},
   "outputs": [],
   "source": [
    "def generate_embeddings(string):\n",
    "    return trained_model.encode(string, convert_to_tensor=True, normalize_embeddings=True, show_progress_bar=True)"
   ]
  },
  {
   "cell_type": "code",
   "execution_count": 7,
   "metadata": {},
   "outputs": [],
   "source": [
    "search_text = lambda details: f'The movie {details[\"originalTitle\"]} was released in the year {details[\"startYear\"]} is a {details[\"genres\"]} with a  runtime of {details[\"runtimeMinutes\"]} minutes' \n",
    "movie_text = lambda details: f'{details[\"originalTitle\"]}  ({details[\"startYear\"]})' "
   ]
  },
  {
   "cell_type": "code",
   "execution_count": 8,
   "metadata": {},
   "outputs": [],
   "source": [
    "movies[\"search_text\"] = movies.apply(search_text, axis=1) \n",
    "movies[\"movie_text\"] = movies.apply(movie_text, axis=1) "
   ]
  },
  {
   "cell_type": "code",
   "execution_count": 22,
   "id": "088737f7-4221-4ca0-8195-1946a40d04da",
   "metadata": {},
   "outputs": [
    {
     "data": {
      "text/plain": [
       "(499864, 384)"
      ]
     },
     "execution_count": 22,
     "metadata": {},
     "output_type": "execute_result"
    }
   ],
   "source": [
    "# movie_embeddings = generate_embeddings(movies[\"movie_text\"].to_list())"
   ]
  },
  {
   "cell_type": "code",
   "execution_count": 16,
   "metadata": {},
   "outputs": [],
   "source": [
    "# np.save(\"./datasets/movie_datasets/imdb/movie_name_embeddings.npy\", movie_embeddings.detach().cpu().numpy())"
   ]
  },
  {
   "cell_type": "code",
   "execution_count": 29,
   "metadata": {},
   "outputs": [],
   "source": [
    "movie_embeddings = np.load(\"./datasets/movie_datasets/imdb/movie_name_embeddings.npy\", allow_pickle=True)\n",
    "movie_embeddings = torch.from_numpy(movie_embeddings).to(device)"
   ]
  },
  {
   "cell_type": "markdown",
   "metadata": {},
   "source": [
    "What movie would you recommend after watch\n",
    "I like <movie>, could you recommend me 3 similar ones?\n"
   ]
  },
  {
   "cell_type": "code",
   "execution_count": 30,
   "id": "5d25a957-b4b3-492c-ab26-03dc23db7a28",
   "metadata": {},
   "outputs": [],
   "source": [
    "def retreive_top_k_results(question, topk=1):\n",
    "    question_embeddings = generate_embeddings(question)\n",
    "    result =  util.semantic_search(question_embeddings, movie_embeddings, top_k=topk)[0][0]\n",
    "    return  result[\"score\"], result[\"corpus_id\"]"
   ]
  },
  {
   "cell_type": "code",
   "execution_count": 31,
   "id": "6b08b892-1e6b-4e12-8c84-e20d7549d65b",
   "metadata": {},
   "outputs": [],
   "source": [
    "question = \"Who were the stars in The Avengers 2012 the power?\""
   ]
  },
  {
   "cell_type": "code",
   "execution_count": 32,
   "id": "00ed5d2e-7ecd-4b71-8cfb-f9682b29885d",
   "metadata": {},
   "outputs": [
    {
     "data": {
      "application/vnd.jupyter.widget-view+json": {
       "model_id": "aa6399f315724c11a6298d22d3e800eb",
       "version_major": 2,
       "version_minor": 0
      },
      "text/plain": [
       "Batches:   0%|          | 0/1 [00:00<?, ?it/s]"
      ]
     },
     "metadata": {},
     "output_type": "display_data"
    },
    {
     "name": "stdout",
     "output_type": "stream",
     "text": [
      "The Avengers tt0848228 0.7060876488685608\n"
     ]
    }
   ],
   "source": [
    "score, id = retreive_top_k_results(question)\n",
    "print(movies[\"originalTitle\"].iloc[id], movies[\"tconst\"].iloc[id], score)\n",
    "tconst = movies[\"tconst\"].iloc[id]"
   ]
  },
  {
   "cell_type": "code",
   "execution_count": 27,
   "metadata": {},
   "outputs": [],
   "source": [
    "from crawler import crawl_url\n",
    "from utils import extract_additional_information, clean_synopsis"
   ]
  },
  {
   "cell_type": "code",
   "execution_count": 37,
   "metadata": {},
   "outputs": [
    {
     "data": {
      "text/plain": [
       "Index(['originalTitle', 'startYear', 'genres', 'runtimeMinutes',\n",
       "       'averageRating', 'numVotes', 'search_text', 'movie_text'],\n",
       "      dtype='object')"
      ]
     },
     "execution_count": 37,
     "metadata": {},
     "output_type": "execute_result"
    }
   ],
   "source": [
    "movies_info = movies.set_index(\"tconst\").copy()\n",
    "movies_info.columns"
   ]
  },
  {
   "cell_type": "code",
   "execution_count": 40,
   "id": "36329293-671d-44c7-bd85-773cf9f178ca",
   "metadata": {},
   "outputs": [],
   "source": [
    "def generate_template(tconst, question):\n",
    "    # short_desc_url = f\"https://www.imdb.com/title/{tconst}\"\n",
    "    # main_html = crawl_url(short_desc_url)\n",
    "    long_desc_url = (\n",
    "        f\"https://www.imdb.com/title/{tconst}/plotsummary/?ref_=tt_ov_pl\"\n",
    "    )\n",
    "    plot_html = crawl_url(long_desc_url)\n",
    "    synopsis = extract_additional_information(plot_html)\n",
    "    synopsis = clean_synopsis(synopsis)\n",
    "    details = movies_info.loc[tconst]\n",
    "    return f\"\"\"\n",
    "Below is a question regarding movies and shows paired with an input that provides further context. Write a response that appropriately completes the request.\n",
    "###Instruction: {question}\n",
    "###Input: Description: {synopsis} \\n Release Year: {details[\"startYear\"]} \\n Genre: {details[\"genres\"]} \\n Runtime: {details[\"runtimeMinutes\"]} minutes \\n Rating: {details[\"averageRating\"]}\n",
    "###Response:\n",
    "\"\"\"    \n",
    "\n",
    "    \n"
   ]
  },
  {
   "cell_type": "code",
   "execution_count": 41,
   "metadata": {},
   "outputs": [
    {
     "name": "stdout",
     "output_type": "stream",
     "text": [
      "\n",
      "Below is a question regarding movies and shows paired with an input that provides further context. Write a response that appropriately completes the request.\n",
      "###Instruction: Who were the stars in The Avengers 2012 the power?\n",
      "###Input: Description: Nick Fury (Samuel L. Jackson), director of S.H.I.E.L.D. (Strategic Homeland Intervention, Enforcement, and Logistics Division), arrives at S.H.I.E.L.D. headquarters outside of Santa Fe, New Mexico, during an evacuation. The Tesseract, an energy source of unknown potential, has activated. It opens a portal through space and the exiled Norse god Loki (Tom Hiddleston) steps through, carrying a strange spear with a blue glowing tip. Loki takes the Tesseract and uses the spear to take control of the minds of several SHIELD personnel, including Dr. Erik Selvig (Stellan Skarsgård) , and Agent Clint \"Hawkeye\" Barton (Jeremy Renner), to aid him in his getaway. SHIELD personnel pull out of their base when an energy surge from the Tesseract causes the ground beneath the base to collapse and destroying it. A short pursuit of Loki fails to capture him.In response to the attack, Nick Fury issues a state of emergency, telling his top agents Phil Coulson (Clark Gregg), Natasha Romanoff (Scarlett Johansson), and Maria Hill (Cobie Smulders), that they are completely out of options. Fury pulls Romanoff and Coulson out of their respective assignments and sends them to find the heroes he needs to oppose Loki. Romanoff is found in Eastern Europe interrogating suspects, and Coulson pulls her off the assignment and sends her to find \"the big guy\": Bruce Banner (Mark Ruffalo), aka The Incredible Hulk. Banner has been living in exile in India working for a hospital in Calcutta helping sick people, and has found inner peace doing so. Romanoff tells Banner about the Tesseract and its' destructive capabilities. As the world's expert on gamma rays, Banner is their best chance to find the cube's location.During a video chat with the World Security Council, the superiors who run S.H.I.E.L.D., Fury is grilled about his plan to bring about the Avengers Initiative. The WSC are furious, saying that it's the wrong thing to do and these people will never work together as a group. Fury says they have no other option and this is their only hope of defeating Loki. The superiors reluctantly agree.Steve Rogers, (Chris Evans) on the other hand, is relatively easy to find. S.H.I.E.L.D. has been keeping tabs on him since he was found in the ice and still alive. Fury goes to greet Rogers at his gymnasium where he finds he doesn't sleep. Fury tells Rogers that he will find a briefing packet about what's going on back at his apartment. Tony Stark (Robert Downey Jr.) is seen in a new Iron Man armor that has underwater capabilities. He is installing a new electrical connection that will take his office building completely off the electrical grid allowing it to become self sustaining. He's greeted at his office by Pepper Potts (Gwyneth Paltrow) who tells him that it's date night. Tony wants Pepper to know how it feels to be a genius and after an argument about how much credit she should get for coming up with the Stark Tower idea, date night is off. Coulson arrives, and Tony quickly and repeatedly tries to cut him off. Coulson hands Tony a laptop with all the data on it about everything that's going on. Pepper decides instead to go to Washington DC to get the zoning permits for the next two buildings for Stark Tower as it seems Tony has homework to do, and a lot of it.On the airplane to the secured location - an aircraft carrier that can convert to a flying aircraft carrier, Coulson is telling Rogers about how it's such an honor that they found him and tells him about his Captain America trading card collection. They then head to the helicarrier and Rogers is introduced to Dr. Bruce Banner. The two then wonder what kind of ride they're in for. Rogers thinks it's a submarine but the last thing Dr. Banner should be riding in is a submerged, pressurized metal container. The carrier takes off. On board, they are briefed that Dr. Selvig and Loki have been traced to Stuttgart, Germany.Rogers' first assignment is to go to Stuttgart to arrest Loki and bring him on board the helicarrier. Loki is at a formal black tie gala at an art museum where he is kidnapping a doctor who harbors the element they need to make the Tesseract work. While Dr. Selvig creates a distraction and Hawkeye kills the men guarding the building, Loki carries out his plan. Outside, he is instructing the civilians present that they need to kneel before him - or else, and that freedom is life's great lie. However, one old man stands up in defiance, and Loki prepares to strike him down. However, the killing shot is neatly blocked by the shield of Rogers as Captain America before moving to confront the god. As Rogers battles Loki, Tony makes his entrance to the tune of AC/DC's \"Shoot To Kill\" with full Iron Man weapons drawn to knock down the god and daring Loki to make a move.Loki quickly surrenders when the two heroes arrive, and while being flown to the high tech prison on board the helicarrier, the plane encounters a lighting storm. Rogers asks Loki if he's afraid of lighting but Loki tells him it's not the lightning that he's afraid of. It's what follows. Thor (Chris Hemsworth), Loki's half-brother and the Norse God of thunder, arrives and attempts to capture Loki so Loki can face Asguardian justice for his crimes (which will be more effective than Earth's), but Thor gets into a fight with Rogers and Tony. The fight ends in a stalemate. Eventually, Loki is taken to the helicarrier and placed in a glass cell designed to hold the Hulk. Fury explains that if Loki attempts to escape, even by merely cracking the glass, a shaft will open below him and he'll plummet to Earth and possibly be killed.On board the aircraft carrier, the fully assembled Avengers squad is being briefed by Fury about what they think will possibly happen next. Loki is in prison and is interrogated by Agent Romanoff. Tony Stark arrives and it seems the only one of the group he really gets along with is Bruce Banner. While conducting experiments on Loki's scepter, Stark tries to get a rise out of Banner so he can witness Banner's famous party trick (read: turning into the Incredible Hulk). Banner flinches and then begins telling about how he's been unable to fully harness his abilities and that he suffered depression after the accident. That's why he moved to Calcutta, as helping people is what gives his life meaning.The Avengers, now brought together, argue and deliberate over how to approach Loki and the revelation that SHIELD plans to harness the Tesseract's power to develop weapons, a discovery made by Rogers. Fury admits that the events in New Mexico a year before (recounted in Thor (2011)) made SHIELD aware of other races on other worlds, some of whom may see Earth as an easy target. Thor is seen asking agent Coulson about what happened to Jane Foster. Coulson tells him that S.H.I.E.L.D. has placed her in their witness protection program and that she's in a safe zone in London.The decision was made to produce weapons with the Tesseract as a means of deterrence. As the group argues, Clint Barton and Loki's possessed agents attack the helicarrier, disabling one of its engines in flight. While Stark and Rogers attempt to restart the damaged engine, Romanoff tries to prevent Dr. Banner from turning into the Hulk and destroying the ship from inside. Her attempt fails and she's chased through the ship until Thor takes up the battle to pacify the beast and manages to fell him briefly with a hit from his hammer, Mjolnir. While fighting Barton, Romanoff slams him into a guard rail, and the blow to the head breaks Loki's mind control. After the Hulk falls from the ship, Thor is tricked into Loki's holding cell by Loki himself, who has recovered his scepter and releases the cell and allows Thor to plummet. Loki is held at bay briefly by Agent Coulson but is also tricked by one of Loki's holographic projections - Coulson is stabbed in the back by the real Loki. Coulson later shoots Loki with a blast from an unidentified weapon, one that harnesses the power of the Destroyer. Coulson dies while Fury tries to save his life. Thor escapes from the cell a split second before it hits the ground. Banner wakes up in his human form after crashing into an abandoned factory.Fury uses Coulson's apparent death to motivate the Avengers to work as a team. Stark and Rogers realize that simply defeating them will not be enough for Loki. He needs to overpower them in a very public way so as to validate himself as ruler of Earth. Using a device built by Dr. Selvig, Loki opens a portal to the Chitauri home world over Manhattan, summoning a Chitauri invasion. Once again the group's petty differences overshadow their ability to communicate as a team, especially with Banner now missing. While in an argument with Rogers, Tony finally figures out that Loki is a full tilt diva, and that he's obviously set up shop at the top of Stark's office.Natasha, unfortunately arrives too late just as Dr. Selvig has opened the portal. This unleashes Loki's army and all hell breaks loose. The army is massive and they can't all fight them off as much as they are entering the earth's atmosphere. Tony Stark thankfully shows up, as does Bruce Banner. While fighting, Rogers dispatches NYPD cops to direct citizens into the underground tunnels and sewers. Meanwhile, the Hulk smashes, and Tony arrives at Stark Tower where he attempts to stall Loki with a drink which is used to threaten and intimidate him. As that's going on, Tony has JARVIS prepare an under development version of Iron Man called MK18 which is contained in a giant box coded specifically for Tony and has advanced weapons capabilities. Loki refuses to cooperate, saying the destruction will continue as long as the citizens of earth don't get that they need to be ruled by him. Loki attempts to take control of Stark by using his scepter on his heart to control his mind, but it fails thanks to Tony's somewhat trusty Arc Reactor that keeps him alive.The Avengers rally in defense of New York, but quickly come to the conclusion that they will be overwhelmed as wave after wave of Chitauri descend upon Earth. With help from the reformed Barton, Rogers and Thor evacuate civilians while Dr. Banner transforms into the Hulk and goes after Loki, beating him into submission in Tony Stark's penthouse. Romanoff makes her way, with a little help from the Chitauri, to the device that holds the portal open (conveniently located on the roof of the Stark Building) and hits Dr. Selvig over the head, freeing him of Loki's control. Dr. Selvig reveals that Loki's staff can be used to close the portal.As that's happening, Hulk confronts Loki, who refuses to be intimidated by such a beast. As Rogers instructed, Hulk smashes Loki into near oblivion. That allows Romanoff to grab the scepter and head to the roof to shut down the portal. While Romanoff is securing the portal, Stark is securing the perimeter. Meanwhile, with Fury on a conference call to the council, Fury berates the council's decision to launch a nuclear missile at Manhattan. Fury tries everything possible to stop the council from launching nukes, even destroying two jets that are taking off from the helicarrier. Unfortunately as he's about to fire on a third, it gets away and launches a nuclear weapon.Tony intercepts the missile and he knows exactly where to put it - he flies it into the portal. While in the portal, Stark instructs JARVIS to try Pepper one last time. Unfortunately the call fails as Pepper is on a plane and glued to the TV with other Stark Industries executives. Tony launches the nuke at the Chitauri mothership, completely destroying the invasion. All the invading aliens collapse and are rendered useless. Stark sees the nuke go just as he runs out of oxygen and falls to what appears to be certain doom. Thankfully he manages to escape the portal just as Romanoff is able to successfully close it. Once back in the atmosphere it looks like Tony isn't going to make it, but is saved by the Hulk thanks to incredible timing. A dazed Stark, awakened by the Hulk's roar, offers to take the team out for shawarma, but they decide to apprehend Loki first. The Avengers go their separate ways. Romanoff, Rogers, and Hawkeye return to working for S.H.I.E.L.D., Tony and Pepper are seen rebuilding Stark Tower and are working on the next phase of the project. Thor escorts Loki and the Tesseract back to Asgard where Loki will stand multiple trials for war crimes from both Asgard and the Chitauri. Meanwhile, multiple TV news reports recap the events surrounding the Avengers, and while they've become worldwide heroes for to some for their efforts in New York, others are fearful and want to know who will take responsibility for the devastation.On another video conference call with the World Security Council, Fury is being congratulated, but they also grill him that now their secret's out, this group is too dangerous for the world to handle. And Fury is glad - what happened in New York is a warning. A warning to all galaxies that if they try to attack earth, S.H.I.E.L.D. is there to defend it. And they have just the team. Fury also tells the S.H.I.E.L.D. board that the Avengers' whereabouts are no longer being tracked. They've earned a leave of absence, but will be called back when needed. He also tells the council that the Tesseract is where no one on earth will ever be able to find it.In a mid-credits scene, the Chitauri leader the Other tells his master that it is futile to attack Earth, as fighting the Avengers is like courting death. His master turns, revealing himself to be Thanos, a worshiper of the personification of Death, smiling at the chance to court her with more loss of life.After further credits, the Avengers are shown eating together in a shawarma joint; the team looks worn out and no one speaks. \n",
      " Release Year: 2012 \n",
      " Genre: Action,Sci-Fi \n",
      " Runtime: 143 minutes \n",
      " Rating: 8.0\n",
      "###Response:\n",
      "\n"
     ]
    }
   ],
   "source": [
    "prompt = generate_template(tconst, question)\n",
    "print(prompt)"
   ]
  },
  {
   "cell_type": "code",
   "execution_count": 43,
   "metadata": {},
   "outputs": [
    {
     "name": "stderr",
     "output_type": "stream",
     "text": [
      "c:\\Users\\smend\\miniconda3\\envs\\stevens\\Lib\\site-packages\\transformers\\utils\\hub.py:373: FutureWarning: The `use_auth_token` argument is deprecated and will be removed in v5 of Transformers.\n",
      "  warnings.warn(\n",
      "You are using the default legacy behaviour of the <class 'transformers.models.llama.tokenization_llama.LlamaTokenizer'>. If you see this, DO NOT PANIC! This is expected, and simply means that the `legacy` (previous) behavior will be used so nothing changes for you. If you want to use the new behaviour, set `legacy=True`. This should only be set if you understand what it means, and thouroughly read the reason why this was added as explained in https://github.com/huggingface/transformers/pull/24565\n"
     ]
    }
   ],
   "source": [
    "llm = LLM(\"openlm-research/open_llama_3b_v2\", \"./openlm-research-open_llama_3b_v2/\")"
   ]
  },
  {
   "cell_type": "code",
   "execution_count": 44,
   "metadata": {},
   "outputs": [
    {
     "name": "stderr",
     "output_type": "stream",
     "text": [
      "Token indices sequence length is longer than the specified maximum sequence length for this model (3519 > 2048). Running this sequence through the model will result in indexing errors\n",
      "This is a friendly reminder - the current text generation call will exceed the model's predefined maximum length (2048). Depending on the model, you may observe exceptions, performance degradation, or nothing at all.\n"
     ]
    },
    {
     "ename": "",
     "evalue": "",
     "output_type": "error",
     "traceback": [
      "\u001b[1;31mThe Kernel crashed while executing code in the the current cell or a previous cell. Please review the code in the cell(s) to identify a possible cause of the failure. Click <a href='https://aka.ms/vscodeJupyterKernelCrash'>here</a> for more info. View Jupyter <a href='command:jupyter.viewOutput'>log</a> for further details."
     ]
    }
   ],
   "source": [
    "print(llm.generate(prompt))"
   ]
  },
  {
   "cell_type": "code",
   "execution_count": null,
   "metadata": {},
   "outputs": [],
   "source": []
  }
 ],
 "metadata": {
  "kernelspec": {
   "display_name": "Python 3 (ipykernel)",
   "language": "python",
   "name": "python3"
  },
  "language_info": {
   "codemirror_mode": {
    "name": "ipython",
    "version": 3
   },
   "file_extension": ".py",
   "mimetype": "text/x-python",
   "name": "python",
   "nbconvert_exporter": "python",
   "pygments_lexer": "ipython3",
   "version": "3.11.5"
  }
 },
 "nbformat": 4,
 "nbformat_minor": 5
}
