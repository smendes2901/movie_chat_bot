{
 "cells": [
  {
   "cell_type": "code",
   "execution_count": 1,
   "metadata": {},
   "outputs": [],
   "source": [
    "qa_pairs = [\n",
    "  {\n",
    "    \"question\": \"What year was the movie `Carmencita` released?\",\n",
    "    \"answer\": \"1885\"\n",
    "  },\n",
    "  {\n",
    "    \"question\": \"Who was the director of the movie `Carmencita`?\",\n",
    "    \"answer\": \"William K.L. Dickson\"\n",
    "  },\n",
    "  {\n",
    "    \"question\": \"What is the running time of the movie `Carmencita`?\",\n",
    "    \"answer\": \"1min\"\n",
    "  },\n",
    "  {\n",
    "    \"question\": \"What is the rating of the movie `Carmencita`?\",\n",
    "    \"answer\": \"5\"\n",
    "  },\n",
    "  {\n",
    "    \"question\": \"What is the genre of the movie `Carmencita`?\",\n",
    "    \"answer\": \"Documentary\"\n",
    "  },\n",
    "  {\n",
    "    \"question\": \"Who performs in the movie `Carmencita`?\",\n",
    "    \"answer\": \"Carmencita\"\n",
    "  },\n",
    "  {\n",
    "    \"question\": \"What does Carmencita wear for her performance?\",\n",
    "    \"answer\": \"A dress with a hoop skirt and white high-heeled pumps\"\n",
    "  },\n",
    "  {\n",
    "    \"question\": \"How would you describe Carmencita's dance moves?\",\n",
    "    \"answer\": \"Kicks and twirls with a smile on her face.\"\n",
    "  },\n",
    "  {\n",
    "    \"question\": \"What is the setting for Carmencita's performance?\",\n",
    "    \"answer\": \"A small wooden stage\"\n",
    "  },\n",
    "  {\n",
    "    \"question\": \"Who is the target audience for this movie?\",\n",
    "    \"answer\": \"Historical archives, dance historians and enthusiasts\"\n",
    "  },\n",
    "  {\n",
    "    \"question\": \"What is the overall tone of this movie?\",\n",
    "    \"answer\": \"Serious\"\n",
    "  }\n",
    "]"
   ]
  },
  {
   "cell_type": "code",
   "execution_count": 2,
   "metadata": {},
   "outputs": [],
   "source": [
    "import nlpaug.augmenter.word as naw"
   ]
  },
  {
   "cell_type": "code",
   "execution_count": 3,
   "metadata": {},
   "outputs": [],
   "source": [
    "text = \"What does Carmencita wear for her performance?\""
   ]
  },
  {
   "cell_type": "code",
   "execution_count": 10,
   "metadata": {},
   "outputs": [
    {
     "name": "stdout",
     "output_type": "stream",
     "text": [
      "Original:\n",
      "What does Carmencita wear for her performance?\n",
      "Augmented Text:\n",
      "['What does Carmencita article of clothing for her performance?']\n"
     ]
    }
   ],
   "source": [
    "aug = naw.SynonymAug(aug_src='wordnet')\n",
    "augmented_text = aug.augment(text)\n",
    "print(\"Original:\")\n",
    "print(text)\n",
    "print(\"Augmented Text:\")\n",
    "print(augmented_text)"
   ]
  },
  {
   "cell_type": "code",
   "execution_count": null,
   "metadata": {},
   "outputs": [],
   "source": []
  }
 ],
 "metadata": {
  "kernelspec": {
   "display_name": "stevens",
   "language": "python",
   "name": "python3"
  },
  "language_info": {
   "codemirror_mode": {
    "name": "ipython",
    "version": 3
   },
   "file_extension": ".py",
   "mimetype": "text/x-python",
   "name": "python",
   "nbconvert_exporter": "python",
   "pygments_lexer": "ipython3",
   "version": "3.11.5"
  }
 },
 "nbformat": 4,
 "nbformat_minor": 2
}
