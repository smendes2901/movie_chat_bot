{
 "cells": [
  {
   "cell_type": "code",
   "execution_count": 1,
   "metadata": {},
   "outputs": [],
   "source": [
    "import cohere\n",
    "import pandas as pd\n",
    "from tqdm import tqdm\n",
    "tqdm.pandas()"
   ]
  },
  {
   "cell_type": "code",
   "execution_count": 4,
   "metadata": {},
   "outputs": [],
   "source": [
    "prompt = \"\"\"\n",
    "### Instruction\n",
    "Generate 10 question answer pairs from the given text regarding movie ` White Chapel  `\n",
    "` White Chapel ` should be mentioned in each question\n",
    "Output should be in a JSON list like [{\"question\":\"\", \"answer\"}, {\"question\":\"\", \"answer\":\"\"},...].\n",
    "### Context\n",
    "Description: A father (Jack) and his daughter (Riley) move to a small town after a losing Riley's mother. Shortly after Riley gets a part time job in the local pub some of town residents start to disappear. \n",
    "Release Year: 2019 \n",
    "Runtime: 47 \n",
    "Genre: Horror \n",
    "Rating: 6.3 \n",
    "Votes: 23.0\n",
    "\"\"\""
   ]
  },
  {
   "cell_type": "code",
   "execution_count": 5,
   "metadata": {},
   "outputs": [],
   "source": [
    "co = cohere.Client('nmkRdEBefO4hDlTTkNao7xpy6udZhyiIYZ3WgFLd') # This is your prod API key\n",
    "def generate_questions_cohere(prompt):\n",
    "  response = co.generate(\n",
    "    model='command',\n",
    "    prompt=prompt,\n",
    "    max_tokens=500,\n",
    "    temperature=0.7,\n",
    "    k=0,\n",
    "    stop_sequences=[],\n",
    "    return_likelihoods='NONE')\n",
    "  return response.generations[0].text"
   ]
  },
  {
   "cell_type": "code",
   "execution_count": 6,
   "metadata": {},
   "outputs": [
    {
     "data": {
      "text/plain": [
       "' Here are 10 question-answer pairs about the movie *White Chapel*:\\n\\n```json\\n[\\n  {\\n    \"question\": \"What is the name of the movie?\",\\n    \"answer\": \"White Chapel\"\\n  },\\n  {\\n    \"question\": \"What year was it released?\",\\n    \"answer\": \"2019\"\\n  },\\n  {\\n    \"question\": \"What is the genre of the movie?\",\\n    \"answer\": \"Horror\"\\n  },\\n  {\\n    \"question\": \"What is the rating of the movie?\",\\n    \"answer\": \"6.3\"\\n  },\\n  {\\n    \"question\": \"What is the vote count of the movie?\",\\n    \"answer\": \"23.0\"\\n  },\\n  {\\n    \"question\": \"What is the runtime of the movie?\",\\n    \"answer\": \"47\"\\n  },\\n  {\\n    \"question\": \"What is the main plot of the movie?\",\\n    \"answer\": \"A father (Jack) and his daughter (Riley) move to a small town after a losing Riley\\'s mother. Shortly after Riley gets a part-time job in the local pub, some of the town\\'s residents start to disappear.\"\\n  },\\n  {\\n    \"question\": \"Who are the main characters in the movie?\",\\n    \"answer\": \"Jack and Riley\"\\n  },\\n  {\\n    \"question\": \"Where does the movie take place?\",\\n    \"answer\": \"A small town\"\\n  },\\n  {\\n    \"question\": \"What is Riley\\'s job in the movie?\",\\n    \"answer\": \"Riley gets a part-time job in the local pub.\"\\n  },\\n  {\\n    \"question\": \"Who are the town\\'s residents that go missing?\",\\n    \"answer\": \"Some of the town\\'s residents\"\\n  }\\n]\\n```'"
      ]
     },
     "execution_count": 6,
     "metadata": {},
     "output_type": "execute_result"
    }
   ],
   "source": [
    "generate_questions_cohere(prompt)"
   ]
  },
  {
   "cell_type": "code",
   "execution_count": 7,
   "metadata": {},
   "outputs": [],
   "source": [
    "def generate_cohere_prompt(title, data):\n",
    "    return f\"\"\"\n",
    "### Instruction\n",
    "You are provided with details regarding the movie `{title.strip()}`. By only referring to the data in ###Context perform the following:\n",
    "1. Generate 10 question answer pairs\n",
    "2. The movie name `{title.strip()}` should be mentioned in each question surrounded by double quotes\n",
    "3. Output should be in a JSON list like [{{\"question\":\"\", \"answer\"}}, {{\"question\":\"\", \"answer\":\"\"}},...].\n",
    "###Context\n",
    "{data}\n",
    "\"\"\".strip()"
   ]
  },
  {
   "cell_type": "code",
   "execution_count": 8,
   "metadata": {},
   "outputs": [],
   "source": [
    "sample = pd.read_csv(\"sample_complete_desc.csv\")"
   ]
  },
  {
   "cell_type": "code",
   "execution_count": 9,
   "metadata": {},
   "outputs": [],
   "source": [
    "sample[\"cohere_prompt\"] = sample.apply(lambda row: generate_cohere_prompt(row[\"originalTitle\"], row[\"data\"]), axis=1)"
   ]
  },
  {
   "cell_type": "code",
   "execution_count": 12,
   "metadata": {},
   "outputs": [],
   "source": [
    "sample_df = sample.sample(50).copy()"
   ]
  },
  {
   "cell_type": "code",
   "execution_count": 13,
   "metadata": {},
   "outputs": [
    {
     "name": "stderr",
     "output_type": "stream",
     "text": [
      "100%|██████████| 50/50 [08:40<00:00, 10.41s/it]\n"
     ]
    }
   ],
   "source": [
    "sample_df[\"cohere_op\"] = sample_df[\"cohere_prompt\"].progress_apply(generate_questions_cohere)\n"
   ]
  },
  {
   "cell_type": "code",
   "execution_count": 16,
   "metadata": {},
   "outputs": [],
   "source": [
    "sample_df[[\"originalTitle\", \"cohere_op\"]].to_excel(\"cohere_op.xlsx\", index=False)"
   ]
  },
  {
   "cell_type": "markdown",
   "metadata": {},
   "source": [
    "# Validate Output"
   ]
  },
  {
   "cell_type": "code",
   "execution_count": 62,
   "metadata": {},
   "outputs": [],
   "source": [
    "import pandas as pd\n",
    "import regex as re"
   ]
  },
  {
   "cell_type": "code",
   "execution_count": 63,
   "metadata": {},
   "outputs": [],
   "source": [
    "df = pd.read_feather(r\"datasets/movie_datasets/imdb/movie_sample_desc_0.feather\")"
   ]
  },
  {
   "cell_type": "code",
   "execution_count": 64,
   "metadata": {},
   "outputs": [
    {
     "data": {
      "text/html": [
       "<div>\n",
       "<style scoped>\n",
       "    .dataframe tbody tr th:only-of-type {\n",
       "        vertical-align: middle;\n",
       "    }\n",
       "\n",
       "    .dataframe tbody tr th {\n",
       "        vertical-align: top;\n",
       "    }\n",
       "\n",
       "    .dataframe thead th {\n",
       "        text-align: right;\n",
       "    }\n",
       "</style>\n",
       "<table border=\"1\" class=\"dataframe\">\n",
       "  <thead>\n",
       "    <tr style=\"text-align: right;\">\n",
       "      <th></th>\n",
       "      <th>tconst</th>\n",
       "      <th>originalTitle</th>\n",
       "      <th>data</th>\n",
       "      <th>cohere_prompt</th>\n",
       "      <th>cohere_op</th>\n",
       "    </tr>\n",
       "  </thead>\n",
       "  <tbody>\n",
       "    <tr>\n",
       "      <th>0</th>\n",
       "      <td>tt10024036</td>\n",
       "      <td>Satyarthi</td>\n",
       "      <td>Description: Kailash Satyarthi has spent his l...</td>\n",
       "      <td>### Instruction\\nYou are provided with details...</td>\n",
       "      <td>Here are 10 question-answer pairs about the m...</td>\n",
       "    </tr>\n",
       "    <tr>\n",
       "      <th>1</th>\n",
       "      <td>tt11230106</td>\n",
       "      <td>Jasmine Star</td>\n",
       "      <td>Description: A determined 16-year-old with alb...</td>\n",
       "      <td>### Instruction\\nYou are provided with details...</td>\n",
       "      <td>Here are 10 question-answer pairs about the m...</td>\n",
       "    </tr>\n",
       "    <tr>\n",
       "      <th>2</th>\n",
       "      <td>tt15017854</td>\n",
       "      <td>The Making of SI Swimsuit 2018</td>\n",
       "      <td>Description: Go behind the scenes with the cre...</td>\n",
       "      <td>### Instruction\\nYou are provided with details...</td>\n",
       "      <td>Here are 10 question-answer pairs about the m...</td>\n",
       "    </tr>\n",
       "    <tr>\n",
       "      <th>3</th>\n",
       "      <td>tt12787498</td>\n",
       "      <td>Boeing, Boeing</td>\n",
       "      <td>Description: Set in the late 1960s, \"Boeing Bo...</td>\n",
       "      <td>### Instruction\\nYou are provided with details...</td>\n",
       "      <td>Here are 10 question-answer pairs about the m...</td>\n",
       "    </tr>\n",
       "    <tr>\n",
       "      <th>4</th>\n",
       "      <td>tt29347941</td>\n",
       "      <td>I Santo</td>\n",
       "      <td>Description: The film narrates everyday life a...</td>\n",
       "      <td>### Instruction\\nYou are provided with details...</td>\n",
       "      <td>Here are 10 question-answer pairs about the m...</td>\n",
       "    </tr>\n",
       "    <tr>\n",
       "      <th>5</th>\n",
       "      <td>tt2619512</td>\n",
       "      <td>The Big Take</td>\n",
       "      <td>Description: A reclusive movie star is fingere...</td>\n",
       "      <td>### Instruction\\nYou are provided with details...</td>\n",
       "      <td>Here are 10 question-answer pairs about the m...</td>\n",
       "    </tr>\n",
       "    <tr>\n",
       "      <th>6</th>\n",
       "      <td>tt10151562</td>\n",
       "      <td>Portrait of My Love</td>\n",
       "      <td>Description: Loving couple Miguel and Monay la...</td>\n",
       "      <td>### Instruction\\nYou are provided with details...</td>\n",
       "      <td>Here are 10 question-answer pairs about the m...</td>\n",
       "    </tr>\n",
       "    <tr>\n",
       "      <th>7</th>\n",
       "      <td>tt10300166</td>\n",
       "      <td>Cha Ma</td>\n",
       "      <td>Description: A mysterious incidents keep happe...</td>\n",
       "      <td>### Instruction\\nYou are provided with details...</td>\n",
       "      <td>Here are 10 question-answer pairs about the m...</td>\n",
       "    </tr>\n",
       "    <tr>\n",
       "      <th>8</th>\n",
       "      <td>tt11069570</td>\n",
       "      <td>Unni Ikki</td>\n",
       "      <td>Description: A young Punjabi couple doesn't re...</td>\n",
       "      <td>### Instruction\\nYou are provided with details...</td>\n",
       "      <td>Here are 10 question-answer pairs about the m...</td>\n",
       "    </tr>\n",
       "    <tr>\n",
       "      <th>9</th>\n",
       "      <td>tt11018792</td>\n",
       "      <td>Ivanov</td>\n",
       "      <td>Description: A successful top manager of an in...</td>\n",
       "      <td>### Instruction\\nYou are provided with details...</td>\n",
       "      <td>Here are 10 question-answer pairs about the m...</td>\n",
       "    </tr>\n",
       "    <tr>\n",
       "      <th>10</th>\n",
       "      <td>tt15134108</td>\n",
       "      <td>Forever Holiday in Bali</td>\n",
       "      <td>Description: The story of two young people, Ka...</td>\n",
       "      <td>### Instruction\\nYou are provided with details...</td>\n",
       "      <td>Here are 10 question-answer pairs about the m...</td>\n",
       "    </tr>\n",
       "    <tr>\n",
       "      <th>11</th>\n",
       "      <td>tt10323492</td>\n",
       "      <td>Diyalog</td>\n",
       "      <td>Description: The film tells about the experien...</td>\n",
       "      <td>### Instruction\\nYou are provided with details...</td>\n",
       "      <td>Here are 10 question-answer pairs about the m...</td>\n",
       "    </tr>\n",
       "    <tr>\n",
       "      <th>12</th>\n",
       "      <td>tt13352604</td>\n",
       "      <td>Archiving Time</td>\n",
       "      <td>Description: Some movie superheroes save movie...</td>\n",
       "      <td>### Instruction\\nYou are provided with details...</td>\n",
       "      <td>Here are 10 question-answer pairs about the m...</td>\n",
       "    </tr>\n",
       "    <tr>\n",
       "      <th>13</th>\n",
       "      <td>tt21217662</td>\n",
       "      <td>Nene Kedi No. 1</td>\n",
       "      <td>Description: Jackie is a roadside Romeo who mi...</td>\n",
       "      <td>### Instruction\\nYou are provided with details...</td>\n",
       "      <td>Here are 10 question-answer pairs about the m...</td>\n",
       "    </tr>\n",
       "    <tr>\n",
       "      <th>14</th>\n",
       "      <td>tt3221518</td>\n",
       "      <td>Callcenter</td>\n",
       "      <td>Description: The night-shift employees at a Ca...</td>\n",
       "      <td>### Instruction\\nYou are provided with details...</td>\n",
       "      <td>Here are 10 question-answer pairs about the m...</td>\n",
       "    </tr>\n",
       "    <tr>\n",
       "      <th>15</th>\n",
       "      <td>tt12726832</td>\n",
       "      <td>Después de María: Las dos orillas</td>\n",
       "      <td>Description: The documentary Después de María:...</td>\n",
       "      <td>### Instruction\\nYou are provided with details...</td>\n",
       "      <td>Here are 10 question-answer pairs about the m...</td>\n",
       "    </tr>\n",
       "    <tr>\n",
       "      <th>16</th>\n",
       "      <td>tt10439512</td>\n",
       "      <td>La herida y el cuchillo (Notas para un film so...</td>\n",
       "      <td>Description: Documentary, biography and essay ...</td>\n",
       "      <td>### Instruction\\nYou are provided with details...</td>\n",
       "      <td>Here are 10 question-answer pairs about the m...</td>\n",
       "    </tr>\n",
       "    <tr>\n",
       "      <th>17</th>\n",
       "      <td>tt10465524</td>\n",
       "      <td>A Gift of Love: Sifar</td>\n",
       "      <td>Description: SIFAR (Emptiness) - depicts the j...</td>\n",
       "      <td>### Instruction\\nYou are provided with details...</td>\n",
       "      <td>Here are 10 question-answer pairs about the m...</td>\n",
       "    </tr>\n",
       "    <tr>\n",
       "      <th>18</th>\n",
       "      <td>tt11214076</td>\n",
       "      <td>Se prohíbe el cante</td>\n",
       "      <td>Description: Sevillian singer Esperanza Fernán...</td>\n",
       "      <td>### Instruction\\nYou are provided with details...</td>\n",
       "      <td>Here are 10 question-answer pairs about the m...</td>\n",
       "    </tr>\n",
       "    <tr>\n",
       "      <th>19</th>\n",
       "      <td>tt10701834</td>\n",
       "      <td>Mood</td>\n",
       "      <td>Description: A people-pleasing stand-up comic ...</td>\n",
       "      <td>### Instruction\\nYou are provided with details...</td>\n",
       "      <td>Here are 10 question-answer pairs about the m...</td>\n",
       "    </tr>\n",
       "  </tbody>\n",
       "</table>\n",
       "</div>"
      ],
      "text/plain": [
       "        tconst                                      originalTitle  \\\n",
       "0   tt10024036                                          Satyarthi   \n",
       "1   tt11230106                                       Jasmine Star   \n",
       "2   tt15017854                     The Making of SI Swimsuit 2018   \n",
       "3   tt12787498                                     Boeing, Boeing   \n",
       "4   tt29347941                                            I Santo   \n",
       "5    tt2619512                                       The Big Take   \n",
       "6   tt10151562                                Portrait of My Love   \n",
       "7   tt10300166                                             Cha Ma   \n",
       "8   tt11069570                                          Unni Ikki   \n",
       "9   tt11018792                                             Ivanov   \n",
       "10  tt15134108                            Forever Holiday in Bali   \n",
       "11  tt10323492                                            Diyalog   \n",
       "12  tt13352604                                     Archiving Time   \n",
       "13  tt21217662                                    Nene Kedi No. 1   \n",
       "14   tt3221518                                         Callcenter   \n",
       "15  tt12726832                  Después de María: Las dos orillas   \n",
       "16  tt10439512  La herida y el cuchillo (Notas para un film so...   \n",
       "17  tt10465524                              A Gift of Love: Sifar   \n",
       "18  tt11214076                                Se prohíbe el cante   \n",
       "19  tt10701834                                               Mood   \n",
       "\n",
       "                                                 data  \\\n",
       "0   Description: Kailash Satyarthi has spent his l...   \n",
       "1   Description: A determined 16-year-old with alb...   \n",
       "2   Description: Go behind the scenes with the cre...   \n",
       "3   Description: Set in the late 1960s, \"Boeing Bo...   \n",
       "4   Description: The film narrates everyday life a...   \n",
       "5   Description: A reclusive movie star is fingere...   \n",
       "6   Description: Loving couple Miguel and Monay la...   \n",
       "7   Description: A mysterious incidents keep happe...   \n",
       "8   Description: A young Punjabi couple doesn't re...   \n",
       "9   Description: A successful top manager of an in...   \n",
       "10  Description: The story of two young people, Ka...   \n",
       "11  Description: The film tells about the experien...   \n",
       "12  Description: Some movie superheroes save movie...   \n",
       "13  Description: Jackie is a roadside Romeo who mi...   \n",
       "14  Description: The night-shift employees at a Ca...   \n",
       "15  Description: The documentary Después de María:...   \n",
       "16  Description: Documentary, biography and essay ...   \n",
       "17  Description: SIFAR (Emptiness) - depicts the j...   \n",
       "18  Description: Sevillian singer Esperanza Fernán...   \n",
       "19  Description: A people-pleasing stand-up comic ...   \n",
       "\n",
       "                                        cohere_prompt  \\\n",
       "0   ### Instruction\\nYou are provided with details...   \n",
       "1   ### Instruction\\nYou are provided with details...   \n",
       "2   ### Instruction\\nYou are provided with details...   \n",
       "3   ### Instruction\\nYou are provided with details...   \n",
       "4   ### Instruction\\nYou are provided with details...   \n",
       "5   ### Instruction\\nYou are provided with details...   \n",
       "6   ### Instruction\\nYou are provided with details...   \n",
       "7   ### Instruction\\nYou are provided with details...   \n",
       "8   ### Instruction\\nYou are provided with details...   \n",
       "9   ### Instruction\\nYou are provided with details...   \n",
       "10  ### Instruction\\nYou are provided with details...   \n",
       "11  ### Instruction\\nYou are provided with details...   \n",
       "12  ### Instruction\\nYou are provided with details...   \n",
       "13  ### Instruction\\nYou are provided with details...   \n",
       "14  ### Instruction\\nYou are provided with details...   \n",
       "15  ### Instruction\\nYou are provided with details...   \n",
       "16  ### Instruction\\nYou are provided with details...   \n",
       "17  ### Instruction\\nYou are provided with details...   \n",
       "18  ### Instruction\\nYou are provided with details...   \n",
       "19  ### Instruction\\nYou are provided with details...   \n",
       "\n",
       "                                            cohere_op  \n",
       "0    Here are 10 question-answer pairs about the m...  \n",
       "1    Here are 10 question-answer pairs about the m...  \n",
       "2    Here are 10 question-answer pairs about the m...  \n",
       "3    Here are 10 question-answer pairs about the m...  \n",
       "4    Here are 10 question-answer pairs about the m...  \n",
       "5    Here are 10 question-answer pairs about the m...  \n",
       "6    Here are 10 question-answer pairs about the m...  \n",
       "7    Here are 10 question-answer pairs about the m...  \n",
       "8    Here are 10 question-answer pairs about the m...  \n",
       "9    Here are 10 question-answer pairs about the m...  \n",
       "10   Here are 10 question-answer pairs about the m...  \n",
       "11   Here are 10 question-answer pairs about the m...  \n",
       "12   Here are 10 question-answer pairs about the m...  \n",
       "13   Here are 10 question-answer pairs about the m...  \n",
       "14   Here are 10 question-answer pairs about the m...  \n",
       "15   Here are 10 question-answer pairs about the m...  \n",
       "16   Here are 10 question-answer pairs about the m...  \n",
       "17   Here are 10 question-answer pairs about the m...  \n",
       "18   Here are 10 question-answer pairs about the m...  \n",
       "19   Here are 10 question-answer pairs about the m...  "
      ]
     },
     "execution_count": 64,
     "metadata": {},
     "output_type": "execute_result"
    }
   ],
   "source": [
    "df.head(20)"
   ]
  },
  {
   "cell_type": "code",
   "execution_count": 65,
   "metadata": {},
   "outputs": [
    {
     "data": {
      "text/plain": [
       "(500, 5)"
      ]
     },
     "execution_count": 65,
     "metadata": {},
     "output_type": "execute_result"
    }
   ],
   "source": [
    "df.shape"
   ]
  },
  {
   "cell_type": "code",
   "execution_count": 66,
   "metadata": {},
   "outputs": [],
   "source": [
    "# AttributeError: due to incomplete generations\n",
    "# SyntaxError: Malformed json\n",
    "# NameError: key does not have quotes in the json"
   ]
  },
  {
   "cell_type": "code",
   "execution_count": 67,
   "metadata": {
    "scrolled": true
   },
   "outputs": [],
   "source": [
    "df[\"qa_list\"] = None\n",
    "counter = 0\n",
    "for i, row in df.iterrows():\n",
    "    try:\n",
    "        # print(i)\n",
    "        json_string = re.search(r\"```json([\\w\\W]*?)```\", row[\"cohere_op\"]).group(1)\n",
    "        df.at[i, \"qa_list\"] = eval(json_string)\n",
    "    except (AttributeError, SyntaxError, NameError):\n",
    "        counter+=1"
   ]
  },
  {
   "cell_type": "code",
   "execution_count": 68,
   "metadata": {},
   "outputs": [
    {
     "data": {
      "text/plain": [
       "29"
      ]
     },
     "execution_count": 68,
     "metadata": {},
     "output_type": "execute_result"
    }
   ],
   "source": [
    "counter"
   ]
  },
  {
   "cell_type": "code",
   "execution_count": 54,
   "metadata": {},
   "outputs": [
    {
     "data": {
      "text/plain": [
       "' Here are 10 question-answer pairs about the movie *Run for Dream*:\\n```json\\n[\\n    {\"question\": \"What is the name of the movie?\", \"answer\": \"Run for Dream\"},\\n    {\"question\": \"When was the movie released?\", \"answer\": \"2019\"},\\n    {\"question\": \"What is the genre of the movie?\", \"answer\": \"Documentary\"},\\n    {\"question\": \"What is the rating of the movie?\", \"answer\": \"7.1\"},\\n    {\"question\": \"How many votes does the movie have?\", \"answer\": \"40.0\"},\\n    {\"question\": \"Who are the main characters in the movie?\", \"answer\": \"Chen Yen-Po, Tommy Chen\"},\\n    {\"question\": \"What does the movie document?\", \"answer\": \"Chen Yen-Po\\'s ten-year journey to become the champion of an ultra-marathon\"},\\n    {\"question\": \"What is the runtime of the movie?\", \"answer\": \"102 minutes\"},\\n    {\"question\": \"What is the native country of the main character?\", \"answer\": \"Taiwan\"},\\n    {\"question\": \"Who is the director of the movie?\", \"answer\": \"Peter Ho-Sun\"]\\n]\\n```'"
      ]
     },
     "execution_count": 54,
     "metadata": {},
     "output_type": "execute_result"
    }
   ],
   "source": [
    "df.iloc[60].cohere_op"
   ]
  },
  {
   "cell_type": "markdown",
   "metadata": {},
   "source": [
    "## Extract information from cohere prompt 1"
   ]
  },
  {
   "cell_type": "code",
   "execution_count": 1,
   "metadata": {},
   "outputs": [],
   "source": [
    "from functools import reduce\n",
    "from glob import glob\n",
    "import pandas as pd\n",
    "import json\n",
    "import regex as re\n",
    "from tqdm import tqdm"
   ]
  },
  {
   "cell_type": "code",
   "execution_count": 2,
   "metadata": {},
   "outputs": [
    {
     "name": "stdout",
     "output_type": "stream",
     "text": [
      "['datasets/movie_datasets/imdb\\\\movie_sample_desc_0.feather', 'datasets/movie_datasets/imdb\\\\movie_sample_desc_1.feather', 'datasets/movie_datasets/imdb\\\\movie_sample_desc_2.feather', 'datasets/movie_datasets/imdb\\\\movie_sample_desc_3.feather', 'datasets/movie_datasets/imdb\\\\movie_sample_desc_4.feather', 'datasets/movie_datasets/imdb\\\\movie_sample_desc_5.feather', 'datasets/movie_datasets/imdb\\\\movie_sample_desc_6.feather']\n",
      "7\n"
     ]
    }
   ],
   "source": [
    "dataset_paths = glob(r\"datasets/movie_datasets/imdb/movie_sample_desc_?.feather\")\n",
    "print(dataset_paths)\n",
    "print(len(dataset_paths))"
   ]
  },
  {
   "cell_type": "code",
   "execution_count": 3,
   "metadata": {},
   "outputs": [],
   "source": [
    "datasets = map(pd.read_feather, dataset_paths)"
   ]
  },
  {
   "cell_type": "code",
   "execution_count": 4,
   "metadata": {},
   "outputs": [],
   "source": [
    "df = reduce(lambda x,y: pd.concat([x, y], axis=0, ignore_index=True), datasets)"
   ]
  },
  {
   "cell_type": "code",
   "execution_count": 5,
   "metadata": {},
   "outputs": [
    {
     "data": {
      "text/plain": [
       "(3500, 5)"
      ]
     },
     "execution_count": 5,
     "metadata": {},
     "output_type": "execute_result"
    }
   ],
   "source": [
    "df.shape"
   ]
  },
  {
   "cell_type": "code",
   "execution_count": 6,
   "metadata": {},
   "outputs": [
    {
     "data": {
      "text/html": [
       "<div>\n",
       "<style scoped>\n",
       "    .dataframe tbody tr th:only-of-type {\n",
       "        vertical-align: middle;\n",
       "    }\n",
       "\n",
       "    .dataframe tbody tr th {\n",
       "        vertical-align: top;\n",
       "    }\n",
       "\n",
       "    .dataframe thead th {\n",
       "        text-align: right;\n",
       "    }\n",
       "</style>\n",
       "<table border=\"1\" class=\"dataframe\">\n",
       "  <thead>\n",
       "    <tr style=\"text-align: right;\">\n",
       "      <th></th>\n",
       "      <th>tconst</th>\n",
       "      <th>originalTitle</th>\n",
       "      <th>data</th>\n",
       "      <th>cohere_prompt</th>\n",
       "      <th>cohere_op</th>\n",
       "    </tr>\n",
       "  </thead>\n",
       "  <tbody>\n",
       "    <tr>\n",
       "      <th>0</th>\n",
       "      <td>tt10024036</td>\n",
       "      <td>Satyarthi</td>\n",
       "      <td>Description: Kailash Satyarthi has spent his l...</td>\n",
       "      <td>### Instruction\\nYou are provided with details...</td>\n",
       "      <td>Here are 10 question-answer pairs about the m...</td>\n",
       "    </tr>\n",
       "    <tr>\n",
       "      <th>1</th>\n",
       "      <td>tt11230106</td>\n",
       "      <td>Jasmine Star</td>\n",
       "      <td>Description: A determined 16-year-old with alb...</td>\n",
       "      <td>### Instruction\\nYou are provided with details...</td>\n",
       "      <td>Here are 10 question-answer pairs about the m...</td>\n",
       "    </tr>\n",
       "    <tr>\n",
       "      <th>2</th>\n",
       "      <td>tt15017854</td>\n",
       "      <td>The Making of SI Swimsuit 2018</td>\n",
       "      <td>Description: Go behind the scenes with the cre...</td>\n",
       "      <td>### Instruction\\nYou are provided with details...</td>\n",
       "      <td>Here are 10 question-answer pairs about the m...</td>\n",
       "    </tr>\n",
       "    <tr>\n",
       "      <th>3</th>\n",
       "      <td>tt12787498</td>\n",
       "      <td>Boeing, Boeing</td>\n",
       "      <td>Description: Set in the late 1960s, \"Boeing Bo...</td>\n",
       "      <td>### Instruction\\nYou are provided with details...</td>\n",
       "      <td>Here are 10 question-answer pairs about the m...</td>\n",
       "    </tr>\n",
       "    <tr>\n",
       "      <th>4</th>\n",
       "      <td>tt29347941</td>\n",
       "      <td>I Santo</td>\n",
       "      <td>Description: The film narrates everyday life a...</td>\n",
       "      <td>### Instruction\\nYou are provided with details...</td>\n",
       "      <td>Here are 10 question-answer pairs about the m...</td>\n",
       "    </tr>\n",
       "  </tbody>\n",
       "</table>\n",
       "</div>"
      ],
      "text/plain": [
       "       tconst                   originalTitle  \\\n",
       "0  tt10024036                       Satyarthi   \n",
       "1  tt11230106                    Jasmine Star   \n",
       "2  tt15017854  The Making of SI Swimsuit 2018   \n",
       "3  tt12787498                  Boeing, Boeing   \n",
       "4  tt29347941                         I Santo   \n",
       "\n",
       "                                                data  \\\n",
       "0  Description: Kailash Satyarthi has spent his l...   \n",
       "1  Description: A determined 16-year-old with alb...   \n",
       "2  Description: Go behind the scenes with the cre...   \n",
       "3  Description: Set in the late 1960s, \"Boeing Bo...   \n",
       "4  Description: The film narrates everyday life a...   \n",
       "\n",
       "                                       cohere_prompt  \\\n",
       "0  ### Instruction\\nYou are provided with details...   \n",
       "1  ### Instruction\\nYou are provided with details...   \n",
       "2  ### Instruction\\nYou are provided with details...   \n",
       "3  ### Instruction\\nYou are provided with details...   \n",
       "4  ### Instruction\\nYou are provided with details...   \n",
       "\n",
       "                                           cohere_op  \n",
       "0   Here are 10 question-answer pairs about the m...  \n",
       "1   Here are 10 question-answer pairs about the m...  \n",
       "2   Here are 10 question-answer pairs about the m...  \n",
       "3   Here are 10 question-answer pairs about the m...  \n",
       "4   Here are 10 question-answer pairs about the m...  "
      ]
     },
     "execution_count": 6,
     "metadata": {},
     "output_type": "execute_result"
    }
   ],
   "source": [
    "df.head()"
   ]
  },
  {
   "cell_type": "code",
   "execution_count": 7,
   "metadata": {},
   "outputs": [
    {
     "name": "stderr",
     "output_type": "stream",
     "text": [
      "100%|████████████████████████████████████████████████████████████████████████████| 3500/3500 [00:00<00:00, 6168.97it/s]\n"
     ]
    }
   ],
   "source": [
    "df[\"qa_list\"] = None\n",
    "counter = 0\n",
    "for i, row in tqdm(df.iterrows(), total=df.shape[0]):\n",
    "    try:\n",
    "        # print(i)\n",
    "        json_string = re.search(r\"```json([\\w\\W]*?)```\", row[\"cohere_op\"]).group(1)\n",
    "        df.at[i, \"qa_list\"] = eval(json_string)\n",
    "    except (AttributeError, SyntaxError, NameError):\n",
    "        counter+=1"
   ]
  },
  {
   "cell_type": "code",
   "execution_count": 8,
   "metadata": {},
   "outputs": [
    {
     "data": {
      "text/plain": [
       "385"
      ]
     },
     "execution_count": 8,
     "metadata": {},
     "output_type": "execute_result"
    }
   ],
   "source": [
    "counter"
   ]
  },
  {
   "cell_type": "code",
   "execution_count": 9,
   "metadata": {
    "scrolled": true
   },
   "outputs": [],
   "source": [
    "df = df.explode([\"qa_list\"], ignore_index=True)"
   ]
  },
  {
   "cell_type": "code",
   "execution_count": 10,
   "metadata": {},
   "outputs": [
    {
     "data": {
      "text/plain": [
       "tconst                                                  tt13352604\n",
       "originalTitle                                       Archiving Time\n",
       "data             Description: Some movie superheroes save movie...\n",
       "cohere_prompt    ### Instruction\\nYou are provided with details...\n",
       "cohere_op         Here are 10 question-answer pairs about the m...\n",
       "qa_list          {'question': 'How many votes does the movie ha...\n",
       "Name: 131, dtype: object"
      ]
     },
     "execution_count": 10,
     "metadata": {},
     "output_type": "execute_result"
    }
   ],
   "source": [
    "df.iloc[131]"
   ]
  },
  {
   "cell_type": "code",
   "execution_count": 11,
   "metadata": {
    "scrolled": true
   },
   "outputs": [
    {
     "name": "stderr",
     "output_type": "stream",
     "text": [
      "100%|█████████████████████████████████████████████████████████████████████████| 32663/32663 [00:01<00:00, 18303.52it/s]\n"
     ]
    }
   ],
   "source": [
    "df[\"question\"] = \"\"\n",
    "df[\"answer\"] = \"\"\n",
    "for i, row in tqdm(df.iterrows(), total=df.shape[0]):\n",
    "    # print(i)\n",
    "    try:\n",
    "        df.at[i, \"question\"] = row[\"qa_list\"].get(\"question\", None)\n",
    "        df.at[i, \"answer\"] = row[\"qa_list\"].get(\"answer\", None)\n",
    "    except AttributeError:\n",
    "        df.at[i, \"question\"] = None\n",
    "        df.at[i, \"answer\"] = None"
   ]
  },
  {
   "cell_type": "code",
   "execution_count": 12,
   "metadata": {},
   "outputs": [],
   "source": [
    "df.answer = df.answer.apply(lambda x: \", \".join(x) if type(x)==list else x)"
   ]
  },
  {
   "cell_type": "code",
   "execution_count": 13,
   "metadata": {},
   "outputs": [],
   "source": [
    "df = df[~(df.question.isna()| df.answer.isna() | (df.question.str.strip()==\"\") | (df.answer.str.strip()==\"\"))].reset_index(drop=True)"
   ]
  },
  {
   "cell_type": "code",
   "execution_count": 22,
   "metadata": {},
   "outputs": [
    {
     "data": {
      "text/plain": [
       "array([<class 'str'>, <class 'float'>, <class 'int'>], dtype=object)"
      ]
     },
     "execution_count": 22,
     "metadata": {},
     "output_type": "execute_result"
    }
   ],
   "source": [
    "df.answer.apply(type).unique()"
   ]
  },
  {
   "cell_type": "code",
   "execution_count": 24,
   "metadata": {},
   "outputs": [],
   "source": [
    "df.answer = df.answer.astype(str)"
   ]
  },
  {
   "cell_type": "code",
   "execution_count": 25,
   "metadata": {},
   "outputs": [],
   "source": [
    "df[[\"tconst\", \"originalTitle\", \"data\", \"question\", \"answer\"]].to_feather(\"datasets/movie_datasets/imdb/movies_qa_cohere.feather\")"
   ]
  }
 ],
 "metadata": {
  "kernelspec": {
   "display_name": "stevens",
   "language": "python",
   "name": "stevens"
  },
  "language_info": {
   "codemirror_mode": {
    "name": "ipython",
    "version": 3
   },
   "file_extension": ".py",
   "mimetype": "text/x-python",
   "name": "python",
   "nbconvert_exporter": "python",
   "pygments_lexer": "ipython3",
   "version": "3.11.5"
  }
 },
 "nbformat": 4,
 "nbformat_minor": 4
}
