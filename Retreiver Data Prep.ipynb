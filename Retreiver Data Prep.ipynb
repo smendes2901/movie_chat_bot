{
 "cells": [
  {
   "cell_type": "code",
   "execution_count": 30,
   "id": "12fca9bc-91b6-4899-b1bc-8fad72f01f6c",
   "metadata": {},
   "outputs": [],
   "source": [
    "import pandas as pd\n",
    "import regex as re\n",
    "from random import choice, shuffle\n",
    "from tqdm import tqdm\n",
    "tqdm.pandas()"
   ]
  },
  {
   "cell_type": "code",
   "execution_count": 2,
   "id": "db33e86b-79eb-41e3-accc-dc67ba483b36",
   "metadata": {},
   "outputs": [],
   "source": [
    "cohere = pd.read_feather(\"datasets/movie_datasets/imdb/movies_qa_cohere.feather\")\n",
    "palm2 = pd.read_feather(\"datasets/movie_datasets/imdb/movie_qa.feather\")\n",
    "palm2_p2 = pd.read_feather(\"datasets/movie_datasets/imdb/movie_qa.feather\")"
   ]
  },
  {
   "cell_type": "code",
   "execution_count": 3,
   "id": "780cf5af-61b0-48cf-82a0-8dca7fda5665",
   "metadata": {},
   "outputs": [
    {
     "data": {
      "text/plain": [
       "'answer'"
      ]
     },
     "execution_count": 3,
     "metadata": {},
     "output_type": "execute_result"
    }
   ],
   "source": [
    "choice(['tconst', 'originalTitle', 'data', 'question', 'answer'])"
   ]
  },
  {
   "cell_type": "code",
   "execution_count": 4,
   "id": "af1e32cc-a46a-47e7-84a3-f05b1de4fc2d",
   "metadata": {},
   "outputs": [
    {
     "name": "stdout",
     "output_type": "stream",
     "text": [
      "Index(['tconst', 'originalTitle', 'data', 'question', 'answer'], dtype='object')\n",
      "Index(['tconst', 'originalTitle', 'data', 'question', 'answer'], dtype='object')\n",
      "Index(['tconst', 'originalTitle', 'data', 'question', 'answer'], dtype='object')\n"
     ]
    }
   ],
   "source": [
    "print(cohere.columns)\n",
    "print(palm2.columns)\n",
    "print(palm2_p2.columns)"
   ]
  },
  {
   "cell_type": "code",
   "execution_count": 5,
   "id": "f015f044-b149-4683-a0c1-437bc9bc3cf6",
   "metadata": {},
   "outputs": [],
   "source": [
    "complete_movie_qa = pd.concat([cohere, palm2, palm2_p2], axis=0, ignore_index=True)"
   ]
  },
  {
   "cell_type": "code",
   "execution_count": 6,
   "id": "84243021-4d33-49fa-8703-d77a46bae177",
   "metadata": {},
   "outputs": [],
   "source": [
    "complete_movie_qa = complete_movie_qa[~(complete_movie_qa[\"question\"].str.lower().str.startswith(\"what is the name of the movie\") | complete_movie_qa[\"question\"].str.lower().str.startswith(\"what is the name of the flim\"))].reset_index(drop=True)"
   ]
  },
  {
   "cell_type": "code",
   "execution_count": 7,
   "id": "7add96e7-d114-45f0-84d4-af1a66608eb6",
   "metadata": {},
   "outputs": [
    {
     "name": "stderr",
     "output_type": "stream",
     "text": [
      "100%|█████████████████████████████████████████████████████████████████████████| 70679/70679 [00:01<00:00, 40769.57it/s]\n"
     ]
    }
   ],
   "source": [
    "complete_movie_qa[\"question_has_title\"] =  complete_movie_qa.progress_apply(lambda row: bool(re.search(re.escape(row[\"originalTitle\"].lower()), row[\"question\"].lower())), axis=1)"
   ]
  },
  {
   "cell_type": "code",
   "execution_count": 8,
   "id": "22ece40a-e2ed-48df-9039-80d6c11b591c",
   "metadata": {},
   "outputs": [],
   "source": [
    "q_w_title = complete_movie_qa[complete_movie_qa[\"question_has_title\"]].reset_index(drop=True)\n",
    "q_wo_title = complete_movie_qa[~(complete_movie_qa[\"question_has_title\"])].reset_index(drop=True)"
   ]
  },
  {
   "cell_type": "code",
   "execution_count": 9,
   "id": "5be40a3f-8fe4-46de-bd18-1ff08ef166e8",
   "metadata": {},
   "outputs": [
    {
     "data": {
      "text/plain": [
       "(37877, 6)"
      ]
     },
     "execution_count": 9,
     "metadata": {},
     "output_type": "execute_result"
    }
   ],
   "source": [
    "q_wo_title.shape"
   ]
  },
  {
   "cell_type": "code",
   "execution_count": 10,
   "id": "f6909906-0f47-45b9-9a1f-38f0fa3f39ad",
   "metadata": {},
   "outputs": [
    {
     "name": "stderr",
     "output_type": "stream",
     "text": [
      "24255it [00:01, 13201.19it/s]\n"
     ]
    }
   ],
   "source": [
    "for i, row in tqdm(q_wo_title[(q_wo_title.question.str.contains(\"the movie\") | q_wo_title.question.str.contains(\"the film\"))].iterrows()):\n",
    "    title = choice([row[\"originalTitle\"], row[\"originalTitle\"].lower()])\n",
    "    title_replacements = [f\"*{title}*\", f\"`{title}`\", f\"'{title}'\", f\"{title}\", f\"{title}\"]\n",
    "    replacement_title = choice(title_replacements) \n",
    "    updated_question = re.sub(\"the movie\", f\"the movie {replacement_title}\", row[\"question\"])\n",
    "    updated_question = re.sub(\"the film\", f\"the film {replacement_title}\", updated_question)\n",
    "    q_wo_title.at[i, \"question\"] = updated_question\n",
    "    q_wo_title.at[i, \"question_has_title\"] = True"
   ]
  },
  {
   "cell_type": "code",
   "execution_count": 11,
   "id": "46aa0ac2-bb64-4532-9282-ab31fe4aa7cd",
   "metadata": {},
   "outputs": [
    {
     "data": {
      "text/html": [
       "<div>\n",
       "<style scoped>\n",
       "    .dataframe tbody tr th:only-of-type {\n",
       "        vertical-align: middle;\n",
       "    }\n",
       "\n",
       "    .dataframe tbody tr th {\n",
       "        vertical-align: top;\n",
       "    }\n",
       "\n",
       "    .dataframe thead th {\n",
       "        text-align: right;\n",
       "    }\n",
       "</style>\n",
       "<table border=\"1\" class=\"dataframe\">\n",
       "  <thead>\n",
       "    <tr style=\"text-align: right;\">\n",
       "      <th></th>\n",
       "      <th>tconst</th>\n",
       "      <th>originalTitle</th>\n",
       "      <th>data</th>\n",
       "      <th>question</th>\n",
       "      <th>answer</th>\n",
       "      <th>question_has_title</th>\n",
       "    </tr>\n",
       "  </thead>\n",
       "  <tbody>\n",
       "    <tr>\n",
       "      <th>0</th>\n",
       "      <td>tt11230106</td>\n",
       "      <td>Jasmine Star</td>\n",
       "      <td>Description: A determined 16-year-old with alb...</td>\n",
       "      <td>What genre is the movie 'Jasmine Star'?</td>\n",
       "      <td>Drama, Family</td>\n",
       "      <td>True</td>\n",
       "    </tr>\n",
       "    <tr>\n",
       "      <th>1</th>\n",
       "      <td>tt11230106</td>\n",
       "      <td>Jasmine Star</td>\n",
       "      <td>Description: A determined 16-year-old with alb...</td>\n",
       "      <td>What is the release year of the movie Jasmine ...</td>\n",
       "      <td>2019</td>\n",
       "      <td>True</td>\n",
       "    </tr>\n",
       "    <tr>\n",
       "      <th>2</th>\n",
       "      <td>tt11230106</td>\n",
       "      <td>Jasmine Star</td>\n",
       "      <td>Description: A determined 16-year-old with alb...</td>\n",
       "      <td>What is the runtime of the movie `Jasmine Star`?</td>\n",
       "      <td>58 minutes</td>\n",
       "      <td>True</td>\n",
       "    </tr>\n",
       "    <tr>\n",
       "      <th>3</th>\n",
       "      <td>tt11230106</td>\n",
       "      <td>Jasmine Star</td>\n",
       "      <td>Description: A determined 16-year-old with alb...</td>\n",
       "      <td>What is the description of the movie jasmine s...</td>\n",
       "      <td>A determined 16-year-old with albinism makes i...</td>\n",
       "      <td>True</td>\n",
       "    </tr>\n",
       "    <tr>\n",
       "      <th>4</th>\n",
       "      <td>tt11230106</td>\n",
       "      <td>Jasmine Star</td>\n",
       "      <td>Description: A determined 16-year-old with alb...</td>\n",
       "      <td>Who are the main characters in the movie jasmi...</td>\n",
       "      <td>Jasmine, her father, and her brother</td>\n",
       "      <td>True</td>\n",
       "    </tr>\n",
       "    <tr>\n",
       "      <th>...</th>\n",
       "      <td>...</td>\n",
       "      <td>...</td>\n",
       "      <td>...</td>\n",
       "      <td>...</td>\n",
       "      <td>...</td>\n",
       "      <td>...</td>\n",
       "    </tr>\n",
       "    <tr>\n",
       "      <th>37869</th>\n",
       "      <td>tt13893782</td>\n",
       "      <td>En Cenizas</td>\n",
       "      <td>Description: This film is based on the story o...</td>\n",
       "      <td>Who wrote the film `en cenizas`?</td>\n",
       "      <td>Nicolás Guerrero</td>\n",
       "      <td>True</td>\n",
       "    </tr>\n",
       "    <tr>\n",
       "      <th>37870</th>\n",
       "      <td>tt13893782</td>\n",
       "      <td>En Cenizas</td>\n",
       "      <td>Description: This film is based on the story o...</td>\n",
       "      <td>Who starred in the film `En Cenizas`?</td>\n",
       "      <td>Juan Pablo Urrego, Adriana Silva, Santiago Mou...</td>\n",
       "      <td>True</td>\n",
       "    </tr>\n",
       "    <tr>\n",
       "      <th>37871</th>\n",
       "      <td>tt13893782</td>\n",
       "      <td>En Cenizas</td>\n",
       "      <td>Description: This film is based on the story o...</td>\n",
       "      <td>What awards did the film 'En Cenizas' win?</td>\n",
       "      <td>None</td>\n",
       "      <td>True</td>\n",
       "    </tr>\n",
       "    <tr>\n",
       "      <th>37872</th>\n",
       "      <td>tt13893782</td>\n",
       "      <td>En Cenizas</td>\n",
       "      <td>Description: This film is based on the story o...</td>\n",
       "      <td>What was the critical reception of the film `e...</td>\n",
       "      <td>Positive</td>\n",
       "      <td>True</td>\n",
       "    </tr>\n",
       "    <tr>\n",
       "      <th>37875</th>\n",
       "      <td>tt13894144</td>\n",
       "      <td>La nostalgia della condizione sconosciuta</td>\n",
       "      <td>Description: Broadly based on the book \"The Pr...</td>\n",
       "      <td>What does the film La nostalgia della condizio...</td>\n",
       "      <td>Our need to represent something we are lacking...</td>\n",
       "      <td>True</td>\n",
       "    </tr>\n",
       "  </tbody>\n",
       "</table>\n",
       "<p>24255 rows × 6 columns</p>\n",
       "</div>"
      ],
      "text/plain": [
       "           tconst                              originalTitle  \\\n",
       "0      tt11230106                               Jasmine Star   \n",
       "1      tt11230106                               Jasmine Star   \n",
       "2      tt11230106                               Jasmine Star   \n",
       "3      tt11230106                               Jasmine Star   \n",
       "4      tt11230106                               Jasmine Star   \n",
       "...           ...                                        ...   \n",
       "37869  tt13893782                                 En Cenizas   \n",
       "37870  tt13893782                                 En Cenizas   \n",
       "37871  tt13893782                                 En Cenizas   \n",
       "37872  tt13893782                                 En Cenizas   \n",
       "37875  tt13894144  La nostalgia della condizione sconosciuta   \n",
       "\n",
       "                                                    data  \\\n",
       "0      Description: A determined 16-year-old with alb...   \n",
       "1      Description: A determined 16-year-old with alb...   \n",
       "2      Description: A determined 16-year-old with alb...   \n",
       "3      Description: A determined 16-year-old with alb...   \n",
       "4      Description: A determined 16-year-old with alb...   \n",
       "...                                                  ...   \n",
       "37869  Description: This film is based on the story o...   \n",
       "37870  Description: This film is based on the story o...   \n",
       "37871  Description: This film is based on the story o...   \n",
       "37872  Description: This film is based on the story o...   \n",
       "37875  Description: Broadly based on the book \"The Pr...   \n",
       "\n",
       "                                                question  \\\n",
       "0                What genre is the movie 'Jasmine Star'?   \n",
       "1      What is the release year of the movie Jasmine ...   \n",
       "2       What is the runtime of the movie `Jasmine Star`?   \n",
       "3      What is the description of the movie jasmine s...   \n",
       "4      Who are the main characters in the movie jasmi...   \n",
       "...                                                  ...   \n",
       "37869                   Who wrote the film `en cenizas`?   \n",
       "37870              Who starred in the film `En Cenizas`?   \n",
       "37871         What awards did the film 'En Cenizas' win?   \n",
       "37872  What was the critical reception of the film `e...   \n",
       "37875  What does the film La nostalgia della condizio...   \n",
       "\n",
       "                                                  answer  question_has_title  \n",
       "0                                          Drama, Family                True  \n",
       "1                                                   2019                True  \n",
       "2                                             58 minutes                True  \n",
       "3      A determined 16-year-old with albinism makes i...                True  \n",
       "4                   Jasmine, her father, and her brother                True  \n",
       "...                                                  ...                 ...  \n",
       "37869                                   Nicolás Guerrero                True  \n",
       "37870  Juan Pablo Urrego, Adriana Silva, Santiago Mou...                True  \n",
       "37871                                               None                True  \n",
       "37872                                           Positive                True  \n",
       "37875  Our need to represent something we are lacking...                True  \n",
       "\n",
       "[24255 rows x 6 columns]"
      ]
     },
     "execution_count": 11,
     "metadata": {},
     "output_type": "execute_result"
    }
   ],
   "source": [
    "q_wo_title[q_wo_title[\"question_has_title\"]]"
   ]
  },
  {
   "cell_type": "code",
   "execution_count": 12,
   "id": "627ad45e-1cca-4ec6-abe9-b10041775f4f",
   "metadata": {},
   "outputs": [],
   "source": [
    "q_w_title = pd.concat([q_w_title, q_wo_title[q_wo_title[\"question_has_title\"]]], axis=0, ignore_index=True)"
   ]
  },
  {
   "cell_type": "code",
   "execution_count": 13,
   "id": "5e9906d4-c0c3-41e5-b15e-eacabe8fe57c",
   "metadata": {},
   "outputs": [],
   "source": [
    "q_w_title.to_feather(\"datasets/movie_datasets/imdb/complete_movie_qa_ds.feather\")"
   ]
  },
  {
   "cell_type": "markdown",
   "id": "b3ad0b1c-ae67-4698-adab-a0ba55cf9723",
   "metadata": {},
   "source": [
    "## Dataset Augmentation"
   ]
  },
  {
   "cell_type": "code",
   "execution_count": 14,
   "id": "5cecd684-cb98-4999-aba8-d04dc55d812c",
   "metadata": {},
   "outputs": [],
   "source": [
    "import nlpaug.augmenter.char as nac"
   ]
  },
  {
   "cell_type": "code",
   "execution_count": 15,
   "id": "846e300b-dbdc-41e3-8ba2-de338e205e34",
   "metadata": {},
   "outputs": [],
   "source": [
    "sample = q_w_title.iloc[15].question"
   ]
  },
  {
   "cell_type": "code",
   "execution_count": 16,
   "id": "a658d916-1650-4440-aba6-bc63d3cd95a8",
   "metadata": {},
   "outputs": [
    {
     "name": "stdout",
     "output_type": "stream",
     "text": [
      "Original:\n",
      "What is the rating of the movie `Cha Ma`?\n",
      "Augmented Texts:\n",
      "['Wath is the artign of the omive ` Cha Ma `?']\n"
     ]
    }
   ],
   "source": [
    "augs = choice([nac.KeyboardAug(), nac.RandomCharAug(action=\"insert\"), nac.RandomCharAug(action=\"substitute\"), nac.RandomCharAug(action=\"swap\"), nac.RandomCharAug(action=\"delete\")])\n",
    "augmented_texts = augs.augment(sample, n=1)\n",
    "print(\"Original:\")\n",
    "print(sample)\n",
    "print(\"Augmented Texts:\")\n",
    "print(augmented_texts)"
   ]
  },
  {
   "cell_type": "code",
   "execution_count": 17,
   "id": "b1ddffa3-69d4-4dcd-94a2-b6e0b48cfcf5",
   "metadata": {},
   "outputs": [],
   "source": [
    "def augment_string(string):\n",
    "    augs = choice([nac.KeyboardAug(), nac.RandomCharAug(action=\"insert\"), nac.RandomCharAug(action=\"substitute\"), nac.RandomCharAug(action=\"swap\"), nac.RandomCharAug(action=\"delete\")])\n",
    "    return augs.augment(sample, n=1)[0]"
   ]
  },
  {
   "cell_type": "markdown",
   "id": "aad284ac-ea0e-4bc6-801b-1b878f23fe11",
   "metadata": {},
   "source": [
    "# Sentence Transformer dataset"
   ]
  },
  {
   "cell_type": "code",
   "execution_count": 18,
   "id": "6b1058ea-89b1-4568-a647-1e7a2635bc4d",
   "metadata": {},
   "outputs": [],
   "source": [
    "sbert_ds = q_w_title[[\"originalTitle\", \"question\"]].reset_index(drop=True)\n",
    "sbert_ds[\"label\"] = 1"
   ]
  },
  {
   "cell_type": "code",
   "execution_count": 19,
   "id": "1174d8c0-5027-4afd-864b-f4ed3d9735df",
   "metadata": {},
   "outputs": [],
   "source": [
    "neg_samples = []\n",
    "for _ in range(2):\n",
    "    sbert_ds_neg = sbert_ds.copy()\n",
    "    sbert_ds_neg[\"mapping\"] = sbert_ds.apply(lambda row: (row[\"originalTitle\"], row[\"question\"]), axis=1)\n",
    "    sbert_ds_neg[\"mapping\"] = sbert_ds_neg[\"mapping\"].sample(frac=1, ignore_index=True)\n",
    "    sbert_ds_neg[\"question\"] = sbert_ds_neg[\"mapping\"].apply(lambda mapping: mapping[1])\n",
    "    sbert_ds_neg[\"label\"] = sbert_ds_neg.apply(lambda row: int(row[\"originalTitle\"]==row[\"mapping\"][0]), axis=1)\n",
    "    sbert_ds_neg = sbert_ds_neg[sbert_ds_neg[\"label\"]==0]\n",
    "    neg_samples.append(sbert_ds_neg[[\"originalTitle\", \"question\", \"label\"]])"
   ]
  },
  {
   "cell_type": "code",
   "execution_count": 20,
   "id": "b9fe83ec-0c8e-4025-a8bb-88647275d89e",
   "metadata": {},
   "outputs": [],
   "source": [
    "sbert_ds = pd.concat([sbert_ds, *neg_samples], axis=0, ignore_index=True)"
   ]
  },
  {
   "cell_type": "code",
   "execution_count": 21,
   "id": "f72e46f8-7d33-417f-9e50-f5180b82ad38",
   "metadata": {},
   "outputs": [],
   "source": [
    "sbert_ds = sbert_ds.sample(frac=1, ignore_index=True)"
   ]
  },
  {
   "cell_type": "code",
   "execution_count": 29,
   "id": "b75c7f58-3ec6-46bc-8ee6-8ac87bf33459",
   "metadata": {},
   "outputs": [],
   "source": [
    "unseen_titles = pd.Series(sbert_ds[\"originalTitle\"].unique()).sample(200).to_list()"
   ]
  },
  {
   "cell_type": "code",
   "execution_count": 31,
   "id": "5c601235-c10b-4f48-b487-52a5c1a5291e",
   "metadata": {},
   "outputs": [],
   "source": [
    "shuffle(unseen_titles)"
   ]
  },
  {
   "cell_type": "code",
   "execution_count": 32,
   "id": "b619f411-4a48-484a-b38d-b0d710ac62f5",
   "metadata": {},
   "outputs": [],
   "source": [
    "val_titles = unseen_titles[:100]\n",
    "test_titles = unseen_titles[100:]"
   ]
  },
  {
   "cell_type": "code",
   "execution_count": 34,
   "id": "62042eb3-27fa-4c9c-a345-dc0b8d8ccc15",
   "metadata": {},
   "outputs": [],
   "source": [
    "train_ds = sbert_ds[~(sbert_ds[\"originalTitle\"].isin(unseen_titles))].sample(frac=1, ignore_index=True)\n",
    "val_ds = sbert_ds[sbert_ds[\"originalTitle\"].isin(val_titles)].sample(frac=1, ignore_index=True)\n",
    "test_ds = sbert_ds[sbert_ds[\"originalTitle\"].isin(test_titles)].sample(frac=1, ignore_index=True)"
   ]
  },
  {
   "cell_type": "code",
   "execution_count": 38,
   "id": "ce150f51-5256-4183-8b8c-5fe84618e2fb",
   "metadata": {},
   "outputs": [
    {
     "name": "stdout",
     "output_type": "stream",
     "text": [
      "(163098, 3)\n",
      "(4032, 3)\n",
      "(4007, 3)\n"
     ]
    }
   ],
   "source": [
    "print(train_ds.shape)\n",
    "print(val_ds.shape)\n",
    "print(test_ds.shape)"
   ]
  },
  {
   "cell_type": "code",
   "execution_count": 40,
   "id": "f3197900-58bb-4ce3-85d5-8676cad7b42d",
   "metadata": {},
   "outputs": [],
   "source": [
    "noisy_samples = train_ds.sample(frac=.20)"
   ]
  },
  {
   "cell_type": "code",
   "execution_count": 41,
   "id": "7a052288-720f-492d-a0fa-4c70973871df",
   "metadata": {},
   "outputs": [
    {
     "name": "stderr",
     "output_type": "stream",
     "text": [
      "100%|██████████████████████████████████████████████████████████████████████████| 32620/32620 [00:28<00:00, 1149.23it/s]\n"
     ]
    }
   ],
   "source": [
    "for i, row in tqdm(noisy_samples.iterrows(), total=noisy_samples.shape[0]):\n",
    "    train_ds.at[i, \"question\"] = augment_string(row[\"question\"])"
   ]
  },
  {
   "cell_type": "code",
   "execution_count": 42,
   "id": "a4cea4cb-1860-4afa-8def-d86ac6ef7b84",
   "metadata": {},
   "outputs": [],
   "source": [
    "train_ds[[\"question\", \"originalTitle\", \"label\"]].to_feather(\"datasets/movie_datasets/imdb/train_sbert_ds_v1.feather\")\n",
    "val_ds[[\"question\", \"originalTitle\", \"label\"]].to_feather(\"datasets/movie_datasets/imdb/val_sbert_ds_v1.feather\")\n",
    "test_ds[[\"question\", \"originalTitle\", \"label\"]].to_feather(\"datasets/movie_datasets/imdb/test_sbert_ds_v1.feather\")\n",
    "sbert_ds[[\"question\", \"originalTitle\", \"label\"]].to_feather(\"datasets/movie_datasets/imdb/retreiver_ds_v1.feather\")"
   ]
  },
  {
   "cell_type": "code",
   "execution_count": null,
   "id": "fb41f447-e5a5-47a2-a625-8c0b02cb0455",
   "metadata": {},
   "outputs": [],
   "source": []
  }
 ],
 "metadata": {
  "kernelspec": {
   "display_name": "stevens",
   "language": "python",
   "name": "stevens"
  },
  "language_info": {
   "codemirror_mode": {
    "name": "ipython",
    "version": 3
   },
   "file_extension": ".py",
   "mimetype": "text/x-python",
   "name": "python",
   "nbconvert_exporter": "python",
   "pygments_lexer": "ipython3",
   "version": "3.11.5"
  }
 },
 "nbformat": 4,
 "nbformat_minor": 5
}
