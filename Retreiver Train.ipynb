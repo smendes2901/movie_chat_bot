{
 "cells": [
  {
   "cell_type": "code",
   "execution_count": 1,
   "id": "85ab47c4-3060-466b-9dda-82c3b4a14598",
   "metadata": {},
   "outputs": [],
   "source": [
    "from torch.utils.data import DataLoader\n",
    "import math\n",
    "from sentence_transformers import SentenceTransformer,  LoggingHandler, losses, models, util\n",
    "from sentence_transformers.evaluation import EmbeddingSimilarityEvaluator\n",
    "from sentence_transformers.readers import InputExample\n",
    "import pandas as pd\n",
    "import numpy as np\n",
    "import os"
   ]
  },
  {
   "cell_type": "code",
   "execution_count": 2,
   "id": "806c762d-feb9-4f24-b9f8-cb82e1d9e4e6",
   "metadata": {},
   "outputs": [],
   "source": [
    "train = pd.read_feather(\"datasets/movie_datasets/imdb/train_sbert_ds_v1.feather\")\n",
    "val = pd.read_feather(\"datasets/movie_datasets/imdb/val_sbert_ds_v1.feather\")\n",
    "test = pd.read_feather(\"datasets/movie_datasets/imdb/test_sbert_ds_v1.feather\")"
   ]
  },
  {
   "cell_type": "code",
   "execution_count": 3,
   "id": "21928a6a-00d9-44cc-ba01-d2d92fd6878b",
   "metadata": {},
   "outputs": [
    {
     "data": {
      "text/html": [
       "<div>\n",
       "<style scoped>\n",
       "    .dataframe tbody tr th:only-of-type {\n",
       "        vertical-align: middle;\n",
       "    }\n",
       "\n",
       "    .dataframe tbody tr th {\n",
       "        vertical-align: top;\n",
       "    }\n",
       "\n",
       "    .dataframe thead th {\n",
       "        text-align: right;\n",
       "    }\n",
       "</style>\n",
       "<table border=\"1\" class=\"dataframe\">\n",
       "  <thead>\n",
       "    <tr style=\"text-align: right;\">\n",
       "      <th></th>\n",
       "      <th>question</th>\n",
       "      <th>originalTitle</th>\n",
       "      <th>label</th>\n",
       "    </tr>\n",
       "  </thead>\n",
       "  <tbody>\n",
       "    <tr>\n",
       "      <th>0</th>\n",
       "      <td>What is the production company of Malevich?</td>\n",
       "      <td>Queer Genius</td>\n",
       "      <td>0</td>\n",
       "    </tr>\n",
       "    <tr>\n",
       "      <th>1</th>\n",
       "      <td>Is the movie Konpaku inspired by actual events?</td>\n",
       "      <td>The Friendliest Railway in the World</td>\n",
       "      <td>0</td>\n",
       "    </tr>\n",
       "    <tr>\n",
       "      <th>2</th>\n",
       "      <td>What genre is Mukherjee Dar Bou?</td>\n",
       "      <td>Mukherjee Dar Bou</td>\n",
       "      <td>1</td>\n",
       "    </tr>\n",
       "    <tr>\n",
       "      <th>3</th>\n",
       "      <td>What is the language spoken in the movie `let'...</td>\n",
       "      <td>Kita tylos puse</td>\n",
       "      <td>0</td>\n",
       "    </tr>\n",
       "    <tr>\n",
       "      <th>4</th>\n",
       "      <td>What is the main message of The Earthing Movie?</td>\n",
       "      <td>Dansh</td>\n",
       "      <td>0</td>\n",
       "    </tr>\n",
       "  </tbody>\n",
       "</table>\n",
       "</div>"
      ],
      "text/plain": [
       "                                            question  \\\n",
       "0        What is the production company of Malevich?   \n",
       "1    Is the movie Konpaku inspired by actual events?   \n",
       "2                   What genre is Mukherjee Dar Bou?   \n",
       "3  What is the language spoken in the movie `let'...   \n",
       "4    What is the main message of The Earthing Movie?   \n",
       "\n",
       "                          originalTitle  label  \n",
       "0                          Queer Genius      0  \n",
       "1  The Friendliest Railway in the World      0  \n",
       "2                     Mukherjee Dar Bou      1  \n",
       "3                       Kita tylos puse      0  \n",
       "4                                 Dansh      0  "
      ]
     },
     "execution_count": 3,
     "metadata": {},
     "output_type": "execute_result"
    }
   ],
   "source": [
    "train.head()"
   ]
  },
  {
   "cell_type": "code",
   "execution_count": 4,
   "id": "18ff0bc8-5dc2-460b-b760-0c71a8d67e22",
   "metadata": {},
   "outputs": [],
   "source": [
    "train_samples = []\n",
    "for _,  row in train.iterrows():\n",
    "    train_samples.append(InputExample(texts=[row[\"question\"], row[\"originalTitle\"]], label=np.float32(row[\"label\"])))\n",
    "\n",
    "dev_samples = []\n",
    "for _, row in val.iterrows():\n",
    "    dev_samples.append(InputExample(texts=[row[\"question\"], row[\"originalTitle\"]], label=np.float32(row[\"label\"])))"
   ]
  },
  {
   "cell_type": "code",
   "execution_count": 5,
   "id": "eeb1445f-09e8-4735-9f6e-d946e57a8ca2",
   "metadata": {},
   "outputs": [],
   "source": [
    "model_name=\"sentence-transformers/all-MiniLM-L6-v2\""
   ]
  },
  {
   "cell_type": "code",
   "execution_count": 6,
   "id": "fb69d175-cd50-43f4-89bf-a7e326f6c5e8",
   "metadata": {},
   "outputs": [],
   "source": [
    "word_embedding_model = models.Transformer(model_name)\n",
    "\n",
    "pooling_model = models.Pooling(word_embedding_model.get_word_embedding_dimension(),\n",
    "                               pooling_mode_mean_tokens=True,\n",
    "                               pooling_mode_cls_token=False,\n",
    "                               pooling_mode_max_tokens=False)"
   ]
  },
  {
   "cell_type": "code",
   "execution_count": 7,
   "id": "349c34d5-0d25-4b06-a103-047688438166",
   "metadata": {},
   "outputs": [],
   "source": [
    "model = SentenceTransformer(modules=[word_embedding_model, pooling_model], device=0)"
   ]
  },
  {
   "cell_type": "code",
   "execution_count": 8,
   "id": "2fba9034-74df-45e7-aa52-2b42397b1f15",
   "metadata": {},
   "outputs": [],
   "source": [
    "train_dataloader = DataLoader(train_samples, shuffle=True, batch_size=32)\n",
    "train_loss = losses.ContrastiveLoss(model=model)"
   ]
  },
  {
   "cell_type": "code",
   "execution_count": 9,
   "id": "0971beb5-b37d-4b63-b13a-2fa12aa93e1c",
   "metadata": {},
   "outputs": [],
   "source": [
    "evaluator = EmbeddingSimilarityEvaluator.from_input_examples(dev_samples, name='dev')"
   ]
  },
  {
   "cell_type": "code",
   "execution_count": 10,
   "id": "26f2f56e-2480-4095-b50b-d354ab56fd7c",
   "metadata": {},
   "outputs": [],
   "source": [
    "warmup_steps = math.ceil(len(train_dataloader) * 2 * 0.1) #10% of train data for warm-up"
   ]
  },
  {
   "cell_type": "code",
   "execution_count": 11,
   "id": "2ca5f416-0ea8-4f56-aa2b-55c6b7ebc2d3",
   "metadata": {},
   "outputs": [],
   "source": [
    "output_path = \"./model_output\""
   ]
  },
  {
   "cell_type": "code",
   "execution_count": 13,
   "id": "3fc1caac-d4dd-40b9-abd3-e526a2884a57",
   "metadata": {},
   "outputs": [
    {
     "data": {
      "application/vnd.jupyter.widget-view+json": {
       "model_id": "53d9f16a0eae4066a2c6edcca43d84be",
       "version_major": 2,
       "version_minor": 0
      },
      "text/plain": [
       "Epoch:   0%|          | 0/2 [00:00<?, ?it/s]"
      ]
     },
     "metadata": {},
     "output_type": "display_data"
    },
    {
     "data": {
      "application/vnd.jupyter.widget-view+json": {
       "model_id": "a288993ac8bd4c07a0d7ea1a4195b1bf",
       "version_major": 2,
       "version_minor": 0
      },
      "text/plain": [
       "Iteration:   0%|          | 0/5097 [00:00<?, ?it/s]"
      ]
     },
     "metadata": {},
     "output_type": "display_data"
    },
    {
     "data": {
      "application/vnd.jupyter.widget-view+json": {
       "model_id": "762d937c5cd840278db9f3304fa6dd6c",
       "version_major": 2,
       "version_minor": 0
      },
      "text/plain": [
       "Iteration:   0%|          | 0/5097 [00:00<?, ?it/s]"
      ]
     },
     "metadata": {},
     "output_type": "display_data"
    }
   ],
   "source": [
    "model.fit(train_objectives=[(train_dataloader, train_loss)],\n",
    "          evaluator=evaluator,\n",
    "          epochs=2,\n",
    "          evaluation_steps=1_000,\n",
    "          warmup_steps=warmup_steps,\n",
    "          output_path=os.path.join(output_path, model_name.replace(\"/\",\"-\")))"
   ]
  },
  {
   "cell_type": "markdown",
   "id": "298cbe81-ce6e-48f4-87ee-2eb81a9bb6c5",
   "metadata": {},
   "source": [
    "# Inference"
   ]
  },
  {
   "cell_type": "code",
   "execution_count": 1,
   "id": "006165a7-131e-43ee-a385-135522e518a7",
   "metadata": {},
   "outputs": [],
   "source": [
    "import pandas as pd\n",
    "from utils import augment_string\n",
    "from sentence_transformers import SentenceTransformer,  models, util"
   ]
  },
  {
   "cell_type": "code",
   "execution_count": 2,
   "id": "75df7c44-bb27-4a06-a908-aad4bab5d554",
   "metadata": {},
   "outputs": [],
   "source": [
    "train = pd.read_feather(\"datasets/movie_datasets/imdb/train_sbert_ds_v1.feather\")\n",
    "val = pd.read_feather(\"datasets/movie_datasets/imdb/val_sbert_ds_v1.feather\")\n",
    "test = pd.read_feather(\"datasets/movie_datasets/imdb/test_sbert_ds_v1.feather\")"
   ]
  },
  {
   "cell_type": "code",
   "execution_count": 4,
   "id": "19c56c9d-4681-4a81-8dbd-06425ba27d79",
   "metadata": {},
   "outputs": [],
   "source": [
    "trained_model = SentenceTransformer(\"model_output/sentence-transformers-all-MiniLM-L6-v2/\")\n",
    "base_model = SentenceTransformer(\"sentence-transformers/all-MiniLM-L6-v2\")"
   ]
  },
  {
   "cell_type": "code",
   "execution_count": 5,
   "id": "5fe90269-00cf-486a-b7f6-6d0f01261ef3",
   "metadata": {},
   "outputs": [],
   "source": [
    "movie_list = train[\"originalTitle\"].unique().tolist()+val[\"originalTitle\"].unique().tolist()+test[\"originalTitle\"].unique().tolist()"
   ]
  },
  {
   "cell_type": "code",
   "execution_count": 30,
   "id": "8da965f9-06a3-45c7-b74e-560c68df102c",
   "metadata": {},
   "outputs": [
    {
     "data": {
      "text/html": [
       "<div>\n",
       "<style scoped>\n",
       "    .dataframe tbody tr th:only-of-type {\n",
       "        vertical-align: middle;\n",
       "    }\n",
       "\n",
       "    .dataframe tbody tr th {\n",
       "        vertical-align: top;\n",
       "    }\n",
       "\n",
       "    .dataframe thead th {\n",
       "        text-align: right;\n",
       "    }\n",
       "</style>\n",
       "<table border=\"1\" class=\"dataframe\">\n",
       "  <thead>\n",
       "    <tr style=\"text-align: right;\">\n",
       "      <th></th>\n",
       "      <th>question</th>\n",
       "      <th>originalTitle</th>\n",
       "      <th>label</th>\n",
       "    </tr>\n",
       "  </thead>\n",
       "  <tbody>\n",
       "    <tr>\n",
       "      <th>2638</th>\n",
       "      <td>What is the genre of En Kadhali Scene Podura?</td>\n",
       "      <td>En Kadhali Scene Podura</td>\n",
       "      <td>1</td>\n",
       "    </tr>\n",
       "    <tr>\n",
       "      <th>2161</th>\n",
       "      <td>What genre is Chhota Bheem Kung Fu Dhamaka?</td>\n",
       "      <td>The World of Esports</td>\n",
       "      <td>0</td>\n",
       "    </tr>\n",
       "    <tr>\n",
       "      <th>1959</th>\n",
       "      <td>What is the number of votes for \"Mantan Manten\"?</td>\n",
       "      <td>Vocalités vivantes</td>\n",
       "      <td>0</td>\n",
       "    </tr>\n",
       "    <tr>\n",
       "      <th>1208</th>\n",
       "      <td>What genre is the movie *Posts to the Pope*?</td>\n",
       "      <td>Posts to the Pope</td>\n",
       "      <td>1</td>\n",
       "    </tr>\n",
       "    <tr>\n",
       "      <th>1590</th>\n",
       "      <td>What do the friends find one night in Piola?</td>\n",
       "      <td>Piola</td>\n",
       "      <td>1</td>\n",
       "    </tr>\n",
       "  </tbody>\n",
       "</table>\n",
       "</div>"
      ],
      "text/plain": [
       "                                              question  \\\n",
       "2638     What is the genre of En Kadhali Scene Podura?   \n",
       "2161       What genre is Chhota Bheem Kung Fu Dhamaka?   \n",
       "1959  What is the number of votes for \"Mantan Manten\"?   \n",
       "1208      What genre is the movie *Posts to the Pope*?   \n",
       "1590      What do the friends find one night in Piola?   \n",
       "\n",
       "                originalTitle  label  \n",
       "2638  En Kadhali Scene Podura      1  \n",
       "2161     The World of Esports      0  \n",
       "1959       Vocalités vivantes      0  \n",
       "1208        Posts to the Pope      1  \n",
       "1590                    Piola      1  "
      ]
     },
     "execution_count": 30,
     "metadata": {},
     "output_type": "execute_result"
    }
   ],
   "source": [
    "test.sample(5)"
   ]
  },
  {
   "cell_type": "code",
   "execution_count": 39,
   "id": "add6c9f4-b6e7-46af-83f9-c436b41749fa",
   "metadata": {},
   "outputs": [
    {
     "name": "stdout",
     "output_type": "stream",
     "text": [
      "What is the Xefre of En Kadhali Soent Poturf?\n"
     ]
    }
   ],
   "source": [
    "question = augment_string(test.iloc[2638].question)\n",
    "print(question)"
   ]
  },
  {
   "cell_type": "code",
   "execution_count": 32,
   "id": "f270ec56-0eae-459c-b890-2669b763888e",
   "metadata": {},
   "outputs": [],
   "source": [
    "def generate_embeddings(model, question, movies):\n",
    "    return model.encode(question, convert_to_tensor=True, normalize_embeddings=True), model.encode(movie_list, convert_to_tensor=True, normalize_embeddings=True)"
   ]
  },
  {
   "cell_type": "code",
   "execution_count": 40,
   "id": "37964691-fcd5-47b2-bc84-969d95aa89c2",
   "metadata": {},
   "outputs": [],
   "source": [
    "question_embeddings, movies_embeddings = generate_embeddings(trained_model, question, movie_list)"
   ]
  },
  {
   "cell_type": "code",
   "execution_count": 41,
   "id": "cbb036f1-da58-4350-bd53-ef6dd7d1caaa",
   "metadata": {},
   "outputs": [
    {
     "name": "stdout",
     "output_type": "stream",
     "text": [
      "0.7660066485404968 En Kadhali Scene Podura\n",
      "0.6924241185188293 Kasaai\n",
      "0.6911365389823914 Kare Kasif\n",
      "0.679943323135376 Ermitage. Il potere dell'arte\n",
      "0.6743850111961365 The Shaman Sorceress\n"
     ]
    }
   ],
   "source": [
    "for score in util.semantic_search(question_embeddings, movies_embeddings, top_k=5)[0]:\n",
    "    print(score[\"score\"], movie_list[score[\"corpus_id\"]])"
   ]
  },
  {
   "cell_type": "code",
   "execution_count": null,
   "id": "8b794f08-25a6-49df-91b9-be3809dcc55c",
   "metadata": {},
   "outputs": [],
   "source": []
  }
 ],
 "metadata": {
  "kernelspec": {
   "display_name": "stevens",
   "language": "python",
   "name": "stevens"
  },
  "language_info": {
   "codemirror_mode": {
    "name": "ipython",
    "version": 3
   },
   "file_extension": ".py",
   "mimetype": "text/x-python",
   "name": "python",
   "nbconvert_exporter": "python",
   "pygments_lexer": "ipython3",
   "version": "3.11.5"
  }
 },
 "nbformat": 4,
 "nbformat_minor": 5
}
