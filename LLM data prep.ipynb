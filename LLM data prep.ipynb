{
 "cells": [
  {
   "cell_type": "code",
   "execution_count": 21,
   "id": "f85865ab-784b-4a5c-8e7c-e27e4b85ffa9",
   "metadata": {},
   "outputs": [],
   "source": [
    "import pandas as pd\n",
    "from utils import augment_string\n",
    "from random import shuffle\n",
    "from tqdm import tqdm\n",
    "tqdm.pandas()"
   ]
  },
  {
   "cell_type": "code",
   "execution_count": 2,
   "id": "ef474625-60ba-4261-9949-ac2345b5b649",
   "metadata": {},
   "outputs": [],
   "source": [
    "cohere = pd.read_feather(\"datasets/movie_datasets/imdb/movies_qa_cohere.feather\")\n",
    "palm2 = pd.read_feather(\"datasets/movie_datasets/imdb/movie_qa.feather\")\n",
    "palm2_p2 = pd.read_feather(\"datasets/movie_datasets/imdb/movie_qa.feather\")"
   ]
  },
  {
   "cell_type": "code",
   "execution_count": 3,
   "id": "1e75250d-20d2-478d-baac-fba71c4a3f34",
   "metadata": {},
   "outputs": [
    {
     "name": "stdout",
     "output_type": "stream",
     "text": [
      "Index(['tconst', 'originalTitle', 'data', 'question', 'answer'], dtype='object')\n",
      "Index(['tconst', 'originalTitle', 'data', 'question', 'answer'], dtype='object')\n",
      "Index(['tconst', 'originalTitle', 'data', 'question', 'answer'], dtype='object')\n"
     ]
    }
   ],
   "source": [
    "print(cohere.columns)\n",
    "print(palm2.columns)\n",
    "print(palm2_p2.columns)"
   ]
  },
  {
   "cell_type": "code",
   "execution_count": 4,
   "id": "e7c98c0f-f3d9-46a9-84e7-3d2180fb6619",
   "metadata": {},
   "outputs": [],
   "source": [
    "complete_movie_qa = pd.concat([cohere, palm2, palm2_p2], axis=0, ignore_index=True)"
   ]
  },
  {
   "cell_type": "code",
   "execution_count": 5,
   "id": "4d533bdd-9544-4c33-ad11-a891f4380572",
   "metadata": {},
   "outputs": [
    {
     "data": {
      "text/html": [
       "<div>\n",
       "<style scoped>\n",
       "    .dataframe tbody tr th:only-of-type {\n",
       "        vertical-align: middle;\n",
       "    }\n",
       "\n",
       "    .dataframe tbody tr th {\n",
       "        vertical-align: top;\n",
       "    }\n",
       "\n",
       "    .dataframe thead th {\n",
       "        text-align: right;\n",
       "    }\n",
       "</style>\n",
       "<table border=\"1\" class=\"dataframe\">\n",
       "  <thead>\n",
       "    <tr style=\"text-align: right;\">\n",
       "      <th></th>\n",
       "      <th>tconst</th>\n",
       "      <th>originalTitle</th>\n",
       "      <th>data</th>\n",
       "      <th>question</th>\n",
       "      <th>answer</th>\n",
       "    </tr>\n",
       "  </thead>\n",
       "  <tbody>\n",
       "    <tr>\n",
       "      <th>0</th>\n",
       "      <td>tt10024036</td>\n",
       "      <td>Satyarthi</td>\n",
       "      <td>Description: Kailash Satyarthi has spent his l...</td>\n",
       "      <td>What is the rating of the movie Satyarthi?</td>\n",
       "      <td>8.3</td>\n",
       "    </tr>\n",
       "    <tr>\n",
       "      <th>1</th>\n",
       "      <td>tt10024036</td>\n",
       "      <td>Satyarthi</td>\n",
       "      <td>Description: Kailash Satyarthi has spent his l...</td>\n",
       "      <td>What is the release year of the movie Satyarthi?</td>\n",
       "      <td>2019</td>\n",
       "    </tr>\n",
       "    <tr>\n",
       "      <th>2</th>\n",
       "      <td>tt10024036</td>\n",
       "      <td>Satyarthi</td>\n",
       "      <td>Description: Kailash Satyarthi has spent his l...</td>\n",
       "      <td>What is the genre of the movie Satyarthi?</td>\n",
       "      <td>Documentary</td>\n",
       "    </tr>\n",
       "    <tr>\n",
       "      <th>3</th>\n",
       "      <td>tt10024036</td>\n",
       "      <td>Satyarthi</td>\n",
       "      <td>Description: Kailash Satyarthi has spent his l...</td>\n",
       "      <td>Who is the movie Satyarthi based on?</td>\n",
       "      <td>Kailash Satyarthi</td>\n",
       "    </tr>\n",
       "    <tr>\n",
       "      <th>4</th>\n",
       "      <td>tt10024036</td>\n",
       "      <td>Satyarthi</td>\n",
       "      <td>Description: Kailash Satyarthi has spent his l...</td>\n",
       "      <td>What is the vote count of the movie Satyarthi?</td>\n",
       "      <td>6.0</td>\n",
       "    </tr>\n",
       "  </tbody>\n",
       "</table>\n",
       "</div>"
      ],
      "text/plain": [
       "       tconst originalTitle  \\\n",
       "0  tt10024036     Satyarthi   \n",
       "1  tt10024036     Satyarthi   \n",
       "2  tt10024036     Satyarthi   \n",
       "3  tt10024036     Satyarthi   \n",
       "4  tt10024036     Satyarthi   \n",
       "\n",
       "                                                data  \\\n",
       "0  Description: Kailash Satyarthi has spent his l...   \n",
       "1  Description: Kailash Satyarthi has spent his l...   \n",
       "2  Description: Kailash Satyarthi has spent his l...   \n",
       "3  Description: Kailash Satyarthi has spent his l...   \n",
       "4  Description: Kailash Satyarthi has spent his l...   \n",
       "\n",
       "                                           question             answer  \n",
       "0        What is the rating of the movie Satyarthi?                8.3  \n",
       "1  What is the release year of the movie Satyarthi?               2019  \n",
       "2         What is the genre of the movie Satyarthi?        Documentary  \n",
       "3              Who is the movie Satyarthi based on?  Kailash Satyarthi  \n",
       "4    What is the vote count of the movie Satyarthi?                6.0  "
      ]
     },
     "execution_count": 5,
     "metadata": {},
     "output_type": "execute_result"
    }
   ],
   "source": [
    "complete_movie_qa.head()"
   ]
  },
  {
   "cell_type": "code",
   "execution_count": 6,
   "id": "bab20eca-72b8-4836-ab0d-790e029b9ac0",
   "metadata": {},
   "outputs": [],
   "source": [
    "train_prompt=\"\"\"\n",
    "Below is a question regarding movies and shows paired with an input that provides further context. Write a response that appropriately completes the request.\n",
    "###Instruction: {question}\n",
    "###Input: {description}\n",
    "###Response: {answer}\n",
    "\"\"\".strip()\n",
    "test_prompt=\"\"\"\n",
    "Below is a question regarding movies and shows paired with an input that provides further context. Write a response that appropriately completes the request.\n",
    "###Instruction: {question}\n",
    "###Input: {description}\n",
    "###Response:\n",
    "\"\"\".strip()"
   ]
  },
  {
   "cell_type": "code",
   "execution_count": 7,
   "id": "740ab674-6694-4c19-9049-8ebe860ac786",
   "metadata": {},
   "outputs": [],
   "source": [
    "sample = complete_movie_qa.iloc[10]"
   ]
  },
  {
   "cell_type": "code",
   "execution_count": 9,
   "id": "ddb56c0b-19ef-4e60-9056-8a25de494ab3",
   "metadata": {},
   "outputs": [
    {
     "data": {
      "text/plain": [
       "'Below is a question regarding movies and shows paired with an input that provides further context. Write a response that appropriately completes the request.\\n###Instruction: What award was the movie Satyarthi nominated for?\\n###Input: Description: Kailash Satyarthi has spent his lifetime rescuing kids from slavery, and was awarded the Nobel Peace Prize for his work in 2014. The film looks at his journey and goes behind the scenes to witness first hand how he has changed lives of thousands of children. \\nRelease Year: 2019 \\nRuntime(in minutes): 52 \\nGenre: Documentary \\nRating: 8.3 \\nVotes: 6.0\\n###Response: The Nobel Peace Prize'"
      ]
     },
     "execution_count": 9,
     "metadata": {},
     "output_type": "execute_result"
    }
   ],
   "source": [
    "train_prompt.format(question=sample[\"question\"].strip(), description=sample[\"data\"].strip(), answer=sample[\"answer\"].strip())"
   ]
  },
  {
   "cell_type": "code",
   "execution_count": 10,
   "id": "8a23e964-6357-439b-80bc-67d0aba3c758",
   "metadata": {},
   "outputs": [],
   "source": [
    "complete_movie_qa = complete_movie_qa.sample(frac=1, ignore_index=True)"
   ]
  },
  {
   "cell_type": "code",
   "execution_count": 11,
   "id": "503b5548-b8f7-4d20-ab3f-e9f85325d409",
   "metadata": {},
   "outputs": [
    {
     "data": {
      "text/html": [
       "<div>\n",
       "<style scoped>\n",
       "    .dataframe tbody tr th:only-of-type {\n",
       "        vertical-align: middle;\n",
       "    }\n",
       "\n",
       "    .dataframe tbody tr th {\n",
       "        vertical-align: top;\n",
       "    }\n",
       "\n",
       "    .dataframe thead th {\n",
       "        text-align: right;\n",
       "    }\n",
       "</style>\n",
       "<table border=\"1\" class=\"dataframe\">\n",
       "  <thead>\n",
       "    <tr style=\"text-align: right;\">\n",
       "      <th></th>\n",
       "      <th>tconst</th>\n",
       "      <th>originalTitle</th>\n",
       "      <th>data</th>\n",
       "      <th>question</th>\n",
       "      <th>answer</th>\n",
       "    </tr>\n",
       "  </thead>\n",
       "  <tbody>\n",
       "    <tr>\n",
       "      <th>0</th>\n",
       "      <td>tt10177712</td>\n",
       "      <td>Alexis Viera, una historia de superación</td>\n",
       "      <td>Description: Alexis Viera, una historia de sup...</td>\n",
       "      <td>Who is the director of the movie?</td>\n",
       "      <td>Santiago Perez Bernal</td>\n",
       "    </tr>\n",
       "    <tr>\n",
       "      <th>1</th>\n",
       "      <td>tt11736782</td>\n",
       "      <td>The Mill</td>\n",
       "      <td>Description: The 2020 deadline to close the Bo...</td>\n",
       "      <td>What is the name of the director of the movie?</td>\n",
       "      <td>Ken MacDonald</td>\n",
       "    </tr>\n",
       "    <tr>\n",
       "      <th>2</th>\n",
       "      <td>tt11078522</td>\n",
       "      <td>Psycho-Pass: Sinners of the System Case.3 - On...</td>\n",
       "      <td>Description: Following the incident in the Sou...</td>\n",
       "      <td>How many votes does \"Psycho-Pass: Sinners of t...</td>\n",
       "      <td>819.0</td>\n",
       "    </tr>\n",
       "    <tr>\n",
       "      <th>3</th>\n",
       "      <td>tt10278386</td>\n",
       "      <td>Witches of the Water</td>\n",
       "      <td>Description: A young man falls in love with a ...</td>\n",
       "      <td>What is the genre of the movie?</td>\n",
       "      <td>Drama, Horror</td>\n",
       "    </tr>\n",
       "    <tr>\n",
       "      <th>4</th>\n",
       "      <td>tt28378149</td>\n",
       "      <td>Yami Douga 18</td>\n",
       "      <td>Description: 18th installment in the \"Yami Dou...</td>\n",
       "      <td>In what year was the movie released?</td>\n",
       "      <td>2018</td>\n",
       "    </tr>\n",
       "  </tbody>\n",
       "</table>\n",
       "</div>"
      ],
      "text/plain": [
       "       tconst                                      originalTitle  \\\n",
       "0  tt10177712           Alexis Viera, una historia de superación   \n",
       "1  tt11736782                                           The Mill   \n",
       "2  tt11078522  Psycho-Pass: Sinners of the System Case.3 - On...   \n",
       "3  tt10278386                               Witches of the Water   \n",
       "4  tt28378149                                      Yami Douga 18   \n",
       "\n",
       "                                                data  \\\n",
       "0  Description: Alexis Viera, una historia de sup...   \n",
       "1  Description: The 2020 deadline to close the Bo...   \n",
       "2  Description: Following the incident in the Sou...   \n",
       "3  Description: A young man falls in love with a ...   \n",
       "4  Description: 18th installment in the \"Yami Dou...   \n",
       "\n",
       "                                            question                 answer  \n",
       "0                  Who is the director of the movie?  Santiago Perez Bernal  \n",
       "1     What is the name of the director of the movie?          Ken MacDonald  \n",
       "2  How many votes does \"Psycho-Pass: Sinners of t...                  819.0  \n",
       "3                    What is the genre of the movie?          Drama, Horror  \n",
       "4               In what year was the movie released?                   2018  "
      ]
     },
     "execution_count": 11,
     "metadata": {},
     "output_type": "execute_result"
    }
   ],
   "source": [
    "complete_movie_qa.head()"
   ]
  },
  {
   "cell_type": "code",
   "execution_count": 12,
   "id": "899fe2a2-9dea-4b00-95be-54f6b6037bd0",
   "metadata": {},
   "outputs": [
    {
     "data": {
      "text/plain": [
       "(73245, 5)"
      ]
     },
     "execution_count": 12,
     "metadata": {},
     "output_type": "execute_result"
    }
   ],
   "source": [
    "complete_movie_qa.shape"
   ]
  },
  {
   "cell_type": "code",
   "execution_count": 13,
   "id": "95592c5f-c04f-4789-9bd5-a9d4d6e4a2cd",
   "metadata": {},
   "outputs": [],
   "source": [
    "unseen_titles = pd.Series(complete_movie_qa[\"originalTitle\"].unique()).sample(500).to_list()"
   ]
  },
  {
   "cell_type": "code",
   "execution_count": 14,
   "id": "fdc5a93e-08a8-4de3-8b13-b5c9dfc7017b",
   "metadata": {},
   "outputs": [],
   "source": [
    "shuffle(unseen_titles)"
   ]
  },
  {
   "cell_type": "code",
   "execution_count": 15,
   "id": "bed0ab2d-44cc-4c8e-aa51-c803c209ef41",
   "metadata": {},
   "outputs": [],
   "source": [
    "val_titles = unseen_titles[:250]\n",
    "test_titles = unseen_titles[250:]"
   ]
  },
  {
   "cell_type": "code",
   "execution_count": 16,
   "id": "8eb60b62-0f4a-45ff-9553-2c10cd31c49d",
   "metadata": {},
   "outputs": [],
   "source": [
    "train_ds = complete_movie_qa[~(complete_movie_qa[\"originalTitle\"].isin(unseen_titles))].sample(frac=1, ignore_index=True)\n",
    "val_ds = complete_movie_qa[complete_movie_qa[\"originalTitle\"].isin(val_titles)].sample(frac=1, ignore_index=True)\n",
    "test_ds = complete_movie_qa[complete_movie_qa[\"originalTitle\"].isin(test_titles)].sample(frac=1, ignore_index=True)"
   ]
  },
  {
   "cell_type": "code",
   "execution_count": 17,
   "id": "2b22640c-594c-4227-a870-b811f500cac4",
   "metadata": {},
   "outputs": [
    {
     "name": "stdout",
     "output_type": "stream",
     "text": [
      "(63921, 5)\n",
      "(4564, 5)\n",
      "(4760, 5)\n"
     ]
    }
   ],
   "source": [
    "print(train_ds.shape)\n",
    "print(val_ds.shape)\n",
    "print(test_ds.shape)"
   ]
  },
  {
   "cell_type": "code",
   "execution_count": 18,
   "id": "13e75e7e-3d03-47af-ba7a-b3f672c8d954",
   "metadata": {},
   "outputs": [],
   "source": [
    "noisy_samples = train_ds.sample(frac=.20)"
   ]
  },
  {
   "cell_type": "code",
   "execution_count": 19,
   "id": "b7f76eea-0acc-4db2-9966-e84933e5643b",
   "metadata": {},
   "outputs": [
    {
     "name": "stderr",
     "output_type": "stream",
     "text": [
      "100%|██████████████████████████████████████████████████████████████████████████| 12784/12784 [00:11<00:00, 1065.70it/s]\n"
     ]
    }
   ],
   "source": [
    "for i, row in tqdm(noisy_samples.iterrows(), total=noisy_samples.shape[0]):\n",
    "    train_ds.at[i, \"question\"] = augment_string(row[\"question\"])"
   ]
  },
  {
   "cell_type": "code",
   "execution_count": 22,
   "id": "8be4f34b-f968-4b03-ae24-b8616fe0844f",
   "metadata": {},
   "outputs": [
    {
     "name": "stderr",
     "output_type": "stream",
     "text": [
      "100%|█████████████████████████████████████████████████████████████████████████| 63921/63921 [00:00<00:00, 96227.45it/s]\n",
      "100%|███████████████████████████████████████████████████████████████████████████| 4564/4564 [00:00<00:00, 84505.99it/s]\n",
      "100%|██████████████████████████████████████████████████████████████████████████| 4760/4760 [00:00<00:00, 123470.22it/s]\n"
     ]
    }
   ],
   "source": [
    "train_ds[\"prompt\"] = train_ds.progress_apply(lambda row: train_prompt.format(question=row[\"question\"].strip(), description=row[\"data\"].strip(), answer=row[\"answer\"].strip()), axis=1)\n",
    "val_ds[\"prompt\"] = val_ds.progress_apply(lambda row: train_prompt.format(question=row[\"question\"].strip(), description=row[\"data\"].strip(), answer=row[\"answer\"].strip()), axis=1)\n",
    "test_ds[\"prompt\"] = test_ds.progress_apply(lambda row: test_prompt.format(question=row[\"question\"].strip(), description=row[\"data\"].strip()), axis=1)"
   ]
  },
  {
   "cell_type": "code",
   "execution_count": 24,
   "id": "a58166d3-a445-47e2-b53a-f99423fb8752",
   "metadata": {},
   "outputs": [],
   "source": [
    "train_ds.to_feather(\"datasets/movie_datasets/imdb/train_llm_ds_v1.feather\")\n",
    "val_ds.to_feather(\"datasets/movie_datasets/imdb/val_llm_ds_v1.feather\")\n",
    "test_ds.to_feather(\"datasets/movie_datasets/imdb/test_llm_ds_v1.feather\")\n",
    "complete_movie_qa.to_feather(\"datasets/movie_datasets/imdb/movies_ds_v1.feather\")"
   ]
  },
  {
   "cell_type": "code",
   "execution_count": null,
   "id": "4bcce920-1378-4c4b-9a3f-b83462a292bb",
   "metadata": {},
   "outputs": [],
   "source": []
  }
 ],
 "metadata": {
  "kernelspec": {
   "display_name": "stevens",
   "language": "python",
   "name": "stevens"
  },
  "language_info": {
   "codemirror_mode": {
    "name": "ipython",
    "version": 3
   },
   "file_extension": ".py",
   "mimetype": "text/x-python",
   "name": "python",
   "nbconvert_exporter": "python",
   "pygments_lexer": "ipython3",
   "version": "3.11.5"
  }
 },
 "nbformat": 4,
 "nbformat_minor": 5
}
