{
 "cells": [
  {
   "cell_type": "markdown",
   "metadata": {
    "id": "TPtCpUwHHAjU"
   },
   "source": [
    "# Movies Database"
   ]
  },
  {
   "cell_type": "code",
   "execution_count": null,
   "metadata": {
    "id": "ajG7YNbXHAjX"
   },
   "outputs": [],
   "source": [
    "import pandas as pd"
   ]
  },
  {
   "cell_type": "code",
   "execution_count": null,
   "metadata": {
    "id": "BAaC3R4gHAjY",
    "outputId": "a370ee9e-9a24-41c1-fdc2-6e3fae459235"
   },
   "outputs": [
    {
     "name": "stderr",
     "output_type": "stream",
     "text": [
      "C:\\Users\\smend\\AppData\\Local\\Temp\\ipykernel_16004\\1166172987.py:1: DtypeWarning: Columns (4) have mixed types. Specify dtype option on import or set low_memory=False.\n",
      "  df = pd.read_table(r\"datasets/movie datasets/imdb/title.basics.tsv/data.tsv\", sep=\"\\t\")\n"
     ]
    }
   ],
   "source": [
    "df = pd.read_table(r\"datasets/movie datasets/imdb/title.basics.tsv/data.tsv\", sep=\"\\t\")"
   ]
  },
  {
   "cell_type": "code",
   "execution_count": null,
   "metadata": {
    "id": "BNiRUTRbHAjZ",
    "outputId": "d989b7d3-7706-4097-f896-a12f63421ab4"
   },
   "outputs": [
    {
     "data": {
      "text/html": [
       "<div>\n",
       "<style scoped>\n",
       "    .dataframe tbody tr th:only-of-type {\n",
       "        vertical-align: middle;\n",
       "    }\n",
       "\n",
       "    .dataframe tbody tr th {\n",
       "        vertical-align: top;\n",
       "    }\n",
       "\n",
       "    .dataframe thead th {\n",
       "        text-align: right;\n",
       "    }\n",
       "</style>\n",
       "<table border=\"1\" class=\"dataframe\">\n",
       "  <thead>\n",
       "    <tr style=\"text-align: right;\">\n",
       "      <th></th>\n",
       "      <th>tconst</th>\n",
       "      <th>titleType</th>\n",
       "      <th>primaryTitle</th>\n",
       "      <th>originalTitle</th>\n",
       "      <th>isAdult</th>\n",
       "      <th>startYear</th>\n",
       "      <th>endYear</th>\n",
       "      <th>runtimeMinutes</th>\n",
       "      <th>genres</th>\n",
       "    </tr>\n",
       "  </thead>\n",
       "  <tbody>\n",
       "    <tr>\n",
       "      <th>0</th>\n",
       "      <td>tt0000001</td>\n",
       "      <td>short</td>\n",
       "      <td>Carmencita</td>\n",
       "      <td>Carmencita</td>\n",
       "      <td>0</td>\n",
       "      <td>1894</td>\n",
       "      <td>\\N</td>\n",
       "      <td>1</td>\n",
       "      <td>Documentary,Short</td>\n",
       "    </tr>\n",
       "    <tr>\n",
       "      <th>1</th>\n",
       "      <td>tt0000002</td>\n",
       "      <td>short</td>\n",
       "      <td>Le clown et ses chiens</td>\n",
       "      <td>Le clown et ses chiens</td>\n",
       "      <td>0</td>\n",
       "      <td>1892</td>\n",
       "      <td>\\N</td>\n",
       "      <td>5</td>\n",
       "      <td>Animation,Short</td>\n",
       "    </tr>\n",
       "    <tr>\n",
       "      <th>2</th>\n",
       "      <td>tt0000003</td>\n",
       "      <td>short</td>\n",
       "      <td>Pauvre Pierrot</td>\n",
       "      <td>Pauvre Pierrot</td>\n",
       "      <td>0</td>\n",
       "      <td>1892</td>\n",
       "      <td>\\N</td>\n",
       "      <td>4</td>\n",
       "      <td>Animation,Comedy,Romance</td>\n",
       "    </tr>\n",
       "    <tr>\n",
       "      <th>3</th>\n",
       "      <td>tt0000004</td>\n",
       "      <td>short</td>\n",
       "      <td>Un bon bock</td>\n",
       "      <td>Un bon bock</td>\n",
       "      <td>0</td>\n",
       "      <td>1892</td>\n",
       "      <td>\\N</td>\n",
       "      <td>12</td>\n",
       "      <td>Animation,Short</td>\n",
       "    </tr>\n",
       "    <tr>\n",
       "      <th>4</th>\n",
       "      <td>tt0000005</td>\n",
       "      <td>short</td>\n",
       "      <td>Blacksmith Scene</td>\n",
       "      <td>Blacksmith Scene</td>\n",
       "      <td>0</td>\n",
       "      <td>1893</td>\n",
       "      <td>\\N</td>\n",
       "      <td>1</td>\n",
       "      <td>Comedy,Short</td>\n",
       "    </tr>\n",
       "  </tbody>\n",
       "</table>\n",
       "</div>"
      ],
      "text/plain": [
       "      tconst titleType            primaryTitle           originalTitle  \\\n",
       "0  tt0000001     short              Carmencita              Carmencita   \n",
       "1  tt0000002     short  Le clown et ses chiens  Le clown et ses chiens   \n",
       "2  tt0000003     short          Pauvre Pierrot          Pauvre Pierrot   \n",
       "3  tt0000004     short             Un bon bock             Un bon bock   \n",
       "4  tt0000005     short        Blacksmith Scene        Blacksmith Scene   \n",
       "\n",
       "  isAdult startYear endYear runtimeMinutes                    genres  \n",
       "0       0      1894      \\N              1         Documentary,Short  \n",
       "1       0      1892      \\N              5           Animation,Short  \n",
       "2       0      1892      \\N              4  Animation,Comedy,Romance  \n",
       "3       0      1892      \\N             12           Animation,Short  \n",
       "4       0      1893      \\N              1              Comedy,Short  "
      ]
     },
     "execution_count": 4,
     "metadata": {},
     "output_type": "execute_result"
    }
   ],
   "source": [
    "df.head()"
   ]
  },
  {
   "cell_type": "markdown",
   "metadata": {
    "id": "VZ1Oeh-rHAjd"
   },
   "source": [
    "# Analysing dataset"
   ]
  },
  {
   "cell_type": "code",
   "execution_count": 6,
   "metadata": {
    "id": "4Qn_5CPlHAjd",
    "outputId": "e34fd7a8-0821-43c5-d47a-c8ea6fb5e271"
   },
   "outputs": [],
   "source": [
    "import pandas as pd\n",
    "from bs4 import BeautifulSoup\n",
    "from tqdm import tqdm\n",
    "from functools import reduce\n",
    "from transformers import AutoTokenizer\n",
    "import regex as re\n",
    "from palm_process import generate_questions_palm2\n",
    "tqdm.pandas()"
   ]
  },
  {
   "cell_type": "code",
   "execution_count": 7,
   "metadata": {},
   "outputs": [],
   "source": [
    "def extract_additional_information(html):\n",
    "    soup = BeautifulSoup(html)\n",
    "    synopsis = soup.find('span', id='synopsis')\n",
    "    if synopsis:\n",
    "        synopsis_text = synopsis.find(\"div\", {\"class\": \"ipc-html-content-inner-div\"})\n",
    "        if synopsis_text:\n",
    "            return synopsis_text.text\n",
    "    summaries = [div.text for div in soup.find_all(\"div\", {\"class\": \"ipc-html-content-inner-div\"}) if div]\n",
    "    summaries = sorted(summaries, key=len, reverse=True)\n",
    "    return summaries[0] if summaries else \"\""
   ]
  },
  {
   "cell_type": "code",
   "execution_count": 8,
   "metadata": {},
   "outputs": [],
   "source": [
    "def clean_string(string):\n",
    "    string_list = string.split(\"—\")\n",
    "    if len(string_list)>1:\n",
    "       string =  \" \".join(string_list[:-1])\n",
    "    return re.sub(\"\\s+\", \" \", string)"
   ]
  },
  {
   "cell_type": "code",
   "execution_count": 9,
   "metadata": {},
   "outputs": [],
   "source": [
    "tokenizer = AutoTokenizer.from_pretrained(\"openlm-research/open_llama_3b\")"
   ]
  },
  {
   "cell_type": "code",
   "execution_count": 5,
   "metadata": {},
   "outputs": [],
   "source": [
    "from glob import glob"
   ]
  },
  {
   "cell_type": "code",
   "execution_count": 12,
   "metadata": {},
   "outputs": [
    {
     "name": "stdout",
     "output_type": "stream",
     "text": [
      "['datasets/movie_datasets/imdb\\\\40_movies_html_subset.feather', 'datasets/movie_datasets/imdb\\\\41_movies_html_subset.feather', 'datasets/movie_datasets/imdb\\\\42_movies_html_subset.feather', 'datasets/movie_datasets/imdb\\\\43_movies_html_subset.feather', 'datasets/movie_datasets/imdb\\\\44_movies_html_subset.feather', 'datasets/movie_datasets/imdb\\\\45_movies_html_subset.feather', 'datasets/movie_datasets/imdb\\\\46_movies_html_subset.feather', 'datasets/movie_datasets/imdb\\\\47_movies_html_subset.feather', 'datasets/movie_datasets/imdb\\\\48_movies_html_subset.feather', 'datasets/movie_datasets/imdb\\\\49_movies_html_subset.feather', 'datasets/movie_datasets/imdb\\\\50_movies_html_subset.feather', 'datasets/movie_datasets/imdb\\\\51_movies_html_subset.feather', 'datasets/movie_datasets/imdb\\\\52_movies_html_subset.feather', 'datasets/movie_datasets/imdb\\\\53_movies_html_subset.feather', 'datasets/movie_datasets/imdb\\\\54_movies_html_subset.feather', 'datasets/movie_datasets/imdb\\\\55_movies_html_subset.feather', 'datasets/movie_datasets/imdb\\\\56_movies_html_subset.feather', 'datasets/movie_datasets/imdb\\\\57_movies_html_subset.feather', 'datasets/movie_datasets/imdb\\\\58_movies_html_subset.feather', 'datasets/movie_datasets/imdb\\\\59_movies_html_subset.feather', 'datasets/movie_datasets/imdb\\\\60_movies_html_subset.feather', 'datasets/movie_datasets/imdb\\\\61_movies_html_subset.feather']\n"
     ]
    }
   ],
   "source": [
    "filelist = glob(\"datasets/movie_datasets/imdb/*_movies_html_subset.feather\")\n",
    "print(filelist)"
   ]
  },
  {
   "cell_type": "code",
   "execution_count": 13,
   "metadata": {
    "id": "hVUjis9IHAjd"
   },
   "outputs": [],
   "source": [
    "# df = reduce(lambda x,y: pd.concat([x, y], axis=1), map(pd.read_feather, filelist))\n",
    "df = pd.read_feather(filelist[0])"
   ]
  },
  {
   "cell_type": "code",
   "execution_count": 14,
   "metadata": {},
   "outputs": [
    {
     "data": {
      "text/html": [
       "<div>\n",
       "<style scoped>\n",
       "    .dataframe tbody tr th:only-of-type {\n",
       "        vertical-align: middle;\n",
       "    }\n",
       "\n",
       "    .dataframe tbody tr th {\n",
       "        vertical-align: top;\n",
       "    }\n",
       "\n",
       "    .dataframe thead th {\n",
       "        text-align: right;\n",
       "    }\n",
       "</style>\n",
       "<table border=\"1\" class=\"dataframe\">\n",
       "  <thead>\n",
       "    <tr style=\"text-align: right;\">\n",
       "      <th></th>\n",
       "      <th>tconst</th>\n",
       "      <th>originalTitle</th>\n",
       "      <th>startYear</th>\n",
       "      <th>genres</th>\n",
       "      <th>runtimeMinutes</th>\n",
       "      <th>averageRating</th>\n",
       "      <th>numVotes</th>\n",
       "      <th>main_html</th>\n",
       "      <th>plot_html</th>\n",
       "    </tr>\n",
       "  </thead>\n",
       "  <tbody>\n",
       "    <tr>\n",
       "      <th>20000</th>\n",
       "      <td>tt6398990</td>\n",
       "      <td>Karaoke Knights</td>\n",
       "      <td>2018</td>\n",
       "      <td>Comedy</td>\n",
       "      <td>\\N</td>\n",
       "      <td>7.6</td>\n",
       "      <td>9.0</td>\n",
       "      <td>&lt;!DOCTYPE html&gt;&lt;html lang=\"en-US\" xmlns:og=\"ht...</td>\n",
       "      <td>&lt;!DOCTYPE html&gt;&lt;html lang=\"en-US\" xmlns:og=\"ht...</td>\n",
       "    </tr>\n",
       "    <tr>\n",
       "      <th>20001</th>\n",
       "      <td>tt6398994</td>\n",
       "      <td>Failing Grace</td>\n",
       "      <td>2018</td>\n",
       "      <td>Thriller</td>\n",
       "      <td>81</td>\n",
       "      <td>5.6</td>\n",
       "      <td>11.0</td>\n",
       "      <td>&lt;!DOCTYPE html&gt;&lt;html lang=\"en-US\" xmlns:og=\"ht...</td>\n",
       "      <td>&lt;!DOCTYPE html&gt;&lt;html lang=\"en-US\" xmlns:og=\"ht...</td>\n",
       "    </tr>\n",
       "    <tr>\n",
       "      <th>20002</th>\n",
       "      <td>tt6399092</td>\n",
       "      <td>Enormous: The Gorge Story</td>\n",
       "      <td>2019</td>\n",
       "      <td>Documentary,History,Music</td>\n",
       "      <td>65</td>\n",
       "      <td>8.0</td>\n",
       "      <td>74.0</td>\n",
       "      <td>&lt;!DOCTYPE html&gt;&lt;html lang=\"en-US\" xmlns:og=\"ht...</td>\n",
       "      <td>&lt;!DOCTYPE html&gt;&lt;html lang=\"en-US\" xmlns:og=\"ht...</td>\n",
       "    </tr>\n",
       "    <tr>\n",
       "      <th>20003</th>\n",
       "      <td>tt6399296</td>\n",
       "      <td>Inmate #1: The Rise of Danny Trejo</td>\n",
       "      <td>2019</td>\n",
       "      <td>Biography,Documentary</td>\n",
       "      <td>107</td>\n",
       "      <td>7.7</td>\n",
       "      <td>1248.0</td>\n",
       "      <td>&lt;!DOCTYPE html&gt;&lt;html lang=\"en-US\" xmlns:og=\"ht...</td>\n",
       "      <td>&lt;!DOCTYPE html&gt;&lt;html lang=\"en-US\" xmlns:og=\"ht...</td>\n",
       "    </tr>\n",
       "    <tr>\n",
       "      <th>20004</th>\n",
       "      <td>tt6399814</td>\n",
       "      <td>Freak in the Basement</td>\n",
       "      <td>2018</td>\n",
       "      <td>Horror</td>\n",
       "      <td>49</td>\n",
       "      <td>2.1</td>\n",
       "      <td>39.0</td>\n",
       "      <td>&lt;!DOCTYPE html&gt;&lt;html lang=\"en-US\" xmlns:og=\"ht...</td>\n",
       "      <td>&lt;!DOCTYPE html&gt;&lt;html lang=\"en-US\" xmlns:og=\"ht...</td>\n",
       "    </tr>\n",
       "  </tbody>\n",
       "</table>\n",
       "</div>"
      ],
      "text/plain": [
       "          tconst                       originalTitle  startYear  \\\n",
       "20000  tt6398990                     Karaoke Knights       2018   \n",
       "20001  tt6398994                       Failing Grace       2018   \n",
       "20002  tt6399092           Enormous: The Gorge Story       2019   \n",
       "20003  tt6399296  Inmate #1: The Rise of Danny Trejo       2019   \n",
       "20004  tt6399814               Freak in the Basement       2018   \n",
       "\n",
       "                          genres runtimeMinutes  averageRating  numVotes  \\\n",
       "20000                     Comedy             \\N            7.6       9.0   \n",
       "20001                   Thriller             81            5.6      11.0   \n",
       "20002  Documentary,History,Music             65            8.0      74.0   \n",
       "20003      Biography,Documentary            107            7.7    1248.0   \n",
       "20004                     Horror             49            2.1      39.0   \n",
       "\n",
       "                                               main_html  \\\n",
       "20000  <!DOCTYPE html><html lang=\"en-US\" xmlns:og=\"ht...   \n",
       "20001  <!DOCTYPE html><html lang=\"en-US\" xmlns:og=\"ht...   \n",
       "20002  <!DOCTYPE html><html lang=\"en-US\" xmlns:og=\"ht...   \n",
       "20003  <!DOCTYPE html><html lang=\"en-US\" xmlns:og=\"ht...   \n",
       "20004  <!DOCTYPE html><html lang=\"en-US\" xmlns:og=\"ht...   \n",
       "\n",
       "                                               plot_html  \n",
       "20000  <!DOCTYPE html><html lang=\"en-US\" xmlns:og=\"ht...  \n",
       "20001  <!DOCTYPE html><html lang=\"en-US\" xmlns:og=\"ht...  \n",
       "20002  <!DOCTYPE html><html lang=\"en-US\" xmlns:og=\"ht...  \n",
       "20003  <!DOCTYPE html><html lang=\"en-US\" xmlns:og=\"ht...  \n",
       "20004  <!DOCTYPE html><html lang=\"en-US\" xmlns:og=\"ht...  "
      ]
     },
     "execution_count": 14,
     "metadata": {},
     "output_type": "execute_result"
    }
   ],
   "source": [
    "df.head()"
   ]
  },
  {
   "cell_type": "code",
   "execution_count": 15,
   "metadata": {},
   "outputs": [
    {
     "name": "stderr",
     "output_type": "stream",
     "text": [
      "100%|██████████| 500/500 [00:22<00:00, 22.51it/s]\n"
     ]
    }
   ],
   "source": [
    "df[\"synopsis\"] = df[\"plot_html\"].progress_apply(extract_additional_information)"
   ]
  },
  {
   "cell_type": "code",
   "execution_count": 16,
   "metadata": {},
   "outputs": [
    {
     "name": "stderr",
     "output_type": "stream",
     "text": [
      "100%|██████████| 500/500 [00:00<00:00, 15624.15it/s]\n"
     ]
    }
   ],
   "source": [
    "df[\"synopsis\"] = df[\"synopsis\"].progress_apply(clean_string)"
   ]
  },
  {
   "cell_type": "code",
   "execution_count": 17,
   "metadata": {},
   "outputs": [
    {
     "data": {
      "text/html": [
       "<div>\n",
       "<style scoped>\n",
       "    .dataframe tbody tr th:only-of-type {\n",
       "        vertical-align: middle;\n",
       "    }\n",
       "\n",
       "    .dataframe tbody tr th {\n",
       "        vertical-align: top;\n",
       "    }\n",
       "\n",
       "    .dataframe thead th {\n",
       "        text-align: right;\n",
       "    }\n",
       "</style>\n",
       "<table border=\"1\" class=\"dataframe\">\n",
       "  <thead>\n",
       "    <tr style=\"text-align: right;\">\n",
       "      <th></th>\n",
       "      <th>tconst</th>\n",
       "      <th>originalTitle</th>\n",
       "      <th>startYear</th>\n",
       "      <th>genres</th>\n",
       "      <th>runtimeMinutes</th>\n",
       "      <th>averageRating</th>\n",
       "      <th>numVotes</th>\n",
       "      <th>main_html</th>\n",
       "      <th>plot_html</th>\n",
       "      <th>synopsis</th>\n",
       "    </tr>\n",
       "  </thead>\n",
       "  <tbody>\n",
       "    <tr>\n",
       "      <th>20000</th>\n",
       "      <td>tt6398990</td>\n",
       "      <td>Karaoke Knights</td>\n",
       "      <td>2018</td>\n",
       "      <td>Comedy</td>\n",
       "      <td>\\N</td>\n",
       "      <td>7.6</td>\n",
       "      <td>9.0</td>\n",
       "      <td>&lt;!DOCTYPE html&gt;&lt;html lang=\"en-US\" xmlns:og=\"ht...</td>\n",
       "      <td>&lt;!DOCTYPE html&gt;&lt;html lang=\"en-US\" xmlns:og=\"ht...</td>\n",
       "      <td>After a die-hard karaoke singer dies hard at a...</td>\n",
       "    </tr>\n",
       "    <tr>\n",
       "      <th>20001</th>\n",
       "      <td>tt6398994</td>\n",
       "      <td>Failing Grace</td>\n",
       "      <td>2018</td>\n",
       "      <td>Thriller</td>\n",
       "      <td>81</td>\n",
       "      <td>5.6</td>\n",
       "      <td>11.0</td>\n",
       "      <td>&lt;!DOCTYPE html&gt;&lt;html lang=\"en-US\" xmlns:og=\"ht...</td>\n",
       "      <td>&lt;!DOCTYPE html&gt;&lt;html lang=\"en-US\" xmlns:og=\"ht...</td>\n",
       "      <td>Five years ago, sisters Maggie (Curtis) and Gr...</td>\n",
       "    </tr>\n",
       "    <tr>\n",
       "      <th>20002</th>\n",
       "      <td>tt6399092</td>\n",
       "      <td>Enormous: The Gorge Story</td>\n",
       "      <td>2019</td>\n",
       "      <td>Documentary,History,Music</td>\n",
       "      <td>65</td>\n",
       "      <td>8.0</td>\n",
       "      <td>74.0</td>\n",
       "      <td>&lt;!DOCTYPE html&gt;&lt;html lang=\"en-US\" xmlns:og=\"ht...</td>\n",
       "      <td>&lt;!DOCTYPE html&gt;&lt;html lang=\"en-US\" xmlns:og=\"ht...</td>\n",
       "      <td>Despite overwhelming odds, a small family wine...</td>\n",
       "    </tr>\n",
       "    <tr>\n",
       "      <th>20003</th>\n",
       "      <td>tt6399296</td>\n",
       "      <td>Inmate #1: The Rise of Danny Trejo</td>\n",
       "      <td>2019</td>\n",
       "      <td>Biography,Documentary</td>\n",
       "      <td>107</td>\n",
       "      <td>7.7</td>\n",
       "      <td>1248.0</td>\n",
       "      <td>&lt;!DOCTYPE html&gt;&lt;html lang=\"en-US\" xmlns:og=\"ht...</td>\n",
       "      <td>&lt;!DOCTYPE html&gt;&lt;html lang=\"en-US\" xmlns:og=\"ht...</td>\n",
       "      <td>71 years in the making, Inmate #1: The Rise of...</td>\n",
       "    </tr>\n",
       "    <tr>\n",
       "      <th>20004</th>\n",
       "      <td>tt6399814</td>\n",
       "      <td>Freak in the Basement</td>\n",
       "      <td>2018</td>\n",
       "      <td>Horror</td>\n",
       "      <td>49</td>\n",
       "      <td>2.1</td>\n",
       "      <td>39.0</td>\n",
       "      <td>&lt;!DOCTYPE html&gt;&lt;html lang=\"en-US\" xmlns:og=\"ht...</td>\n",
       "      <td>&lt;!DOCTYPE html&gt;&lt;html lang=\"en-US\" xmlns:og=\"ht...</td>\n",
       "      <td>Nicolai Sctulman has got a big secret - in his...</td>\n",
       "    </tr>\n",
       "  </tbody>\n",
       "</table>\n",
       "</div>"
      ],
      "text/plain": [
       "          tconst                       originalTitle  startYear  \\\n",
       "20000  tt6398990                     Karaoke Knights       2018   \n",
       "20001  tt6398994                       Failing Grace       2018   \n",
       "20002  tt6399092           Enormous: The Gorge Story       2019   \n",
       "20003  tt6399296  Inmate #1: The Rise of Danny Trejo       2019   \n",
       "20004  tt6399814               Freak in the Basement       2018   \n",
       "\n",
       "                          genres runtimeMinutes  averageRating  numVotes  \\\n",
       "20000                     Comedy             \\N            7.6       9.0   \n",
       "20001                   Thriller             81            5.6      11.0   \n",
       "20002  Documentary,History,Music             65            8.0      74.0   \n",
       "20003      Biography,Documentary            107            7.7    1248.0   \n",
       "20004                     Horror             49            2.1      39.0   \n",
       "\n",
       "                                               main_html  \\\n",
       "20000  <!DOCTYPE html><html lang=\"en-US\" xmlns:og=\"ht...   \n",
       "20001  <!DOCTYPE html><html lang=\"en-US\" xmlns:og=\"ht...   \n",
       "20002  <!DOCTYPE html><html lang=\"en-US\" xmlns:og=\"ht...   \n",
       "20003  <!DOCTYPE html><html lang=\"en-US\" xmlns:og=\"ht...   \n",
       "20004  <!DOCTYPE html><html lang=\"en-US\" xmlns:og=\"ht...   \n",
       "\n",
       "                                               plot_html  \\\n",
       "20000  <!DOCTYPE html><html lang=\"en-US\" xmlns:og=\"ht...   \n",
       "20001  <!DOCTYPE html><html lang=\"en-US\" xmlns:og=\"ht...   \n",
       "20002  <!DOCTYPE html><html lang=\"en-US\" xmlns:og=\"ht...   \n",
       "20003  <!DOCTYPE html><html lang=\"en-US\" xmlns:og=\"ht...   \n",
       "20004  <!DOCTYPE html><html lang=\"en-US\" xmlns:og=\"ht...   \n",
       "\n",
       "                                                synopsis  \n",
       "20000  After a die-hard karaoke singer dies hard at a...  \n",
       "20001  Five years ago, sisters Maggie (Curtis) and Gr...  \n",
       "20002  Despite overwhelming odds, a small family wine...  \n",
       "20003  71 years in the making, Inmate #1: The Rise of...  \n",
       "20004  Nicolai Sctulman has got a big secret - in his...  "
      ]
     },
     "execution_count": 17,
     "metadata": {},
     "output_type": "execute_result"
    }
   ],
   "source": [
    "df.head()"
   ]
  },
  {
   "cell_type": "code",
   "execution_count": 18,
   "metadata": {},
   "outputs": [
    {
     "name": "stderr",
     "output_type": "stream",
     "text": [
      "  0%|          | 0/500 [00:00<?, ?it/s]Token indices sequence length is longer than the specified maximum sequence length for this model (6033 > 2048). Running this sequence through the model will result in indexing errors\n",
      "100%|██████████| 500/500 [00:00<00:00, 1486.52it/s]\n"
     ]
    }
   ],
   "source": [
    "df[\"synopsis_len\"] = df[\"synopsis\"].progress_apply(lambda x: tokenizer(x)[\"input_ids\"]).apply(len)"
   ]
  },
  {
   "cell_type": "code",
   "execution_count": 19,
   "metadata": {},
   "outputs": [
    {
     "data": {
      "text/plain": [
       "count     500.000000\n",
       "mean      200.548000\n",
       "std       482.553071\n",
       "min         1.000000\n",
       "25%        34.750000\n",
       "50%        70.500000\n",
       "75%       147.000000\n",
       "max      6033.000000\n",
       "Name: synopsis_len, dtype: float64"
      ]
     },
     "execution_count": 19,
     "metadata": {},
     "output_type": "execute_result"
    }
   ],
   "source": [
    "df[\"synopsis_len\"].describe()"
   ]
  },
  {
   "cell_type": "code",
   "execution_count": 20,
   "metadata": {},
   "outputs": [
    {
     "data": {
      "text/html": [
       "<div>\n",
       "<style scoped>\n",
       "    .dataframe tbody tr th:only-of-type {\n",
       "        vertical-align: middle;\n",
       "    }\n",
       "\n",
       "    .dataframe tbody tr th {\n",
       "        vertical-align: top;\n",
       "    }\n",
       "\n",
       "    .dataframe thead th {\n",
       "        text-align: right;\n",
       "    }\n",
       "</style>\n",
       "<table border=\"1\" class=\"dataframe\">\n",
       "  <thead>\n",
       "    <tr style=\"text-align: right;\">\n",
       "      <th></th>\n",
       "      <th>tconst</th>\n",
       "      <th>originalTitle</th>\n",
       "      <th>startYear</th>\n",
       "      <th>genres</th>\n",
       "      <th>runtimeMinutes</th>\n",
       "      <th>averageRating</th>\n",
       "      <th>numVotes</th>\n",
       "      <th>main_html</th>\n",
       "      <th>plot_html</th>\n",
       "      <th>synopsis</th>\n",
       "      <th>synopsis_len</th>\n",
       "    </tr>\n",
       "  </thead>\n",
       "  <tbody>\n",
       "    <tr>\n",
       "      <th>20002</th>\n",
       "      <td>tt6399092</td>\n",
       "      <td>Enormous: The Gorge Story</td>\n",
       "      <td>2019</td>\n",
       "      <td>Documentary,History,Music</td>\n",
       "      <td>65</td>\n",
       "      <td>8.0</td>\n",
       "      <td>74.0</td>\n",
       "      <td>&lt;!DOCTYPE html&gt;&lt;html lang=\"en-US\" xmlns:og=\"ht...</td>\n",
       "      <td>&lt;!DOCTYPE html&gt;&lt;html lang=\"en-US\" xmlns:og=\"ht...</td>\n",
       "      <td>Despite overwhelming odds, a small family wine...</td>\n",
       "      <td>83</td>\n",
       "    </tr>\n",
       "    <tr>\n",
       "      <th>20004</th>\n",
       "      <td>tt6399814</td>\n",
       "      <td>Freak in the Basement</td>\n",
       "      <td>2018</td>\n",
       "      <td>Horror</td>\n",
       "      <td>49</td>\n",
       "      <td>2.1</td>\n",
       "      <td>39.0</td>\n",
       "      <td>&lt;!DOCTYPE html&gt;&lt;html lang=\"en-US\" xmlns:og=\"ht...</td>\n",
       "      <td>&lt;!DOCTYPE html&gt;&lt;html lang=\"en-US\" xmlns:og=\"ht...</td>\n",
       "      <td>Nicolai Sctulman has got a big secret - in his...</td>\n",
       "      <td>80</td>\n",
       "    </tr>\n",
       "    <tr>\n",
       "      <th>20007</th>\n",
       "      <td>tt6401142</td>\n",
       "      <td>Spiritus</td>\n",
       "      <td>2018</td>\n",
       "      <td>Horror</td>\n",
       "      <td>89</td>\n",
       "      <td>6.0</td>\n",
       "      <td>6.0</td>\n",
       "      <td>&lt;!DOCTYPE html&gt;&lt;html lang=\"en-US\" xmlns:og=\"ht...</td>\n",
       "      <td>&lt;!DOCTYPE html&gt;&lt;html lang=\"en-US\" xmlns:og=\"ht...</td>\n",
       "      <td>One year after the mysterious death of Marjori...</td>\n",
       "      <td>123</td>\n",
       "    </tr>\n",
       "    <tr>\n",
       "      <th>20008</th>\n",
       "      <td>tt6402536</td>\n",
       "      <td>Friends, Foes &amp; Fireworks</td>\n",
       "      <td>2018</td>\n",
       "      <td>Drama</td>\n",
       "      <td>75</td>\n",
       "      <td>5.5</td>\n",
       "      <td>64.0</td>\n",
       "      <td>&lt;!DOCTYPE html&gt;&lt;html lang=\"en-US\" xmlns:og=\"ht...</td>\n",
       "      <td>&lt;!DOCTYPE html&gt;&lt;html lang=\"en-US\" xmlns:og=\"ht...</td>\n",
       "      <td>Fiona has recently received a life-changing he...</td>\n",
       "      <td>84</td>\n",
       "    </tr>\n",
       "    <tr>\n",
       "      <th>20010</th>\n",
       "      <td>tt6406848</td>\n",
       "      <td>Dublin Oldschool</td>\n",
       "      <td>2018</td>\n",
       "      <td>Drama</td>\n",
       "      <td>95</td>\n",
       "      <td>6.0</td>\n",
       "      <td>729.0</td>\n",
       "      <td>&lt;!DOCTYPE html&gt;&lt;html lang=\"en-US\" xmlns:og=\"ht...</td>\n",
       "      <td>&lt;!DOCTYPE html&gt;&lt;html lang=\"en-US\" xmlns:og=\"ht...</td>\n",
       "      <td>Join Jason, a wannabe DJ, on a drug-fuelled tr...</td>\n",
       "      <td>125</td>\n",
       "    </tr>\n",
       "    <tr>\n",
       "      <th>...</th>\n",
       "      <td>...</td>\n",
       "      <td>...</td>\n",
       "      <td>...</td>\n",
       "      <td>...</td>\n",
       "      <td>...</td>\n",
       "      <td>...</td>\n",
       "      <td>...</td>\n",
       "      <td>...</td>\n",
       "      <td>...</td>\n",
       "      <td>...</td>\n",
       "      <td>...</td>\n",
       "    </tr>\n",
       "    <tr>\n",
       "      <th>20483</th>\n",
       "      <td>tt6623390</td>\n",
       "      <td>The House of Violent Desire</td>\n",
       "      <td>2018</td>\n",
       "      <td>Horror,Mystery,Thriller</td>\n",
       "      <td>117</td>\n",
       "      <td>3.3</td>\n",
       "      <td>323.0</td>\n",
       "      <td>&lt;!DOCTYPE html&gt;&lt;html lang=\"en-US\" xmlns:og=\"ht...</td>\n",
       "      <td>&lt;!DOCTYPE html&gt;&lt;html lang=\"en-US\" xmlns:og=\"ht...</td>\n",
       "      <td>In a remote hill top mansion, a mysterious str...</td>\n",
       "      <td>123</td>\n",
       "    </tr>\n",
       "    <tr>\n",
       "      <th>20484</th>\n",
       "      <td>tt6624078</td>\n",
       "      <td>More Blood!</td>\n",
       "      <td>2018</td>\n",
       "      <td>Documentary,Horror</td>\n",
       "      <td>\\N</td>\n",
       "      <td>8.3</td>\n",
       "      <td>23.0</td>\n",
       "      <td>&lt;!DOCTYPE html&gt;&lt;html lang=\"en-US\" xmlns:og=\"ht...</td>\n",
       "      <td>&lt;!DOCTYPE html&gt;&lt;html lang=\"en-US\" xmlns:og=\"ht...</td>\n",
       "      <td>Have you ever wondered why you root for people...</td>\n",
       "      <td>82</td>\n",
       "    </tr>\n",
       "    <tr>\n",
       "      <th>20488</th>\n",
       "      <td>tt6627630</td>\n",
       "      <td>Cycle</td>\n",
       "      <td>2018</td>\n",
       "      <td>Comedy</td>\n",
       "      <td>96</td>\n",
       "      <td>8.1</td>\n",
       "      <td>619.0</td>\n",
       "      <td>&lt;!DOCTYPE html&gt;&lt;html lang=\"en-US\" xmlns:og=\"ht...</td>\n",
       "      <td>&lt;!DOCTYPE html&gt;&lt;html lang=\"en-US\" xmlns:og=\"ht...</td>\n",
       "      <td>Keshav a well respected astrologer in his vill...</td>\n",
       "      <td>84</td>\n",
       "    </tr>\n",
       "    <tr>\n",
       "      <th>20497</th>\n",
       "      <td>tt6632664</td>\n",
       "      <td>La chute de Sparte</td>\n",
       "      <td>2018</td>\n",
       "      <td>Drama</td>\n",
       "      <td>93</td>\n",
       "      <td>6.0</td>\n",
       "      <td>253.0</td>\n",
       "      <td>&lt;!DOCTYPE html&gt;&lt;html lang=\"en-US\" xmlns:og=\"ht...</td>\n",
       "      <td>&lt;!DOCTYPE html&gt;&lt;html lang=\"en-US\" xmlns:og=\"ht...</td>\n",
       "      <td>When you're young, sometimes it feels like the...</td>\n",
       "      <td>144</td>\n",
       "    </tr>\n",
       "    <tr>\n",
       "      <th>20499</th>\n",
       "      <td>tt6633182</td>\n",
       "      <td>Dark Money</td>\n",
       "      <td>2018</td>\n",
       "      <td>Documentary</td>\n",
       "      <td>99</td>\n",
       "      <td>7.1</td>\n",
       "      <td>922.0</td>\n",
       "      <td>&lt;!DOCTYPE html&gt;&lt;html lang=\"en-US\" xmlns:og=\"ht...</td>\n",
       "      <td>&lt;!DOCTYPE html&gt;&lt;html lang=\"en-US\" xmlns:og=\"ht...</td>\n",
       "      <td>DARK MONEY, a political thriller, examines one...</td>\n",
       "      <td>147</td>\n",
       "    </tr>\n",
       "  </tbody>\n",
       "</table>\n",
       "<p>116 rows × 11 columns</p>\n",
       "</div>"
      ],
      "text/plain": [
       "          tconst                originalTitle  startYear  \\\n",
       "20002  tt6399092    Enormous: The Gorge Story       2019   \n",
       "20004  tt6399814        Freak in the Basement       2018   \n",
       "20007  tt6401142                     Spiritus       2018   \n",
       "20008  tt6402536    Friends, Foes & Fireworks       2018   \n",
       "20010  tt6406848             Dublin Oldschool       2018   \n",
       "...          ...                          ...        ...   \n",
       "20483  tt6623390  The House of Violent Desire       2018   \n",
       "20484  tt6624078                  More Blood!       2018   \n",
       "20488  tt6627630                        Cycle       2018   \n",
       "20497  tt6632664           La chute de Sparte       2018   \n",
       "20499  tt6633182                   Dark Money       2018   \n",
       "\n",
       "                          genres runtimeMinutes  averageRating  numVotes  \\\n",
       "20002  Documentary,History,Music             65            8.0      74.0   \n",
       "20004                     Horror             49            2.1      39.0   \n",
       "20007                     Horror             89            6.0       6.0   \n",
       "20008                      Drama             75            5.5      64.0   \n",
       "20010                      Drama             95            6.0     729.0   \n",
       "...                          ...            ...            ...       ...   \n",
       "20483    Horror,Mystery,Thriller            117            3.3     323.0   \n",
       "20484         Documentary,Horror             \\N            8.3      23.0   \n",
       "20488                     Comedy             96            8.1     619.0   \n",
       "20497                      Drama             93            6.0     253.0   \n",
       "20499                Documentary             99            7.1     922.0   \n",
       "\n",
       "                                               main_html  \\\n",
       "20002  <!DOCTYPE html><html lang=\"en-US\" xmlns:og=\"ht...   \n",
       "20004  <!DOCTYPE html><html lang=\"en-US\" xmlns:og=\"ht...   \n",
       "20007  <!DOCTYPE html><html lang=\"en-US\" xmlns:og=\"ht...   \n",
       "20008  <!DOCTYPE html><html lang=\"en-US\" xmlns:og=\"ht...   \n",
       "20010  <!DOCTYPE html><html lang=\"en-US\" xmlns:og=\"ht...   \n",
       "...                                                  ...   \n",
       "20483  <!DOCTYPE html><html lang=\"en-US\" xmlns:og=\"ht...   \n",
       "20484  <!DOCTYPE html><html lang=\"en-US\" xmlns:og=\"ht...   \n",
       "20488  <!DOCTYPE html><html lang=\"en-US\" xmlns:og=\"ht...   \n",
       "20497  <!DOCTYPE html><html lang=\"en-US\" xmlns:og=\"ht...   \n",
       "20499  <!DOCTYPE html><html lang=\"en-US\" xmlns:og=\"ht...   \n",
       "\n",
       "                                               plot_html  \\\n",
       "20002  <!DOCTYPE html><html lang=\"en-US\" xmlns:og=\"ht...   \n",
       "20004  <!DOCTYPE html><html lang=\"en-US\" xmlns:og=\"ht...   \n",
       "20007  <!DOCTYPE html><html lang=\"en-US\" xmlns:og=\"ht...   \n",
       "20008  <!DOCTYPE html><html lang=\"en-US\" xmlns:og=\"ht...   \n",
       "20010  <!DOCTYPE html><html lang=\"en-US\" xmlns:og=\"ht...   \n",
       "...                                                  ...   \n",
       "20483  <!DOCTYPE html><html lang=\"en-US\" xmlns:og=\"ht...   \n",
       "20484  <!DOCTYPE html><html lang=\"en-US\" xmlns:og=\"ht...   \n",
       "20488  <!DOCTYPE html><html lang=\"en-US\" xmlns:og=\"ht...   \n",
       "20497  <!DOCTYPE html><html lang=\"en-US\" xmlns:og=\"ht...   \n",
       "20499  <!DOCTYPE html><html lang=\"en-US\" xmlns:og=\"ht...   \n",
       "\n",
       "                                                synopsis  synopsis_len  \n",
       "20002  Despite overwhelming odds, a small family wine...            83  \n",
       "20004  Nicolai Sctulman has got a big secret - in his...            80  \n",
       "20007  One year after the mysterious death of Marjori...           123  \n",
       "20008  Fiona has recently received a life-changing he...            84  \n",
       "20010  Join Jason, a wannabe DJ, on a drug-fuelled tr...           125  \n",
       "...                                                  ...           ...  \n",
       "20483  In a remote hill top mansion, a mysterious str...           123  \n",
       "20484  Have you ever wondered why you root for people...            82  \n",
       "20488  Keshav a well respected astrologer in his vill...            84  \n",
       "20497  When you're young, sometimes it feels like the...           144  \n",
       "20499  DARK MONEY, a political thriller, examines one...           147  \n",
       "\n",
       "[116 rows x 11 columns]"
      ]
     },
     "execution_count": 20,
     "metadata": {},
     "output_type": "execute_result"
    }
   ],
   "source": [
    "df[(df[\"synopsis_len\"]>75) & (df[\"synopsis_len\"]<150)]"
   ]
  },
  {
   "cell_type": "code",
   "execution_count": 21,
   "metadata": {},
   "outputs": [],
   "source": [
    "idx = 10\n",
    "synopsis = df.iloc[idx][\"synopsis\"]\n",
    "title = df.iloc[idx][\"originalTitle\"]"
   ]
  },
  {
   "cell_type": "code",
   "execution_count": 26,
   "metadata": {},
   "outputs": [
    {
     "name": "stdout",
     "output_type": "stream",
     "text": [
      "\n",
      "Instruction: Create a set of 2 question and answer pairs based on a provided movie description.\n",
      "Description: How I failed, became the subject of my subject, made a self-reflexive film - or nearly all about religion, monsters and syncretism in Ghana? I started 2011 with filming about the West African concepts of monsters. But monsters don't seem to exist in Ghana and I was surprised that I went into the trap of universal ideas. But then I met David. And when he brought me to the shrine of Mamishie Rasta, he involved himself into a ritual. The conflict he faced after this was due to his Christian belief. This was the turning point of WE ARE THE OTHERS and I asked myself many questions as: What is African (Traditional) Religion at all? What happens when people combine different religions? And does monstrosity re-enters at some point?—Antje Akkermann\n",
      "Q&A pairs:\n",
      "[\n",
      " {\n",
      "   \"question\": \"What is the movie We Are The Others about?\",\n",
      "   \"answer\":\"The movie is a documentary about the filmmaker's experience in Ghana, where she discovered that there are no monsters as she had initially thought.\"\n",
      " },\n",
      " {\n",
      "   \"question\": \"Which location(s) are featured in the movie We Are The Others?\",\n",
      "   \"answer\":\"Ghana\"\n",
      " },\n",
      "  {\n",
      "   \"question\": \"Which location(s) are featured in the movie We Are The Others?\",\n",
      "   \"answer\":\"Ghana\"\n",
      " },\n",
      "]\n",
      "Instruction: Create a set of 2 question and answer pairs based on a provided movie description.\n",
      "1. The movie name `Dublin Oldschool` should be mentioned in each question surrounded by double quotes\n",
      "2. Output should be in a JSON list like [{\"question\":\"\", \"answer\"}, {\"question\":\"\", \"answer\":\"\"},...].\n",
      "Description: Join Jason, a wannabe DJ, on a drug-fuelled trip through the streets of Dublin as he stumbles from one session to another. Somewhere between the DJs, decks, and drug busts he stumbles across a familiar face from the past, his brother Daniel. Daniel, an educated heroin addict, is living on the streets of Dublin. The brothers haven't seen or spoken to each other in years but over a lost weekend they reconnect and reminisce over raves, tunes and their troubled past. Two brothers living very different lives might have more in common than they think.\n",
      "Q&A pairs:\n",
      "\n"
     ]
    }
   ],
   "source": [
    "prompt=f\"\"\"\n",
    "Instruction: Create a set of 2 question and answer pairs based on a provided movie description.\n",
    "Description: How I failed, became the subject of my subject, made a self-reflexive film - or nearly all about religion, monsters and syncretism in Ghana? I started 2011 with filming about the West African concepts of monsters. But monsters don't seem to exist in Ghana and I was surprised that I went into the trap of universal ideas. But then I met David. And when he brought me to the shrine of Mamishie Rasta, he involved himself into a ritual. The conflict he faced after this was due to his Christian belief. This was the turning point of WE ARE THE OTHERS and I asked myself many questions as: What is African (Traditional) Religion at all? What happens when people combine different religions? And does monstrosity re-enters at some point?—Antje Akkermann\n",
    "Q&A pairs:\n",
    "[\n",
    " {{\n",
    "   \"question\": \"What is the movie We Are The Others about?\",\n",
    "   \"answer\":\"The movie is a documentary about the filmmaker's experience in Ghana, where she discovered that there are no monsters as she had initially thought.\"\n",
    " }},\n",
    " {{\n",
    "   \"question\": \"Which location(s) are featured in the movie We Are The Others?\",\n",
    "   \"answer\":\"Ghana\"\n",
    " }},\n",
    "  {{\n",
    "   \"question\": \"Which location(s) are featured in the movie We Are The Others?\",\n",
    "   \"answer\":\"Ghana\"\n",
    " }},\n",
    "]\n",
    "Instruction: Create a set of 2 question and answer pairs based on a provided movie description.\n",
    "1. The movie name `{title.strip()}` should be mentioned in each question surrounded by double quotes\n",
    "2. Output should be in a JSON list like [{{\"question\":\"\", \"answer\"}}, {{\"question\":\"\", \"answer\":\"\"}},...].\n",
    "Description: {synopsis.strip()}\n",
    "Q&A pairs:\n",
    "\"\"\"\n",
    "print(prompt)"
   ]
  },
  {
   "cell_type": "code",
   "execution_count": 28,
   "metadata": {},
   "outputs": [
    {
     "name": "stdout",
     "output_type": "stream",
     "text": [
      "[\n",
      "  {\n",
      "   \"question\": \"What is Dublin Oldschool about?\",\n",
      "   \"answer\":\"A wannabe DJ and his heroin addict brother\"\n",
      " },\n",
      " {\n",
      "   \"question\": \"What drug does Daniel use?\",\n",
      "   \"answer\":\"Heroin\"\n",
      " },\n",
      "]\n"
     ]
    }
   ],
   "source": [
    "print(generate_questions_palm2(prompt))"
   ]
  },
  {
   "cell_type": "code",
   "execution_count": 29,
   "metadata": {},
   "outputs": [],
   "source": [
    "import pandas as pd"
   ]
  },
  {
   "cell_type": "code",
   "execution_count": 30,
   "metadata": {},
   "outputs": [],
   "source": [
    "df = pd.read_feather(\"./datasets/movie_datasets/imdb/movie_html_prompt_0.feather\")"
   ]
  },
  {
   "cell_type": "code",
   "execution_count": 36,
   "metadata": {},
   "outputs": [
    {
     "data": {
      "text/plain": [
       "'\\n [\\n {\\n   \"question\": \"What is the subject of the movie Enormous: The Gorge Story?\",\\n   \"answer\":\"The Gorge, a Pollstar, Billboard, and ACM winning music venue\"\\n },\\n {\\n   \"question\": \"What artists had legendary pasts at \"The Gorge\", the subject of the movie Enormous: The Gorge Story?\",\\n   \"answer\":\"Dave Matthews, Jason Mraz, and Pearl Jam\"\\n },\\n]'"
      ]
     },
     "execution_count": 36,
     "metadata": {},
     "output_type": "execute_result"
    }
   ],
   "source": [
    "df.iloc[7][\"palm2_op\"]"
   ]
  },
  {
   "cell_type": "code",
   "execution_count": null,
   "metadata": {},
   "outputs": [],
   "source": []
  }
 ],
 "metadata": {
  "colab": {
   "provenance": []
  },
  "kernelspec": {
   "display_name": "stevens",
   "language": "python",
   "name": "python3"
  },
  "language_info": {
   "codemirror_mode": {
    "name": "ipython",
    "version": 3
   },
   "file_extension": ".py",
   "mimetype": "text/x-python",
   "name": "python",
   "nbconvert_exporter": "python",
   "pygments_lexer": "ipython3",
   "version": "3.11.5"
  }
 },
 "nbformat": 4,
 "nbformat_minor": 4
}
